{
 "cells": [
  {
   "cell_type": "code",
   "execution_count": null,
   "metadata": {},
   "outputs": [],
   "source": [
    "import pymc3 as pm\n",
    "import theano\n",
    "import theano.tensor as tt\n",
    "import numpy as np\n",
    "\n",
    "import matplotlib.pyplot as plt\n",
    "import seaborn as sns\n"
   ]
  },
  {
   "cell_type": "code",
   "execution_count": null,
   "metadata": {},
   "outputs": [],
   "source": [
    "def build_model0(\n",
    "    s,\n",
    "    m,\n",
    "    gamma_hyper=1e-2,\n",
    "    pi_hyper=1e-1,\n",
    "    rho_hyper=1e-0,\n",
    "    epsilon_hyper=0.01,\n",
    "    alpha_hyper=1000.0,\n",
    "):\n",
    "    \n",
    "    n, g = m.shape\n",
    "\n",
    "    with pm.Model() as model:\n",
    "        _y = pm.Data('_y', np.zeros_like(m))\n",
    "        _m = pm.Data('_m', m)\n",
    "        \n",
    "        gamma = pm.Beta('gamma', alpha=gamma_hyper, beta=gamma_hyper, shape=(s, g))\n",
    "        rho = pm.Dirichlet('rho', rho_hyper * tt.ones(s))\n",
    "        pi = pm.Dirichlet('pi', pi_hyper * rho * s, shape=(n, s))\n",
    "        \n",
    "        epsilon = pm.Beta('epsilon', alpha=1.0, beta=1 / epsilon_hyper, shape=(n, 1))\n",
    "        alpha = pm.Gamma('alpha', alpha=alpha_hyper, beta=1.0)\n",
    "        \n",
    "        p_noerr = pm.Deterministic(\"p_noerr\", pm.math.dot(pi, gamma))\n",
    "        p = pm.Deterministic(\n",
    "            \"p\", (1 - epsilon / 2) * (p_noerr) + (epsilon / 2) * (1 - p_noerr)\n",
    "        )\n",
    "\n",
    "        y = pm.BetaBinomial(\n",
    "            \"y\", alpha=alpha * p, beta=alpha * (1 - p), n=_m, observed=_y,\n",
    "        )\n",
    "\n",
    "    return model\n",
    "\n",
    "\n",
    "def build_model1(\n",
    "    s,\n",
    "    m,\n",
    "    gamma_hyper=1e-2,\n",
    "    pi_hyper=1e-1,\n",
    "    rho_hyper=1e-0,\n",
    "    epsilon_hyper=0.01,\n",
    "    alpha_hyper=1000.0,\n",
    "    y=None,\n",
    "):\n",
    "    \n",
    "    n, g = m.shape\n",
    "\n",
    "    with pm.Model() as model:        \n",
    "        gamma = pm.Beta('gamma', alpha=gamma_hyper, beta=gamma_hyper, shape=(s, g))\n",
    "        rho = pm.Dirichlet('rho', rho_hyper * tt.ones(s))\n",
    "        pi = pm.Dirichlet('pi', pi_hyper * rho * s, shape=(n, s))\n",
    "        \n",
    "        epsilon = pm.Beta('epsilon', alpha=1.0, beta=1 / epsilon_hyper, shape=(n, 1))\n",
    "        alpha = pm.Gamma('alpha', alpha=alpha_hyper, beta=1.0)\n",
    "        \n",
    "        p_noerr = pm.Deterministic(\"p_noerr\", pm.math.dot(pi, gamma))\n",
    "        p = pm.Deterministic(\n",
    "            \"p\", (1 - epsilon / 2) * (p_noerr) + (epsilon / 2) * (1 - p_noerr)\n",
    "        )\n",
    "\n",
    "        y = pm.BetaBinomial(\n",
    "            \"y\", alpha=alpha * p, beta=alpha * (1 - p), n=m, observed=y,\n",
    "        )\n",
    "\n",
    "    return model\n",
    "    "
   ]
  },
  {
   "cell_type": "code",
   "execution_count": null,
   "metadata": {},
   "outputs": [],
   "source": [
    "model0 = build_model0(3, np.ones((10, 20)))\n",
    "model0"
   ]
  },
  {
   "cell_type": "code",
   "execution_count": null,
   "metadata": {},
   "outputs": [],
   "source": [
    "pm.model_to_graphviz(model0)"
   ]
  },
  {
   "cell_type": "code",
   "execution_count": null,
   "metadata": {},
   "outputs": [],
   "source": [
    "with model0:\n",
    "    prior_pred = pm.sample_prior_predictive(samples=1)"
   ]
  },
  {
   "cell_type": "code",
   "execution_count": null,
   "metadata": {},
   "outputs": [],
   "source": [
    "plt.plot(prior_pred['rho'])"
   ]
  },
  {
   "cell_type": "code",
   "execution_count": null,
   "metadata": {},
   "outputs": [],
   "source": [
    "sns.heatmap(prior_pred['pi'])"
   ]
  },
  {
   "cell_type": "code",
   "execution_count": null,
   "metadata": {},
   "outputs": [],
   "source": [
    "sns.heatmap(prior_pred['gamma'])"
   ]
  },
  {
   "cell_type": "code",
   "execution_count": null,
   "metadata": {},
   "outputs": [],
   "source": [
    "model0._y.set_value(prior_pred['y'])\n",
    "with model0:\n",
    "    trace = pm.sample(return_inferencedata=True)"
   ]
  },
  {
   "cell_type": "code",
   "execution_count": null,
   "metadata": {},
   "outputs": [],
   "source": [
    "model0._y.set_value(prior_pred['y'])\n",
    "with model0:\n",
    "    mapest = pm.find_MAP()"
   ]
  },
  {
   "cell_type": "code",
   "execution_count": null,
   "metadata": {},
   "outputs": [],
   "source": [
    "pm.__version__"
   ]
  },
  {
   "cell_type": "code",
   "execution_count": null,
   "metadata": {},
   "outputs": [],
   "source": [
    "for chain_i in range(4):\n",
    "    plt.plot(trace.posterior['pi'][chain_i,:,6,0], label=chain_i)\n",
    "plt.legend()"
   ]
  }
 ],
 "metadata": {
  "kernelspec": {
   "display_name": "Python 3",
   "language": "python",
   "name": "python3"
  },
  "language_info": {
   "codemirror_mode": {
    "name": "ipython",
    "version": 3
   },
   "file_extension": ".py",
   "mimetype": "text/x-python",
   "name": "python",
   "nbconvert_exporter": "python",
   "pygments_lexer": "ipython3",
   "version": "3.8.5"
  },
  "toc": {
   "base_numbering": 1,
   "nav_menu": {},
   "number_sections": true,
   "sideBar": true,
   "skip_h1_title": false,
   "title_cell": "Table of Contents",
   "title_sidebar": "Contents",
   "toc_cell": false,
   "toc_position": {},
   "toc_section_display": true,
   "toc_window_display": false
  }
 },
 "nbformat": 4,
 "nbformat_minor": 4
}
{
 "cells": [
  {
   "cell_type": "code",
   "execution_count": null,
   "metadata": {},
   "outputs": [],
   "source": [
    "%run scripts/strain_facts.py \\\n",
    "                --cvrg-thresh 0.05 \\\n",
    "                --nstrain 100 \\\n",
    "                --npos 6000 \\\n",
    "                --gamma-hyper 0.001 \\\n",
    "                --rho-hyper 1e-05 \\\n",
    "                --pi-hyper 0.1 \\\n",
    "                --epsilon-hyper 0.01 \\\n",
    "                --alpha-hyper 500 \\\n",
    "                --collapse 0.05 \\\n",
    "                --device cuda \\\n",
    "                --learning-rate 0.50 \\\n",
    "                --stop-at 100 \\\n",
    "                --max-iter 10000 \\\n",
    "                --outpath test.nc \\\n",
    "                data/ucfmt.sp-100022.gtpro-pileup.nc"
   ]
  },
  {
   "cell_type": "code",
   "execution_count": null,
   "metadata": {},
   "outputs": [],
   "source": [
    "model_fit = conditioned_model(\n",
    "    model,\n",
    "    data=dict(\n",
    "#         alpha_hyper=100.,\n",
    "        alpha=np.ones(n) * 100.,\n",
    "#         epsilon_hyper=1e-2,\n",
    "        epsilon=np.ones(n) * 1e-2,\n",
    "        pi_hyper=1e-0 / s,\n",
    "        y=y_obs_ss.values,\n",
    "    ),\n",
    "    s=s,\n",
    "    m=m_ss.values,\n",
    "    gamma_hyper=1e-2,\n",
    "    dtype=torch.float32,\n",
    "    device=args.device,\n",
    ")\n",
    "\n",
    "info(\"Fitting model.\")\n",
    "mapest, history = find_map(\n",
    "    model_fit,\n",
    "    lag=args.lag,\n",
    "    stop_at=args.stop_at,\n",
    "    learning_rate=5e-1,\n",
    "    max_iter=int(1e4),\n",
    "    clip_norm=args.clip_norm,\n",
    ")\n",
    "\n",
    "if args.device.startswith('cuda'):\n",
    "    torch.cuda.empty_cache()\n",
    "\n",
    "info(\"Finished fitting model.\")\n",
    "result = xr.Dataset(\n",
    "    {\n",
    "        \"gamma\": ([\"strain\", \"position\"], mapest[\"gamma\"]),\n",
    "        \"rho\": ([\"strain\"], mapest[\"rho\"]),\n",
    "        \"alpha_hyper\": ([], mapest[\"alpha_hyper\"]),\n",
    "        \"pi\": ([\"library_id\", \"strain\"], mapest[\"pi\"]),\n",
    "        \"epsilon\": ([\"library_id\"], mapest[\"epsilon\"]),\n",
    "        \"rho_hyper\": ([], mapest[\"rho_hyper\"]),\n",
    "        \"epsilon_hyper\": ([], mapest[\"epsilon_hyper\"]),\n",
    "        \"pi_hyper\": ([], mapest[\"pi_hyper\"]),\n",
    "        \"alpha\": ([\"library_id\"], mapest[\"alpha\"]),\n",
    "        \"p_noerr\": ([\"library_id\", \"position\"], mapest[\"p_noerr\"]),\n",
    "        \"p\": ([\"library_id\", \"position\"], mapest[\"p\"]),\n",
    "        \"y\": ([\"library_id\", \"position\"], y_obs_ss),\n",
    "        \"m\": ([\"library_id\", \"position\"], m_ss),\n",
    "        \"elbo_trace\": ([\"iteration\"], history),\n",
    "    },\n",
    "    coords=dict(\n",
    "        strain=np.arange(s),\n",
    "        position=data_fit.position,\n",
    "        library_id=data_fit.library_id,\n",
    "    ),\n",
    ")"
   ]
  },
  {
   "cell_type": "raw",
   "metadata": {},
   "source": [
    "import torch\n",
    "del model_fit\n",
    "pyro.clear_param_store()\n",
    "torch.cuda.empty_cache()"
   ]
  },
  {
   "cell_type": "markdown",
   "metadata": {},
   "source": [
    "## Check Fit"
   ]
  },
  {
   "cell_type": "code",
   "execution_count": null,
   "metadata": {},
   "outputs": [],
   "source": [
    "plot_loss_history(result.elbo_trace.values)"
   ]
  },
  {
   "cell_type": "code",
   "execution_count": null,
   "metadata": {},
   "outputs": [],
   "source": [
    "plt.scatter(result.pi.mean('library_id'), result.rho)"
   ]
  },
  {
   "cell_type": "code",
   "execution_count": null,
   "metadata": {},
   "outputs": [],
   "source": [
    "np.abs(result.y - (result.p * result.m)).sum() / result.m.sum()"
   ]
  },
  {
   "cell_type": "code",
   "execution_count": null,
   "metadata": {},
   "outputs": [],
   "source": [
    "import seaborn as sns\n",
    "\n",
    "sns.heatmap(result.gamma.to_pandas())"
   ]
  },
  {
   "cell_type": "code",
   "execution_count": null,
   "metadata": {},
   "outputs": [],
   "source": [
    "sns.clustermap(result.pi.to_pandas())"
   ]
  },
  {
   "cell_type": "code",
   "execution_count": null,
   "metadata": {},
   "outputs": [],
   "source": [
    "plt.hist(result.pi.max('strain'), bins=20)\n",
    "#plt.yscale('log')\n",
    "None"
   ]
  },
  {
   "cell_type": "raw",
   "metadata": {},
   "source": [
    "import seaborn as sns\n",
    "import matplotlib as mpl\n",
    "import matplotlib.pyplot as plt\n",
    "\n",
    "sns.clustermap(\n",
    "    result.pi.to_pandas(),\n",
    "    metric='cosine',\n",
    "    xticklabels=1, yticklabels=1,\n",
    "    norm=mpl.colors.PowerNorm(1/5),\n",
    ")"
   ]
  },
  {
   "cell_type": "raw",
   "metadata": {},
   "source": [
    "result = xr.load_dataset('data/core_and_ucfmt/100022/gtpro.sfacts.nc')"
   ]
  },
  {
   "cell_type": "code",
   "execution_count": null,
   "metadata": {},
   "outputs": [],
   "source": [
    "info(\"Building genotyping model.\")\n",
    "data_geno = data.sel(library_id=suff_cvrg_samples).isel(position=slice(0, 1000))\n",
    "m = data_geno.sum(\"allele\")\n",
    "n, g = m.shape\n",
    "y_obs = data_geno.sel(allele=\"alt\")\n",
    "s = args.nstrains\n",
    "info(f\"Model shape: n={n}, g={g}, s={s}\")\n",
    "model_geno = conditioned_model(\n",
    "    model,\n",
    "    data=dict(\n",
    "        alpha=np.ones(n) * args.alpha,\n",
    "        epsilon_hyper=args.epsilon_hyper,\n",
    "        y=y_obs.values,\n",
    "        pi=mapest['pi']\n",
    "    ),\n",
    "    s=s,\n",
    "    m=m.values,\n",
    "    gamma_hyper=args.gamma_hyper,\n",
    "    dtype=torch.float32,\n",
    "    device='cuda',\n",
    ")\n",
    "\n",
    "info(\"resulting model.\")\n",
    "mapest_geno, history_geno = find_map(\n",
    "    model_geno,\n",
    "    lag=args.lag,\n",
    "    stop_at=args.stop_at,\n",
    "    learning_rate=args.learning_rate,\n",
    "    max_iter=args.max_iter,\n",
    "    clip_norm=args.clip_norm,\n",
    ")"
   ]
  },
  {
   "cell_type": "code",
   "execution_count": null,
   "metadata": {},
   "outputs": [],
   "source": [
    "plot_loss_history(result.elbo_trace.values)"
   ]
  },
  {
   "cell_type": "code",
   "execution_count": null,
   "metadata": {},
   "outputs": [],
   "source": [
    "result2 = xr.load_dataset('data/core/100022/gtpro.sfacts.nc')"
   ]
  }
 ],
 "metadata": {
  "kernelspec": {
   "display_name": "Python 3",
   "language": "python",
   "name": "python3"
  },
  "language_info": {
   "codemirror_mode": {
    "name": "ipython",
    "version": 3
   },
   "file_extension": ".py",
   "mimetype": "text/x-python",
   "name": "python",
   "nbconvert_exporter": "python",
   "pygments_lexer": "ipython3",
   "version": "3.7.9"
  },
  "toc": {
   "base_numbering": 1,
   "nav_menu": {},
   "number_sections": true,
   "sideBar": true,
   "skip_h1_title": false,
   "title_cell": "Table of Contents",
   "title_sidebar": "Contents",
   "toc_cell": false,
   "toc_position": {},
   "toc_section_display": true,
   "toc_window_display": false
  }
 },
 "nbformat": 4,
 "nbformat_minor": 4
}
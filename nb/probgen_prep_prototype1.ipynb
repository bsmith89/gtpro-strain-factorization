{
 "cells": [
  {
   "cell_type": "markdown",
   "metadata": {},
   "source": [
    "## Imports"
   ]
  },
  {
   "cell_type": "code",
   "execution_count": null,
   "metadata": {},
   "outputs": [],
   "source": [
    "%load_ext autoreload\n",
    "%autoreload 2"
   ]
  },
  {
   "cell_type": "raw",
   "metadata": {},
   "source": [
    "from sfacts.logging_util import *\n",
    "from sfacts.pyro_util import *\n",
    "from sfacts.model import *\n",
    "from sfacts.genotype import *\n",
    "from sfacts.plot import *\n",
    "from sfacts.estimation import *\n",
    "from sfacts.evaluation import *\n",
    "from sfacts.workflow import *\n",
    "from sfacts.data import *\n",
    "from sfacts.pandas_util import *"
   ]
  },
  {
   "cell_type": "code",
   "execution_count": null,
   "metadata": {},
   "outputs": [],
   "source": [
    "import sfacts as sf"
   ]
  },
  {
   "cell_type": "code",
   "execution_count": null,
   "metadata": {},
   "outputs": [],
   "source": [
    "import pandas as pd\n",
    "import matplotlib as mpl\n",
    "import matplotlib.pyplot as plt\n",
    "import seaborn as sns\n",
    "import numpy as np\n",
    "import scipy as sp\n",
    "import pyro\n",
    "import pyro.distributions as dist\n",
    "import torch\n",
    "from functools import partial\n",
    "from tqdm import tqdm\n",
    "import xarray as xr\n",
    "import warnings\n",
    "from torch.jit import TracerWarning"
   ]
  },
  {
   "cell_type": "code",
   "execution_count": null,
   "metadata": {},
   "outputs": [],
   "source": [
    "n = 100\n",
    "p = torch.tensor(1 - 1e-8, requires_grad=True)\n",
    "\n",
    "torch.allclose(\n",
    "    sf.model.stickbreaking_betas_to_probs(torch.ones(n) * p),\n",
    "    sf.model.stickbreaking_betas_to_probs2(torch.ones(n) * p),\n",
    ")"
   ]
  },
  {
   "cell_type": "code",
   "execution_count": null,
   "metadata": {},
   "outputs": [],
   "source": [
    "(\n",
    "    torch.autograd.grad(sf.model.stickbreaking_betas_to_probs(torch.ones(n) * p)[2], inputs=p)[0],\n",
    "    torch.autograd.grad(sf.model.stickbreaking_betas_to_probs2(torch.ones(n) * p)[2], inputs=p)[0]\n",
    ")"
   ]
  },
  {
   "cell_type": "markdown",
   "metadata": {},
   "source": [
    "## Library"
   ]
  },
  {
   "cell_type": "markdown",
   "metadata": {},
   "source": [
    "## Model Specification"
   ]
  },
  {
   "cell_type": "raw",
   "metadata": {},
   "source": [
    "delta_hyper_temp, delta_hyper_p = 0.1, 0.9\n",
    "x = pyro.sample('delta', dist.Beta(delta_hyper_temp * (delta_hyper_p), delta_hyper_temp * (1 - delta_hyper_p)).expand([10000])).cpu().numpy()\n",
    "plt.hist(x, bins=100)\n",
    "print(x.mean())"
   ]
  },
  {
   "cell_type": "code",
   "execution_count": null,
   "metadata": {},
   "outputs": [],
   "source": [
    "epsilon_hyper_alpha, epsilon_hyper_beta = 1.5, 1.5 / 0.01\n",
    "plt.hist(pyro.sample('epsilon_hyper', dist.Beta(epsilon_hyper_alpha, epsilon_hyper_beta).expand([10000])).cpu().numpy(), bins=100)\n",
    "None"
   ]
  },
  {
   "cell_type": "code",
   "execution_count": null,
   "metadata": {},
   "outputs": [],
   "source": [
    "plt.hist(pyro.sample('test', sf.model.NegativeBinomialReparam(torch.tensor(10.), r=torch.tensor(1.), eps=torch.tensor(1e-5)).expand([1000])).numpy())"
   ]
  },
  {
   "cell_type": "code",
   "execution_count": null,
   "metadata": {},
   "outputs": [],
   "source": [
    "sf.pyro_util.shape_info(sf.model.model, n=100, g=200, s=20)"
   ]
  },
  {
   "cell_type": "markdown",
   "metadata": {},
   "source": [
    "## Simulation"
   ]
  },
  {
   "cell_type": "markdown",
   "metadata": {},
   "source": [
    "### SimShape-1: Small study"
   ]
  },
  {
   "cell_type": "code",
   "execution_count": null,
   "metadata": {},
   "outputs": [],
   "source": [
    "seed = 1\n",
    "pyro.util.set_rng_seed(seed)\n",
    "\n",
    "n_sim = 100\n",
    "g_sim = 5000\n",
    "s_sim = 20\n",
    "\n",
    "sim1 = sf.model.simulate(\n",
    "    sf.model.condition_model(\n",
    "        sf.model.model,\n",
    "        data=dict(\n",
    "            alpha_hyper_mean=100.\n",
    "        ),\n",
    "        n=n_sim,\n",
    "        g=g_sim,\n",
    "        s=s_sim,\n",
    "        gamma_hyper=0.01,\n",
    "        delta_hyper_temp=0.01,\n",
    "        delta_hyper_p=0.7,\n",
    "        pi_hyper=0.5,\n",
    "        rho_hyper=10.,\n",
    "        mu_hyper_mean=2.,\n",
    "        mu_hyper_scale=0.5,\n",
    "        m_hyper_r=10.,\n",
    "        alpha_hyper_scale=0.5,\n",
    "        epsilon_hyper_alpha=1.5,\n",
    "        epsilon_hyper_beta=1.5/0.01,\n",
    "        device='cpu'\n",
    "    )\n",
    ")"
   ]
  },
  {
   "cell_type": "markdown",
   "metadata": {},
   "source": [
    "## Visualization"
   ]
  },
  {
   "cell_type": "code",
   "execution_count": null,
   "metadata": {},
   "outputs": [],
   "source": [
    "n_plt = 100\n",
    "g_plt = 200\n",
    "s_plt = 20"
   ]
  },
  {
   "cell_type": "code",
   "execution_count": null,
   "metadata": {},
   "outputs": [],
   "source": [
    "sf.plot.plot_community(sim1['pi'][:s_plt, :n_plt])"
   ]
  },
  {
   "cell_type": "code",
   "execution_count": null,
   "metadata": {},
   "outputs": [],
   "source": [
    "sf.plot.plot_genotype(\n",
    "    sf.genotype.counts_to_p_estimate(\n",
    "        sim1['y'][:n_plt, :g_plt],\n",
    "        sim1['m'][:n_plt, :g_plt]),\n",
    "    linkage_kw=dict(progress=True)\n",
    ")"
   ]
  },
  {
   "cell_type": "code",
   "execution_count": null,
   "metadata": {},
   "outputs": [],
   "source": [
    "sf.plot.plot_genotype_similarity(sf.genotype.counts_to_p_estimate(sim1['y'][:n_plt, :g_plt], sim1['m'][:n_plt, :g_plt]), linkage_kw=dict(progress=True))"
   ]
  },
  {
   "cell_type": "code",
   "execution_count": null,
   "metadata": {},
   "outputs": [],
   "source": [
    "sf.plot.plot_genotype(sim1['gamma'][:s_plt, :g_plt])"
   ]
  },
  {
   "cell_type": "code",
   "execution_count": null,
   "metadata": {},
   "outputs": [],
   "source": [
    "sf.plot.plot_missing(sim1['delta'][:s_plt, :g_plt])"
   ]
  },
  {
   "cell_type": "code",
   "execution_count": null,
   "metadata": {},
   "outputs": [],
   "source": [
    "sf.plot.plot_missing(sim1['nu'][:n_plt, :g_plt])"
   ]
  },
  {
   "cell_type": "code",
   "execution_count": null,
   "metadata": {},
   "outputs": [],
   "source": [
    "sns.clustermap(sim1['m'][:n_plt, :g_plt], norm=mpl.colors.SymLogNorm(linthresh=1))"
   ]
  },
  {
   "cell_type": "code",
   "execution_count": null,
   "metadata": {},
   "outputs": [],
   "source": [
    "sf.plot.plot_genotype_similarity(sim1['gamma'][:s_plt, :g_plt])"
   ]
  },
  {
   "cell_type": "code",
   "execution_count": null,
   "metadata": {},
   "outputs": [],
   "source": [
    "plt.hist(sim1['epsilon'], bins=50)\n",
    "None"
   ]
  },
  {
   "cell_type": "code",
   "execution_count": null,
   "metadata": {},
   "outputs": [],
   "source": [
    "plt.hist(sim1['alpha'], bins=20)\n",
    "None"
   ]
  },
  {
   "cell_type": "markdown",
   "metadata": {},
   "source": [
    "## Estimation"
   ]
  },
  {
   "cell_type": "markdown",
   "metadata": {},
   "source": [
    "### Initialization"
   ]
  },
  {
   "cell_type": "code",
   "execution_count": null,
   "metadata": {},
   "outputs": [],
   "source": [
    "g_fit = 1000  # sim1['y'].shape[1]\n",
    "n_fit = sim1['y'].shape[0]\n",
    "\n",
    "sim1_gamma_init, sim1_pi_init, sim1_cdmat = sf.estimation.initialize_parameters_by_clustering_samples(\n",
    "    sim1['y'][:n_fit, :g_fit],\n",
    "    sim1['m'][:n_fit, :g_fit],\n",
    "    thresh=0.05,\n",
    "    additional_strains_factor=0.,\n",
    "    progress=True,\n",
    ")\n",
    "\n",
    "print(sim1_pi_init.shape)"
   ]
  },
  {
   "cell_type": "code",
   "execution_count": null,
   "metadata": {},
   "outputs": [],
   "source": [
    "sf.plot.plot_genotype(sim1_gamma_init[:s_plt, :g_plt])"
   ]
  },
  {
   "cell_type": "code",
   "execution_count": null,
   "metadata": {},
   "outputs": [],
   "source": [
    "sf.plot.plot_genotype_similarity(sim1_gamma_init)"
   ]
  },
  {
   "cell_type": "code",
   "execution_count": null,
   "metadata": {},
   "outputs": [],
   "source": [
    "sf.plot.plot_community(sim1_pi_init[:n_plt, :s_plt])"
   ]
  },
  {
   "cell_type": "markdown",
   "metadata": {},
   "source": [
    "### Fitting"
   ]
  },
  {
   "cell_type": "code",
   "execution_count": null,
   "metadata": {},
   "outputs": [],
   "source": [
    "s_fit = sim1_gamma_init.shape[0]\n",
    "initialize_params = dict(gamma=sim1_gamma_init, pi=sim1_pi_init)\n",
    "\n",
    "sim1_fit1, history = sf.estimation.estimate_parameters(\n",
    "    sf.model.model,\n",
    "    data=dict(y=sim1['y'][:, :g_fit], m=sim1['m'][:, :g_fit]),\n",
    "    n=n_fit,\n",
    "    g=g_fit,\n",
    "    s=s_fit,\n",
    "    gamma_hyper=0.1,\n",
    "    pi_hyper=1.0,\n",
    "    rho_hyper=0.5,\n",
    "    mu_hyper_mean=5,\n",
    "    mu_hyper_scale=5.,\n",
    "    m_hyper_r=10.,\n",
    "    delta_hyper_temp=0.1,\n",
    "    delta_hyper_p=0.9,\n",
    "    alpha_hyper_hyper_mean=100.,\n",
    "    alpha_hyper_hyper_scale=10.,\n",
    "    alpha_hyper_scale=0.5,\n",
    "    epsilon_hyper_alpha=1.5,\n",
    "    epsilon_hyper_beta=1.5 / 0.01,\n",
    "    initialize_params=initialize_params,\n",
    "    device='cpu',\n",
    "    lag=100,\n",
    "    lr=1e-1,\n",
    ")"
   ]
  },
  {
   "cell_type": "markdown",
   "metadata": {},
   "source": [
    "### Merging Strains"
   ]
  },
  {
   "cell_type": "code",
   "execution_count": null,
   "metadata": {},
   "outputs": [],
   "source": [
    "sim1_fit1_gamma_merge, sim1_fit1_pi_merge, sim1_fit1_delta_merge  = sf.estimation.merge_similar_genotypes(\n",
    "    sim1_fit1['gamma'],\n",
    "    sim1_fit1['pi'],\n",
    "    delta=sim1_fit1['delta'],\n",
    "    thresh=0.1,\n",
    ")\n",
    "\n",
    "# print(sim1_gamma_init.shape[0], sim1_fit1['gamma'].shape[0], sim1_fit1_gamma_merge.shape[0])\n",
    "print(sim1_fit1['gamma'].shape[0], sim1_fit1_gamma_merge.shape[0])"
   ]
  },
  {
   "cell_type": "markdown",
   "metadata": {},
   "source": [
    "## Evaluation"
   ]
  },
  {
   "cell_type": "code",
   "execution_count": null,
   "metadata": {},
   "outputs": [],
   "source": [
    "sim1_gamma_adjusted = sf.genotype.mask_missing_genotype(sim1['gamma'][:, :g_fit], sim1['delta'][:, :g_fit])\n",
    "sim1_fit1_gamma_adjusted = sf.genotype.mask_missing_genotype(sim1_fit1['gamma'], sim1_fit1['delta'])"
   ]
  },
  {
   "cell_type": "markdown",
   "metadata": {},
   "source": [
    "### Ground Truth"
   ]
  },
  {
   "cell_type": "markdown",
   "metadata": {},
   "source": [
    "#### Visualization"
   ]
  },
  {
   "cell_type": "code",
   "execution_count": null,
   "metadata": {},
   "outputs": [],
   "source": [
    "sf.plot.plot_genotype_comparison(\n",
    "    data=dict(\n",
    "        true=sim1_gamma_adjusted[:, :g_plt],\n",
    "#         fit=sim1_fit1['gamma'][:, :g_plt],\n",
    "        adj=sim1_fit1_gamma_adjusted[:, :g_plt],\n",
    "#         init=sim1_gamma_init,\n",
    "#         merg=sim1_fit1_gamma_merge,\n",
    "    ),\n",
    "    linkage_kw=dict(progress=True),\n",
    ")"
   ]
  },
  {
   "cell_type": "code",
   "execution_count": null,
   "metadata": {},
   "outputs": [],
   "source": [
    "sf.plot.plot_community_comparison(\n",
    "    data=dict(\n",
    "        true=sim1['pi'],\n",
    "        fit=sim1_fit1['pi'],\n",
    "#         init=sim1_pi_init,\n",
    "#         merg=sim1_fit1_pi_merge,\n",
    "    ),\n",
    ")"
   ]
  },
  {
   "cell_type": "code",
   "execution_count": null,
   "metadata": {},
   "outputs": [],
   "source": [
    "plt.scatter(sim1['epsilon'], sim1_fit1['epsilon'])\n",
    "plt.plot([0, 0.04], [0, 0.04])"
   ]
  },
  {
   "cell_type": "code",
   "execution_count": null,
   "metadata": {},
   "outputs": [],
   "source": [
    "plt.scatter(sim1['alpha'], sim1_fit1['alpha'])\n",
    "plt.plot([0, 200], [0, 200])"
   ]
  },
  {
   "cell_type": "code",
   "execution_count": null,
   "metadata": {},
   "outputs": [],
   "source": [
    "sns.heatmap(sim1_fit1['delta'], vmin=0, vmax=1)"
   ]
  },
  {
   "cell_type": "code",
   "execution_count": null,
   "metadata": {},
   "outputs": [],
   "source": [
    "plt.scatter(sim1['mu'], sim1_fit1['mu'])\n",
    "plt.plot([0, 40], [0, 40])"
   ]
  },
  {
   "cell_type": "code",
   "execution_count": null,
   "metadata": {},
   "outputs": [],
   "source": [
    "# TODO: Plot comparing genotype accuracy to true strain abundance\n",
    "# colored by mean entropy of the estimated genotype masked by delta"
   ]
  },
  {
   "cell_type": "markdown",
   "metadata": {},
   "source": [
    "#### Fit scores"
   ]
  },
  {
   "cell_type": "code",
   "execution_count": null,
   "metadata": {},
   "outputs": [],
   "source": [
    "plt.scatter(sim1_fit1['alpha'], sample_mean_masked_genotype_entropy(sim1_fit1['pi'], sim1_fit1['gamma'], sim1_fit1['delta']))\n",
    "sample_mean_masked_genotype_entropy(sim1_fit1['pi'], sim1_fit1['gamma'], sim1_fit1['delta']).mean()"
   ]
  },
  {
   "cell_type": "code",
   "execution_count": null,
   "metadata": {},
   "outputs": [],
   "source": [
    "best_hit, best_dist = match_genotypes(sim1_gamma_adjusted[:, :g_fit], sim1_fit1_gamma_adjusted[:, :g_fit])\n",
    "\n",
    "print('weighted_mean_distance:', (best_dist * sim1['pi'].mean(0)).sum())\n",
    "plt.scatter((sim1['pi'] * sim1['mu'].reshape(-1, 1)).sum(0), best_dist)"
   ]
  },
  {
   "cell_type": "code",
   "execution_count": null,
   "metadata": {},
   "outputs": [],
   "source": [
    "bc_sim = 1 - pdist(sim1['pi'], metric='braycurtis')\n",
    "bc_fit = 1 - pdist(sim1_fit1['pi'], metric='braycurtis')\n",
    "plt.scatter(\n",
    "    bc_sim,\n",
    "    bc_fit,\n",
    "    marker='.',\n",
    "    alpha=0.2,\n",
    ")\n",
    "\n",
    "community_accuracy_test(sim1['pi'], sim1_fit1['pi'])"
   ]
  },
  {
   "cell_type": "markdown",
   "metadata": {},
   "source": [
    "### No Ground Truth"
   ]
  },
  {
   "cell_type": "markdown",
   "metadata": {},
   "source": [
    "#### Visualization"
   ]
  },
  {
   "cell_type": "code",
   "execution_count": null,
   "metadata": {},
   "outputs": [],
   "source": [
    "# Strains that are not representative of true haplotypes\n",
    "# are high entropy (even after masking with delta)\n",
    "# and have low estimated total coverage.\n",
    "\n",
    "best_true_strain, best_true_strain_dist = match_genotypes(sim1_fit1_gamma_adjusted[:, :g_fit], sim1_gamma_adjusted[:, :g_fit])\n",
    "best_true_strain_dist\n",
    "\n",
    "plt.scatter((sim1_fit1['pi'] * sim1_fit1['mu'].reshape((-1, 1))).sum(0), best_true_strain_dist, c=mean_masked_genotype_entropy(sim1_fit1['gamma'], sim1_fit1['delta']))"
   ]
  },
  {
   "cell_type": "code",
   "execution_count": null,
   "metadata": {},
   "outputs": [],
   "source": [
    "plot_genotype(sim1_fit1_gamma_adjusted[:, :g_plt], linkage_kw=dict(progress=True))"
   ]
  },
  {
   "cell_type": "code",
   "execution_count": null,
   "metadata": {},
   "outputs": [],
   "source": [
    "plot_community(sim1_fit1['pi'])"
   ]
  },
  {
   "cell_type": "markdown",
   "metadata": {},
   "source": [
    "#### Confidence Scores"
   ]
  },
  {
   "cell_type": "code",
   "execution_count": null,
   "metadata": {},
   "outputs": [],
   "source": [
    "plt.hist(mean_masked_genotype_entropy(sim1_fit1['gamma'][:, :g_plt], sim1_fit1['delta'][:, :g_plt]))\n",
    "None"
   ]
  },
  {
   "cell_type": "code",
   "execution_count": null,
   "metadata": {},
   "outputs": [],
   "source": [
    "plt.hist(sim1_fit1['alpha'], bins=20)\n",
    "None"
   ]
  },
  {
   "cell_type": "code",
   "execution_count": null,
   "metadata": {},
   "outputs": [],
   "source": [
    "plot_genotype(sim1_fit1['gamma'][mean_masked_genotype_entropy(sim1_fit1['gamma'], sim1_fit1['delta']) < 0.1, :g_fit])"
   ]
  }
 ],
 "metadata": {
  "kernelspec": {
   "display_name": "Python 3",
   "language": "python",
   "name": "python3"
  },
  "language_info": {
   "codemirror_mode": {
    "name": "ipython",
    "version": 3
   },
   "file_extension": ".py",
   "mimetype": "text/x-python",
   "name": "python",
   "nbconvert_exporter": "python",
   "pygments_lexer": "ipython3",
   "version": "3.8.6"
  },
  "toc": {
   "base_numbering": 1,
   "nav_menu": {
    "height": "82px",
    "width": "168px"
   },
   "number_sections": true,
   "sideBar": true,
   "skip_h1_title": false,
   "title_cell": "Table of Contents",
   "title_sidebar": "Contents",
   "toc_cell": false,
   "toc_position": {
    "height": "calc(100% - 180px)",
    "left": "10px",
    "top": "150px",
    "width": "216px"
   },
   "toc_section_display": true,
   "toc_window_display": true
  }
 },
 "nbformat": 4,
 "nbformat_minor": 5
}
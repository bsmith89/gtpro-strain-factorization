{
 "cells": [
  {
   "cell_type": "markdown",
   "metadata": {},
   "source": [
    "## Preamble"
   ]
  },
  {
   "cell_type": "code",
   "execution_count": null,
   "metadata": {},
   "outputs": [],
   "source": [
    "import pandas as pd\n",
    "from lib.util import info, idxwhere\n",
    "import matplotlib as mpl\n",
    "import matplotlib.pyplot as plt\n",
    "import seaborn as sns\n",
    "import numpy as np\n",
    "import scipy as sp\n",
    "\n",
    "from scipy.spatial.distance import pdist, squareform\n",
    "\n",
    "import pyro\n",
    "import pyro.distributions as dist\n",
    "import torch\n",
    "from functools import partial\n",
    "import arviz as az\n",
    "from pyro.ops.contract import einsum\n",
    "import seaborn as sns\n",
    "from tqdm import tqdm\n",
    "import xarray as xr\n",
    "\n",
    "import sqlite3\n",
    "\n",
    "def rss(x, y):\n",
    "    return np.sqrt(np.sum((x - y)**2))\n",
    "\n",
    "def binary_entropy(p):\n",
    "    q = (1 - p)\n",
    "    return -p * np.log2(p) - q * np.log2(q)\n",
    "\n",
    "def plot_loss_history(loss_history):\n",
    "    min_loss = loss_history.min()\n",
    "    plt.plot(loss_history - min_loss)\n",
    "    plt.plot(\n",
    "        np.linspace(0, len(loss_history), num=1000),\n",
    "        np.linspace(len(loss_history), 0, num=1000),\n",
    "        lw=1, linestyle='--', color='grey'\n",
    "        )\n",
    "    plt.title(f'+{min_loss:0.3e}')\n",
    "    plt.yscale('log')\n",
    "    return plt.gca()\n",
    "\n",
    "def mean_residual_count(expect_frac, obs_count, m):\n",
    "    frac_obs = obs_count / m\n",
    "    out = np.abs(((frac_obs - expect_frac)))\n",
    "    out[np.isnan(out)] = 0\n",
    "    return (out * m).sum() / m.sum()\n",
    "\n",
    "def linear_distance(linear_index):\n",
    "    linear_index = linear_index.to_frame()\n",
    "    return pd.DataFrame(\n",
    "        squareform(\n",
    "            pdist(\n",
    "                linear_index,\n",
    "                metric='cityblock'\n",
    "            )\n",
    "        ),\n",
    "        index=linear_index.index,\n",
    "        columns=linear_index.index,\n",
    "    )\n",
    "\n",
    "mpl.rcParams['figure.dpi']= 120"
   ]
  },
  {
   "cell_type": "markdown",
   "metadata": {},
   "source": [
    "## Metadata"
   ]
  },
  {
   "cell_type": "code",
   "execution_count": null,
   "metadata": {},
   "outputs": [],
   "source": [
    "con = sqlite3.connect('/pollard/home/bsmith/Projects/ucfmt/sdata/database.db')\n",
    "\n",
    "\n",
    "library = (\n",
    "    pd.read_sql(\n",
    "        'SELECT mgen_library_id, sample_id FROM mgen_library',\n",
    "        index_col='mgen_library_id',\n",
    "        con=con\n",
    "    )\n",
    "    .rename_axis(index='library_id')\n",
    ")\n",
    "sample = pd.read_sql('SELECT * FROM sample', index_col='sample_id', con=con)\n",
    "sample['collection_date'] = pd.to_datetime(sample['collection_date'])\n",
    "\n",
    "sample['name'] = sample.subject_id + '.' + sample.sample_type_specific\n",
    "sample['name_i'] = (sample.reset_index()\n",
    "                          .groupby('name')\n",
    "                          .apply(lambda x: pd.Series(range(len(x)),\n",
    "                                                     index=x.sample_id,\n",
    "                                                     dtype=str))\n",
    "                          .droplevel(level='name', axis='index'))\n",
    "sample['name'] = sample['name'] + '.' + sample['name_i'].astype(str)\n",
    "\n",
    "subject = pd.read_sql(\"SELECT * FROM subject\", index_col='subject_id', con=con)\n",
    "\n",
    "visit = pd.read_sql(\"SELECT * FROM visit\", con=con, index_col=['visit_id'])\n",
    "donor_sample = (visit[['subject_id', 'donor_sample_id', 'visit_type']]\n",
    "                     .join(sample[['sample_type', 'sample_notes', 'subject_id']],\n",
    "                           on='donor_sample_id', how='inner', rsuffix='_donor')\n",
    "                     .set_index('donor_sample_id'))\n",
    "visit['date'] = pd.to_datetime(visit['date'])\n",
    "visit['mayo_score'] = visit[['status_mayo_score_stool_frequency',\n",
    "                             'status_mayo_score_rectal_bleeding',\n",
    "                             'status_mayo_score_endoscopy_mucosa',\n",
    "                             'status_mayo_score_global_physician_rating']\n",
    "                           ].sum(1, skipna=False)\n",
    "visit['mayo_partial_score'] = visit[['status_mayo_score_stool_frequency',\n",
    "                                     'status_mayo_score_rectal_bleeding']\n",
    "                                   ].sum(1, skipna=False)\n",
    "subject['recipient'] = subject['recipient'].astype(bool)\n",
    "subject['mayo_score_1'] = (visit[visit.visit_type_specific == 'colonoscopy_1']\n",
    "                                    .set_index('subject_id')['mayo_score'])\n",
    "subject['mayo_score_2'] = (visit[visit.visit_type_specific == 'colonoscopy_2']\n",
    "                                  .set_index('subject_id')['mayo_score'])\n",
    "subject['mayo_score_change'] = (subject.mayo_score_2 - subject.mayo_score_1)\n",
    "subject['_antibiotics'] = subject.treatment_abx_pre.map({1: 'abx+', 0: 'abx-'})\n",
    "subject['arm'] = subject._antibiotics + '/' + subject.treatment_maintenance_method\n",
    "subject['_responder'] = subject.responder_status.map({1: 'responder', 0: 'nonresponder'})\n",
    "# Assign donors as their own donor_subject_id\n",
    "subject.loc[~subject.recipient, 'donor_subject_id'] = subject.loc[~subject.recipient].index\n",
    "subject['date_of_initial_fmt'] = pd.to_datetime(subject['date_of_initial_fmt'])\n",
    "subject['baseline_sample_id'] = (sample.query('sample_type == \"baseline\"')\n",
    "                                       .join(subject, on='subject_id')\n",
    "                                       .reset_index()\n",
    "                                       .set_index('subject_id')\n",
    "                                       .sample_id)\n",
    "\n",
    "visit['days_post_fmt'] = (visit.join(subject, on='subject_id')\n",
    "                               .apply(lambda x: (x.date - x.date_of_initial_fmt).days, axis=1))\n",
    "\n",
    "# Add metadata for donor-means\n",
    "for donor_id in subject.donor_subject_id.dropna().unique():\n",
    "    sample.loc[donor_id + '_mean', 'subject_id'] = donor_id\n",
    "    sample.loc[donor_id + '_mean', 'sample_type'] = 'donor'\n",
    "    sample.loc[donor_id + '_mean', 'sample_type_specific'] = 'donor_mean'\n",
    "    sample.loc[donor_id + '_mean', 'name'] = donor_id + '_mean'\n",
    "\n",
    "meta = library.join(sample, on='sample_id').join(subject, on='subject_id').sort_values(['donor_subject_id', 'subject_id', 'collection_date'])\n",
    "meta['days_post_fmt'] = (meta.collection_date - meta.date_of_initial_fmt).dt.days\n",
    "\n",
    "assert meta.index.is_unique\n",
    "assert meta.sample_id.is_unique"
   ]
  },
  {
   "cell_type": "markdown",
   "metadata": {},
   "source": [
    "## Load data"
   ]
  },
  {
   "cell_type": "code",
   "execution_count": null,
   "metadata": {},
   "outputs": [],
   "source": [
    "species_id = 102506\n",
    "\n",
    "fit = xr.open_dataset(f'data/ucfmt.sp-{species_id}.gtpro-pileup.filt.sfacts-s50-g5000-gamma1-rho1-pi1-eps1000-alph100.nc')\n",
    "fit"
   ]
  },
  {
   "cell_type": "markdown",
   "metadata": {},
   "source": [
    "## Check fit"
   ]
  },
  {
   "cell_type": "code",
   "execution_count": null,
   "metadata": {},
   "outputs": [],
   "source": [
    "plot_loss_history(fit.elbo_trace.values)"
   ]
  },
  {
   "cell_type": "code",
   "execution_count": null,
   "metadata": {},
   "outputs": [],
   "source": [
    "np.abs(fit.y - (fit.p_noerr * fit.m)).sum() / fit.m.sum()"
   ]
  },
  {
   "cell_type": "code",
   "execution_count": null,
   "metadata": {},
   "outputs": [],
   "source": [
    "plt.hist(fit.pi.max('strain'), bins=20)\n",
    "#plt.yscale('log')\n",
    "None"
   ]
  },
  {
   "cell_type": "code",
   "execution_count": null,
   "metadata": {},
   "outputs": [],
   "source": [
    "plt.plot(fit.pi.max('library_id').to_series().sort_values(ascending=False).values)\n",
    "plt.axhline(0, lw=1, c='k', linestyle='--')"
   ]
  },
  {
   "cell_type": "code",
   "execution_count": null,
   "metadata": {},
   "outputs": [],
   "source": [
    "#fit.gamma.sel(strain=fit.pi.max('library_id'))"
   ]
  },
  {
   "cell_type": "code",
   "execution_count": null,
   "metadata": {},
   "outputs": [],
   "source": [
    "plt.hist(fit.pi.max('library_id'), bins=20)\n",
    "plt.yscale('log')\n",
    "None"
   ]
  },
  {
   "cell_type": "code",
   "execution_count": null,
   "metadata": {},
   "outputs": [],
   "source": [
    "plt.hist((fit.pi > 0.1).sum('library_id'), bins=50)\n",
    "plt.yscale('log')"
   ]
  },
  {
   "cell_type": "markdown",
   "metadata": {},
   "source": [
    "## UCFMT"
   ]
  },
  {
   "cell_type": "code",
   "execution_count": null,
   "metadata": {},
   "outputs": [],
   "source": [
    "ucfmt_libs = list(set(meta.index) & set(fit.library_id.values))\n",
    "ucfmt_meta = meta.loc[ucfmt_libs]\n",
    "ucfmt_strains = idxwhere((fit.pi.sel(library_id=ucfmt_libs).sum('library_id') > 1e-1).to_series())\n",
    "\n",
    "sns.clustermap(\n",
    "    fit.pi.sel(library_id=ucfmt_libs, strain=ucfmt_strains).to_pandas(),\n",
    "    metric='cosine',\n",
    "    xticklabels=1, yticklabels=1,\n",
    "    norm=mpl.colors.PowerNorm(1/5),\n",
    ")"
   ]
  },
  {
   "cell_type": "code",
   "execution_count": null,
   "metadata": {},
   "outputs": [],
   "source": [
    "sns.clustermap(\n",
    "    (\n",
    "        ((fit.gamma * 2) - 1).T\n",
    "    ).to_pandas(),\n",
    "    metric='cosine',\n",
    "    cmap='coolwarm',\n",
    "    xticklabels=1,\n",
    ")"
   ]
  },
  {
   "cell_type": "code",
   "execution_count": null,
   "metadata": {},
   "outputs": [],
   "source": [
    "d = fit.pi.to_pandas().loc[ucfmt_meta.sort_values(['subject_id', 'sample_type_specific']).index]\n",
    "\n",
    "sns.heatmap(d, norm=mpl.colors.PowerNorm(1/2))"
   ]
  },
  {
   "cell_type": "code",
   "execution_count": null,
   "metadata": {},
   "outputs": [],
   "source": [
    "d = (fit.gamma.to_pandas() * 2 - 1).T.sort_index()\n",
    "\n",
    "sns.heatmap(d, cmap='coolwarm', vmin=-1, vmax=1, cbar_kws=dict(ticks=[-1, 0, 1], ))"
   ]
  },
  {
   "cell_type": "code",
   "execution_count": null,
   "metadata": {},
   "outputs": [],
   "source": [
    "d = ((fit.y / fit.m) * 2 - 1).to_pandas().sort_index(axis=1).T\n",
    "fig = plt.figure(figsize=(3, 5))\n",
    "sns.heatmap(d, cmap='coolwarm', vmin=-1, vmax=1, cbar_kws=dict(ticks=[-1, 0, 1], ))"
   ]
  },
  {
   "cell_type": "code",
   "execution_count": null,
   "metadata": {},
   "outputs": [],
   "source": [
    "d = ((fit.y / fit.m) * 2 - 1).to_pandas().sort_index(axis=1).T.fillna(0)\n",
    "fig = plt.figure(figsize=(3, 5))\n",
    "sns.clustermap(d, metric='cosine', cmap='coolwarm', vmin=-1, vmax=1)"
   ]
  },
  {
   "cell_type": "code",
   "execution_count": null,
   "metadata": {},
   "outputs": [],
   "source": [
    "from itertools import cycle\n",
    "\n",
    "subject_id_order = ['S0041', 'S0047', 'S0053', 'S0055',\n",
    "                    'S0056', 'S0001', 'S0004', 'S0013',\n",
    "                    'S0021', 'S0024', 'S0027', 'S0008']\n",
    "\n",
    "sample_type_specific_order = [\n",
    "    'donor',\n",
    "    'baseline',\n",
    "    'pre_maintenance_1',\n",
    "    'pre_maintenance_2',\n",
    "    'pre_maintenance_3',\n",
    "    'pre_maintenance_4',\n",
    "    'pre_maintenance_5',\n",
    "    'pre_maintenance_6',\n",
    "    'followup_1',\n",
    "    'followup_2',\n",
    "]\n",
    "sample_type_specific_order_idx = pd.Series({v: i for i, v in enumerate(sample_type_specific_order)})\n",
    "\n",
    "ucfmt_strain_order = fit.pi.sel(strain=ucfmt_strains).mean('library_id').to_series().sort_values(ascending=False).index\n",
    "\n",
    "color_cycle = ([ 'blue', 'green',\n",
    "                'red', 'cyan',\n",
    "                'magenta', 'paleturquoise',\n",
    "                'yellowgreen',\n",
    "                'pink',\n",
    "                'orange',\n",
    "                'coral', 'purple', 'teal',\n",
    "                'lime', 'gold',\n",
    "                'turquoise', 'darkgreen', 'lavender',\n",
    "                'tan', 'salmon', 'brown',\n",
    "                \n",
    "              ])\n",
    "strain_cmap = dict(zip(ucfmt_strain_order, cycle(color_cycle)))\n",
    "\n",
    "\n",
    "d0 = fit.pi.sel(library_id=ucfmt_libs, strain=ucfmt_strains).to_pandas()\n",
    "\n",
    "fig, axs = plt.subplots(3, 4, sharex=True, sharey=True, figsize=(20, 10))\n",
    "for subject_id, ax in zip(subject_id_order, axs.flatten()):\n",
    "    donor_subject_id = subject.loc[subject_id].donor_subject_id\n",
    "\n",
    "    d1 = pd.concat([\n",
    "        d0[meta.subject_id == subject_id].rename(meta.sample_type_specific),\n",
    "        d0[meta.subject_id == donor_subject_id].mean().to_frame('donor').T\n",
    "    ]).reindex(['donor'] + sample_type_specific_order)\n",
    "\n",
    "    for strain in ucfmt_strain_order:\n",
    "        if strain not in d1.columns:\n",
    "            continue\n",
    "        d2 = d1.assign(x=sample_type_specific_order_idx).dropna()\n",
    "        ax.plot(d2.drop('donor').x, d2.drop('donor')[strain], marker='o', label=strain, c=strain_cmap[strain])\n",
    "        ax.scatter(d2.x, d2[strain], marker='o', c=strain_cmap[strain])    \n",
    "        ax.set_title(f'{subject_id} ({donor_subject_id})')\n",
    "\n",
    "plt.xticks(ticks=sample_type_specific_order_idx, labels=sample_type_specific_order, rotation=45, ha='right')\n",
    "plt.legend(bbox_to_anchor=(1, 1))\n",
    "plt.yscale('symlog', linthreshy=1e-3)\n",
    "plt.ylim(1e-4, 2)\n",
    "\n",
    "None"
   ]
  },
  {
   "cell_type": "code",
   "execution_count": null,
   "metadata": {},
   "outputs": [],
   "source": [
    "from itertools import cycle\n",
    "\n",
    "subject_id_order = ['S0041', 'S0047', 'S0053', 'S0055',\n",
    "                    'S0056', 'S0001', 'S0004', 'S0013',\n",
    "                    'S0021', 'S0024', 'S0027', 'S0008']\n",
    "\n",
    "sample_type_specific_order = [\n",
    "    'donor',\n",
    "    'baseline',\n",
    "    'pre_maintenance_1',\n",
    "    'pre_maintenance_2',\n",
    "    'pre_maintenance_3',\n",
    "    'pre_maintenance_4',\n",
    "    'pre_maintenance_5',\n",
    "    'pre_maintenance_6',\n",
    "    'followup_1',\n",
    "    'followup_2',\n",
    "]\n",
    "sample_type_specific_order_idx = pd.Series({v: i for i, v in enumerate(sample_type_specific_order)})\n",
    "\n",
    "ucfmt_strain_order = fit.pi.sel(strain=ucfmt_strains).mean('library_id').to_series().sort_values(ascending=False).index\n",
    "\n",
    "color_cycle = ([ 'blue', 'green',\n",
    "                'red', 'cyan',\n",
    "                'magenta', 'paleturquoise',\n",
    "                'yellowgreen',\n",
    "                'pink',\n",
    "                'orange',\n",
    "                'coral', 'purple', 'teal',\n",
    "                'lime', 'gold',\n",
    "                'turquoise', 'darkgreen', 'lavender',\n",
    "                'tan', 'salmon', 'brown',\n",
    "                \n",
    "              ])\n",
    "strain_cmap = dict(zip(ucfmt_strain_order, cycle(color_cycle)))\n",
    "\n",
    "\n",
    "d0 = fit.pi.sel(library_id=ucfmt_libs, strain=ucfmt_strains).to_pandas()\n",
    "\n",
    "fig, axs = plt.subplots(1, 3, sharex=True, sharey=True, figsize=(12, 2))\n",
    "for subject_id, ax in zip(['S0008', 'S0056', 'S0047'], axs.flatten()):\n",
    "    donor_subject_id = subject.loc[subject_id].donor_subject_id\n",
    "\n",
    "    d1 = pd.concat([\n",
    "        d0[meta.subject_id == subject_id].rename(meta.sample_type_specific),\n",
    "        d0[meta.subject_id == donor_subject_id].mean().to_frame('donor').T\n",
    "    ]).reindex(['donor'] + sample_type_specific_order)\n",
    "\n",
    "    for strain in ucfmt_strain_order:\n",
    "        if strain not in d1.columns:\n",
    "            continue\n",
    "        d2 = d1.assign(x=sample_type_specific_order_idx).dropna()\n",
    "        ax.plot(d2.drop('donor').x, d2.drop('donor')[strain], marker='o', label=strain, c=strain_cmap[strain])\n",
    "        ax.scatter(d2.x, d2[strain], marker='o', c=strain_cmap[strain])    \n",
    "        ax.set_title(f'{subject_id} ({donor_subject_id})')\n",
    "        ax.set_xticks(np.arange(0, 10))\n",
    "\n",
    "#plt.xticks(ticks=sample_type_specific_order_idx, labels=sample_type_specific_order, rotation=45, ha='right')\n",
    "plt.legend(bbox_to_anchor=(1, 1))\n",
    "plt.yscale('symlog', linthreshy=1e-3)\n",
    "plt.ylim(1e-4, 2)\n",
    "\n",
    "None"
   ]
  },
  {
   "cell_type": "markdown",
   "metadata": {},
   "source": [
    "### D0097"
   ]
  },
  {
   "cell_type": "code",
   "execution_count": null,
   "metadata": {},
   "outputs": [],
   "source": [
    "d97_libs = list(set(idxwhere(meta.donor_subject_id == 'D0097')) & set(fit.library_id.values))\n",
    "d97_strains = idxwhere((fit.pi.sel(library_id=d97_libs).sum('library_id') > 1e-1).to_series())\n",
    "\n",
    "sns.clustermap(\n",
    "    fit.pi.sel(library_id=d97_libs, strain=d97_strains).to_pandas(),\n",
    "    metric='cosine',\n",
    "    xticklabels=1, yticklabels=1,\n",
    "    norm=mpl.colors.PowerNorm(1/1),\n",
    ")"
   ]
  },
  {
   "cell_type": "code",
   "execution_count": null,
   "metadata": {},
   "outputs": [],
   "source": [
    "sns.clustermap(\n",
    "    fit.pi.sel(\n",
    "        library_id=ucfmt_meta[lambda x: x.subject_id=='D0097'].index,\n",
    "        strain=d97_strains,\n",
    "    ).to_pandas(),\n",
    "    metric='cosine',\n",
    "    xticklabels=1, yticklabels=1,\n",
    "    norm=mpl.colors.PowerNorm(1/3),\n",
    ")"
   ]
  },
  {
   "cell_type": "code",
   "execution_count": null,
   "metadata": {},
   "outputs": [],
   "source": [
    "sns.clustermap(\n",
    "    (\n",
    "        ((fit.gamma * 2) - 1)\n",
    "        .sel(strain=d97_strains).T\n",
    "    ).to_pandas().sort_index(),\n",
    "    metric='cosine',\n",
    "    cmap='coolwarm',\n",
    "    xticklabels=1,\n",
    "#     row_cluster=False,\n",
    ")"
   ]
  },
  {
   "cell_type": "code",
   "execution_count": null,
   "metadata": {},
   "outputs": [],
   "source": [
    "from scripts.strain_facts import genotype_distance\n",
    "\n",
    "genotype_distance(fit.gamma.sel(strain=18), fit.gamma.sel(strain=9))"
   ]
  },
  {
   "cell_type": "markdown",
   "metadata": {},
   "source": [
    "### D0044"
   ]
  },
  {
   "cell_type": "code",
   "execution_count": null,
   "metadata": {},
   "outputs": [],
   "source": [
    "d44_libs = list(set(idxwhere(meta.donor_subject_id == 'D0044')) & set(fit.library_id.values))\n",
    "d44_strains = idxwhere((fit.pi.sel(library_id=d44_libs).sum('library_id') > 1e-1).to_series())\n",
    "\n",
    "sns.clustermap(\n",
    "    fit.pi.sel(library_id=d44_libs, strain=d44_strains).to_pandas(),\n",
    "    metric='cosine',\n",
    "    xticklabels=1, yticklabels=1,\n",
    "    norm=mpl.colors.PowerNorm(1/1),\n",
    ")"
   ]
  },
  {
   "cell_type": "code",
   "execution_count": null,
   "metadata": {},
   "outputs": [],
   "source": [
    "sns.clustermap(\n",
    "    fit.pi.sel(\n",
    "        library_id=ucfmt_meta[lambda x: x.subject_id=='D0044'].index,\n",
    "        strain=d44_strains,\n",
    "    ).to_pandas(),\n",
    "    metric='cosine',\n",
    "    xticklabels=1, yticklabels=1,\n",
    "    norm=mpl.colors.PowerNorm(1/2),\n",
    ")"
   ]
  },
  {
   "cell_type": "code",
   "execution_count": null,
   "metadata": {},
   "outputs": [],
   "source": [
    "sns.clustermap(\n",
    "    (\n",
    "        ((fit.gamma * 2) - 1)\n",
    "        .sel(strain=d44_strains).T\n",
    "    ).to_pandas().sort_index(),\n",
    "    metric='cosine',\n",
    "    cmap='coolwarm',\n",
    "    xticklabels=1,\n",
    "#     row_cluster=False,\n",
    ")"
   ]
  },
  {
   "cell_type": "raw",
   "metadata": {},
   "source": [
    "from scripts.strain_facts import genotype_distance\n",
    "\n",
    "genotype_distance(fit.gamma.sel(strain=0), fit.gamma.sel(strain=1))"
   ]
  },
  {
   "cell_type": "markdown",
   "metadata": {},
   "source": [
    "## Strain Entropy"
   ]
  },
  {
   "cell_type": "code",
   "execution_count": null,
   "metadata": {},
   "outputs": [],
   "source": [
    "strain_total_cvrg = (fit.pi.T * fit.m.mean('position')).sum('library_id')\n",
    "strain_entropy = binary_entropy(fit.gamma).mean('position')\n",
    "\n",
    "plt.scatter(strain_total_cvrg, strain_entropy, s=5)\n",
    "plt.ylabel('strain-entropy')\n",
    "plt.xlabel('estimated-total-coverage')\n",
    "\n",
    "#plt.xscale('symlog', linthresh=1e2)\n",
    "#plt.xlim(-10, 1000)\n",
    "plt.xscale('log')"
   ]
  },
  {
   "cell_type": "code",
   "execution_count": null,
   "metadata": {},
   "outputs": [],
   "source": [
    "plt.hist(strain_entropy)\n",
    "None"
   ]
  },
  {
   "cell_type": "code",
   "execution_count": null,
   "metadata": {},
   "outputs": [],
   "source": []
  }
 ],
 "metadata": {
  "kernelspec": {
   "display_name": "Python 3",
   "language": "python",
   "name": "python3"
  },
  "language_info": {
   "codemirror_mode": {
    "name": "ipython",
    "version": 3
   },
   "file_extension": ".py",
   "mimetype": "text/x-python",
   "name": "python",
   "nbconvert_exporter": "python",
   "pygments_lexer": "ipython3",
   "version": "3.8.6"
  },
  "toc": {
   "base_numbering": 1,
   "nav_menu": {},
   "number_sections": true,
   "sideBar": true,
   "skip_h1_title": false,
   "title_cell": "Table of Contents",
   "title_sidebar": "Contents",
   "toc_cell": false,
   "toc_position": {
    "height": "calc(100% - 180px)",
    "left": "10px",
    "top": "150px",
    "width": "217px"
   },
   "toc_section_display": true,
   "toc_window_display": true
  }
 },
 "nbformat": 4,
 "nbformat_minor": 4
}
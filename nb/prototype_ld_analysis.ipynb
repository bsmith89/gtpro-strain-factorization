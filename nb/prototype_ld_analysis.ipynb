{
 "cells": [
  {
   "cell_type": "markdown",
   "metadata": {},
   "source": [
    "## Preamble"
   ]
  },
  {
   "cell_type": "code",
   "execution_count": null,
   "metadata": {},
   "outputs": [],
   "source": [
    "import pandas as pd\n",
    "from lib.util import info, idxwhere\n",
    "import matplotlib as mpl\n",
    "import matplotlib.pyplot as plt\n",
    "import seaborn as sns\n",
    "import numpy as np\n",
    "import scipy as sp\n",
    "\n",
    "from scipy.spatial.distance import pdist, squareform\n",
    "\n",
    "import pyro\n",
    "import pyro.distributions as dist\n",
    "import torch\n",
    "from functools import partial\n",
    "import arviz as az\n",
    "from pyro.ops.contract import einsum\n",
    "import seaborn as sns\n",
    "from tqdm import tqdm\n",
    "import xarray as xr\n",
    "\n",
    "import sqlite3\n",
    "\n",
    "def rss(x, y):\n",
    "    return np.sqrt(np.sum((x - y)**2))\n",
    "\n",
    "def binary_entropy(p):\n",
    "    q = (1 - p)\n",
    "    return -p * np.log2(p) - q * np.log2(q)\n",
    "\n",
    "def plot_loss_history(loss_history):\n",
    "    min_loss = loss_history.min()\n",
    "    plt.plot(loss_history - min_loss)\n",
    "    plt.plot(\n",
    "        np.linspace(0, len(loss_history), num=1000),\n",
    "        np.linspace(len(loss_history), 0, num=1000),\n",
    "        lw=1, linestyle='--', color='grey'\n",
    "        )\n",
    "    plt.title(f'+{min_loss:0.3e}')\n",
    "    plt.yscale('log')\n",
    "    return plt.gca()\n",
    "\n",
    "def mean_residual_count(expect_frac, obs_count, m):\n",
    "    frac_obs = obs_count / m\n",
    "    out = np.abs(((frac_obs - expect_frac)))\n",
    "    out[np.isnan(out)] = 0\n",
    "    return (out * m).sum() / m.sum()\n",
    "\n",
    "def linear_distance(linear_index):\n",
    "    linear_index = linear_index.to_frame()\n",
    "    return pd.DataFrame(\n",
    "        squareform(\n",
    "            pdist(\n",
    "                linear_index,\n",
    "                metric='cityblock'\n",
    "            )\n",
    "        ),\n",
    "        index=linear_index.index,\n",
    "        columns=linear_index.index,\n",
    "    )\n",
    "\n",
    "mpl.rcParams['figure.dpi']= 120"
   ]
  },
  {
   "cell_type": "markdown",
   "metadata": {},
   "source": [
    "## Metadata"
   ]
  },
  {
   "cell_type": "code",
   "execution_count": null,
   "metadata": {},
   "outputs": [],
   "source": [
    "position_meta_ = pd.read_table(\n",
    "    '/pollard/data/gt-pro-db/variants_main.covered.hq.snp_dict.tsv',\n",
    "    names=['species_id', 'position', 'contig', 'contig_position', 'ref', 'alt']\n",
    ").set_index('position')"
   ]
  },
  {
   "cell_type": "markdown",
   "metadata": {},
   "source": [
    "## Load data"
   ]
  },
  {
   "cell_type": "code",
   "execution_count": null,
   "metadata": {},
   "outputs": [],
   "source": [
    "species_id = 100022\n",
    "\n",
    "fit = xr.open_dataset(f'data/core.sp-{species_id}.gtpro-pileup.filt.sfacts-s3000-g6000-gamma3-rho1-pi2-eps1000-alph100.nc')\n",
    "fit"
   ]
  },
  {
   "cell_type": "code",
   "execution_count": null,
   "metadata": {},
   "outputs": [],
   "source": [
    "position_meta = position_meta_[lambda x: x.species_id == species_id]"
   ]
  },
  {
   "cell_type": "markdown",
   "metadata": {},
   "source": [
    "## Check fit"
   ]
  },
  {
   "cell_type": "code",
   "execution_count": null,
   "metadata": {},
   "outputs": [],
   "source": [
    "plot_loss_history(fit.elbo_trace.values)"
   ]
  },
  {
   "cell_type": "code",
   "execution_count": null,
   "metadata": {},
   "outputs": [],
   "source": [
    "np.abs(fit.y - (fit.p * fit.m)).sum() / fit.m.sum()"
   ]
  },
  {
   "cell_type": "code",
   "execution_count": null,
   "metadata": {},
   "outputs": [],
   "source": [
    "plt.hist(fit.pi.max('strain'), bins=np.linspace(0, 1, num=11))\n",
    "#plt.yscale('log')\n",
    "None"
   ]
  },
  {
   "cell_type": "code",
   "execution_count": null,
   "metadata": {},
   "outputs": [],
   "source": [
    "plt.plot(fit.pi.max('library_id').to_series().sort_values(ascending=False).values)\n",
    "plt.axhline(0, lw=1, c='k', linestyle='--')"
   ]
  },
  {
   "cell_type": "code",
   "execution_count": null,
   "metadata": {},
   "outputs": [],
   "source": [
    "plt.hist(np.log10((fit.pi > 0.1).sum('library_id')), bins=50)"
   ]
  },
  {
   "cell_type": "code",
   "execution_count": null,
   "metadata": {},
   "outputs": [],
   "source": [
    "#fit.gamma.sel(strain=fit.pi.max('library_id'))"
   ]
  },
  {
   "cell_type": "code",
   "execution_count": null,
   "metadata": {},
   "outputs": [],
   "source": [
    "plt.hist(fit.pi.max('library_id'), bins=20)\n",
    "plt.yscale('log')\n",
    "None"
   ]
  },
  {
   "cell_type": "code",
   "execution_count": null,
   "metadata": {},
   "outputs": [],
   "source": [
    "plt.hist((fit.pi > 0.1).sum('library_id'), bins=50)\n",
    "plt.yscale('log')"
   ]
  },
  {
   "cell_type": "markdown",
   "metadata": {},
   "source": [
    "## Missing genome fragments:"
   ]
  },
  {
   "cell_type": "code",
   "execution_count": null,
   "metadata": {},
   "outputs": [],
   "source": [
    "d = ((fit.y / fit.m) * 2 - 1).to_pandas().sort_index(axis=1).T.fillna(0)\n",
    "libs = idxwhere((fit.m.mean('position') > 1).to_series())\n",
    "\n",
    "#fig = plt.figure(figsize=(3, 5))\n",
    "sns.clustermap(d[libs], metric='cosine', cmap='coolwarm', vmin=-1, vmax=1)"
   ]
  },
  {
   "cell_type": "markdown",
   "metadata": {},
   "source": [
    "## Linkage Disequilibrium"
   ]
  },
  {
   "cell_type": "code",
   "execution_count": null,
   "metadata": {},
   "outputs": [],
   "source": [
    "sns.clustermap(\n",
    "    (\n",
    "        ((fit.gamma * 2) - 1)\n",
    "        .sel(\n",
    "            strain=idxwhere(\n",
    "                ((fit.pi > 0.5)\n",
    "                 .sum('library_id') > 4\n",
    "                ).to_series()),\n",
    "        ).T\n",
    "    ).to_pandas().sort_index(0),\n",
    "    metric='cosine',\n",
    "    cmap='coolwarm',\n",
    "    row_cluster=True,\n",
    "    \n",
    ")"
   ]
  },
  {
   "cell_type": "code",
   "execution_count": null,
   "metadata": {},
   "outputs": [],
   "source": [
    "def pos_psim(gamma):\n",
    "    gamma = gamma.to_pandas()\n",
    "    return pd.DataFrame((1 - squareform(pdist((gamma), metric='correlation')))**2,\n",
    "                        index=gamma.index,\n",
    "                        columns=gamma.index)\n",
    "\n",
    "# def geno_cosine_psim(gamma):\n",
    "#     gamma = gamma.to_pandas()\n",
    "#     return pd.DataFrame((1 - squareform(pdist((gamma * 2) - 1, metric='cosine'))),\n",
    "#                         index=gamma.index,\n",
    "#                         columns=gamma.index)\n",
    "\n",
    "# strain_sim = geno_cosine_psim(fit.gamma)\n",
    "position_sim = pos_psim(fit.gamma.T).sort_index().sort_index(1)"
   ]
  },
  {
   "cell_type": "code",
   "execution_count": null,
   "metadata": {},
   "outputs": [],
   "source": [
    "snp_info = (\n",
    "    position_meta\n",
    "    .groupby('contig')\n",
    "    .apply(len)\n",
    "    .to_frame(name='total_count')\n",
    "    .assign(\n",
    "        fit_count=\n",
    "        position_meta.loc[fit.gamma.position]\n",
    "        .groupby('contig')\n",
    "        .apply(len)\n",
    "    ).fillna(0)\n",
    ").sort_values('fit_count', ascending=False)\n",
    "\n",
    "snp_info.head(10)"
   ]
  },
  {
   "cell_type": "code",
   "execution_count": null,
   "metadata": {},
   "outputs": [],
   "source": [
    "position_ldist_ = linear_distance(\n",
    "    position_meta.loc[fit.position]['contig_position']\n",
    ").sort_index().sort_index(1)"
   ]
  },
  {
   "cell_type": "code",
   "execution_count": null,
   "metadata": {},
   "outputs": [],
   "source": [
    "import patsy\n",
    "\n",
    "same_contig = pd.DataFrame(\n",
    "    1 - squareform(\n",
    "        pdist(\n",
    "            patsy.dmatrix(\n",
    "                'contig - 1', data=position_meta.loc[fit.position]['contig'].to_frame(), return_type='dataframe'\n",
    "            ),\n",
    "            'jaccard'),\n",
    "    ),\n",
    "    index=fit.position, columns=fit.position,\n",
    "\n",
    ")\n",
    "#sns.heatmap(same_contig.sort_index().sort_index(1))"
   ]
  },
  {
   "cell_type": "markdown",
   "metadata": {},
   "source": [
    "### All strains"
   ]
  },
  {
   "cell_type": "code",
   "execution_count": null,
   "metadata": {},
   "outputs": [],
   "source": [
    "position_ldist = position_ldist_.stack().where(same_contig.stack().astype(bool), np.nan).unstack()"
   ]
  },
  {
   "cell_type": "code",
   "execution_count": null,
   "metadata": {},
   "outputs": [],
   "source": [
    "assert position_ldist.shape == position_sim.shape\n",
    "assert np.all(position_ldist.index == position_sim.index)\n",
    "assert np.all(position_ldist.columns == position_sim.columns)"
   ]
  },
  {
   "cell_type": "code",
   "execution_count": null,
   "metadata": {},
   "outputs": [],
   "source": [
    "sns.heatmap(position_ldist.iloc[:1000,:1000], norm=mpl.colors.PowerNorm(1/3))"
   ]
  },
  {
   "cell_type": "code",
   "execution_count": null,
   "metadata": {},
   "outputs": [],
   "source": [
    "d = pd.DataFrame(dict(\n",
    "    dist=squareform(position_ldist.fillna(-1)),\n",
    "    rsq=(1 - squareform(1 - position_sim.loc[position_ldist.index, position_ldist.index].values)),\n",
    ")).assign(dist=lambda x: x.dist.replace({-1: np.nan}))\n",
    "\n",
    "sns.jointplot(x='dist', y='rsq', data=d, kind='hex',\n",
    "              joint_kws=dict(norm=mpl.colors.SymLogNorm(linthresh=1)))"
   ]
  },
  {
   "cell_type": "code",
   "execution_count": null,
   "metadata": {},
   "outputs": [],
   "source": [
    "for bin_size in [10, 25, 50, 100, 200, 500, 1000, 5000, 10000]:\n",
    "    print(\n",
    "        bin_size,\n",
    "        sp.stats.pearsonr(d[d.dist < bin_size].dist, d[d.dist < bin_size].rsq)[0],\n",
    "        sp.stats.spearmanr(d[d.dist < bin_size].dist, d[d.dist < bin_size].rsq).correlation,\n",
    "        sp.stats.spearmanr(d[d.dist < bin_size].dist, d[d.dist < bin_size].rsq).pvalue,\n",
    "        sep='\\t'\n",
    "    )"
   ]
  },
  {
   "cell_type": "code",
   "execution_count": null,
   "metadata": {},
   "outputs": [],
   "source": [
    "sns.jointplot(x='dist', y='rsq', data=d[d.dist < 100], kind='hex',\n",
    "              joint_kws=dict(norm=mpl.colors.SymLogNorm(linthresh=10)))"
   ]
  },
  {
   "cell_type": "code",
   "execution_count": null,
   "metadata": {},
   "outputs": [],
   "source": [
    "plt.hist(\n",
    "    d.rsq,\n",
    "    orientation='horizontal',\n",
    "    bins=np.linspace(0, 1, num=51),\n",
    ")"
   ]
  },
  {
   "cell_type": "code",
   "execution_count": null,
   "metadata": {},
   "outputs": [],
   "source": [
    "sns.regplot(\n",
    "    x='dist', y='rsq', data=d[d.dist < 200], color='black', logx=True, scatter_kws=dict(s=1, alpha=0.25), x_jitter=True,\n",
    "    line_kws=dict(color='darkblue'), ci=0,\n",
    ")"
   ]
  },
  {
   "cell_type": "markdown",
   "metadata": {},
   "source": [
    "### Within strain clusters"
   ]
  },
  {
   "cell_type": "code",
   "execution_count": null,
   "metadata": {},
   "outputs": [],
   "source": [
    "from sklearn.cluster import AgglomerativeClustering\n",
    "from scripts.strain_facts import genotype_distance\n",
    "from scipy.spatial.distance import pdist, squareform\n",
    "\n",
    "geno_dist = squareform(\n",
    "    pdist(fit[\"gamma\"], metric=genotype_distance)\n",
    ")\n",
    "\n",
    "info(\"Clustering.\")\n",
    "clust = pd.Series(\n",
    "    AgglomerativeClustering(\n",
    "        n_clusters=None,\n",
    "        affinity=\"precomputed\",\n",
    "        linkage=\"complete\",\n",
    "        distance_threshold=0.05,\n",
    "    )\n",
    "    .fit(geno_dist)\n",
    "    .labels_\n",
    ")"
   ]
  },
  {
   "cell_type": "code",
   "execution_count": null,
   "metadata": {},
   "outputs": [],
   "source": [
    "clust.value_counts()"
   ]
  },
  {
   "cell_type": "code",
   "execution_count": null,
   "metadata": {},
   "outputs": [],
   "source": [
    "sns.clustermap(\n",
    "    (\n",
    "        ((fit.gamma * 2) - 1)\n",
    "        .sel(\n",
    "            strain=idxwhere(clust.isin([8, 4, 50]))\n",
    "        ).T\n",
    "    ).to_pandas().sort_index(0),\n",
    "    metric='cosine',\n",
    "    cmap='coolwarm',\n",
    "    row_cluster=True,\n",
    ")"
   ]
  },
  {
   "cell_type": "code",
   "execution_count": null,
   "metadata": {},
   "outputs": [],
   "source": [
    "psim = pos_psim(fit.gamma.T).sort_index().sort_index(1)\n",
    "\n",
    "d = pd.DataFrame(dict(\n",
    "    dist=squareform(position_ldist.fillna(-1)),\n",
    "    rsq=(1 - squareform(1 - psim.loc[position_ldist.index, position_ldist.index].values)),\n",
    ")).assign(dist=lambda x: x.dist.replace({-1: np.nan}))\n",
    "\n",
    "sns.regplot(x='dist', y='rsq', data=d[d.dist < 200], logx=True, scatter_kws=dict(s=1, alpha=0.5, color='black'), x_jitter=True)"
   ]
  },
  {
   "cell_type": "code",
   "execution_count": null,
   "metadata": {},
   "outputs": [],
   "source": [
    "psim = pos_psim(fit.gamma.sel(strain=idxwhere(clust.isin([8]))).T).sort_index().sort_index(1)\n",
    "\n",
    "d = pd.DataFrame(dict(\n",
    "    dist=squareform(position_ldist.fillna(-1)),\n",
    "    rsq=(1 - squareform(1 - psim.loc[position_ldist.index, position_ldist.index].values)),\n",
    ")).assign(dist=lambda x: x.dist.replace({-1: np.nan}))\n",
    "\n",
    "sns.regplot(x='dist', y='rsq', data=d[d.dist < 200], logx=True, scatter_kws=dict(s=1, alpha=0.5, color='black'), x_jitter=True)"
   ]
  },
  {
   "cell_type": "code",
   "execution_count": null,
   "metadata": {},
   "outputs": [],
   "source": [
    "psim = pos_psim(fit.gamma.sel(strain=idxwhere(clust.isin([4]))).T).sort_index().sort_index(1)\n",
    "\n",
    "d = pd.DataFrame(dict(\n",
    "    dist=squareform(position_ldist.fillna(-1)),\n",
    "    rsq=(1 - squareform(1 - psim.loc[position_ldist.index, position_ldist.index].values)),\n",
    ")).assign(dist=lambda x: x.dist.replace({-1: np.nan}))\n",
    "\n",
    "sns.regplot(x='dist', y='rsq', data=d[d.dist < 200], logx=True, scatter_kws=dict(s=1, alpha=0.5, color='black'), x_jitter=True)"
   ]
  },
  {
   "cell_type": "markdown",
   "metadata": {},
   "source": [
    "### Alternative functional forms"
   ]
  },
  {
   "cell_type": "code",
   "execution_count": null,
   "metadata": {},
   "outputs": [],
   "source": [
    "sp.special.sigm"
   ]
  },
  {
   "cell_type": "code",
   "execution_count": null,
   "metadata": {},
   "outputs": [],
   "source": []
  },
  {
   "cell_type": "code",
   "execution_count": null,
   "metadata": {},
   "outputs": [],
   "source": [
    "import statsmodels.formula.api as smf\n",
    "\n",
    "\n",
    "psim = pos_psim(fit.gamma.T).sort_index().sort_index(1)\n",
    "\n",
    "d = pd.DataFrame(dict(\n",
    "    dist=squareform(position_ldist.fillna(-1)),\n",
    "    rsq=(1 - squareform(1 - psim.loc[position_ldist.index, position_ldist.index].values)),\n",
    ")).assign(dist=lambda x: x.dist.replace({-1: np.nan}))\n",
    "\n",
    "dmax = 100\n",
    "\n",
    "# Scatter\n",
    "plt.scatter('dist', 'rsq', data=d[d.dist < dmax], s=1, alpha=0.25, color='black')\n",
    "\n",
    "# Best fit\n",
    "xx = np.linspace(1, dmax, num=dmax)\n",
    "\n",
    "lm = smf.ols('sp.special.logit(rsq) ~ np.log(dist)', data=d, subset=d.dist < dmax).fit()\n",
    "yy = sp.special.expit(lm.params['Intercept'] + lm.params['np.log(dist)'] * np.log(xx))\n",
    "plt.plot(xx, yy)\n",
    "plt.xscale('log')\n",
    "plt.yscale('logit')\n",
    "\n",
    "lm.summary()"
   ]
  },
  {
   "cell_type": "code",
   "execution_count": null,
   "metadata": {},
   "outputs": [],
   "source": [
    "sns.regplot(lm.predict(), lm.resid_pearson, lowess=True, scatter_kws=dict(s=1, alpha=0.5, color='black'), x_jitter=True)\n",
    "plt.axhline(0, lw=1, linestyle='--', color='grey')"
   ]
  },
  {
   "cell_type": "code",
   "execution_count": null,
   "metadata": {},
   "outputs": [],
   "source": []
  }
 ],
 "metadata": {
  "kernelspec": {
   "display_name": "Python 3",
   "language": "python",
   "name": "python3"
  },
  "language_info": {
   "codemirror_mode": {
    "name": "ipython",
    "version": 3
   },
   "file_extension": ".py",
   "mimetype": "text/x-python",
   "name": "python",
   "nbconvert_exporter": "python",
   "pygments_lexer": "ipython3",
   "version": "3.8.6"
  },
  "toc": {
   "base_numbering": 1,
   "nav_menu": {},
   "number_sections": true,
   "sideBar": true,
   "skip_h1_title": false,
   "title_cell": "Table of Contents",
   "title_sidebar": "Contents",
   "toc_cell": false,
   "toc_position": {
    "height": "calc(100% - 180px)",
    "left": "10px",
    "top": "150px",
    "width": "217px"
   },
   "toc_section_display": true,
   "toc_window_display": true
  }
 },
 "nbformat": 4,
 "nbformat_minor": 4
}
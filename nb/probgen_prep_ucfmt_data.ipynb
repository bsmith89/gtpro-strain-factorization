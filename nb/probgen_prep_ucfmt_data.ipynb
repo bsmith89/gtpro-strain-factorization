{
 "cells": [
  {
   "cell_type": "code",
   "execution_count": null,
   "metadata": {},
   "outputs": [],
   "source": [
    "%load_ext autoreload\n",
    "%autoreload 2"
   ]
  },
  {
   "cell_type": "markdown",
   "metadata": {},
   "source": [
    "## Imports"
   ]
  },
  {
   "cell_type": "code",
   "execution_count": null,
   "metadata": {},
   "outputs": [],
   "source": [
    "from sfacts.data import load_input_data, select_informative_positions\n",
    "import numpy as np\n",
    "from sfacts.logging_util import info\n",
    "from sfacts.pandas_util import idxwhere\n",
    "from sfacts.workflow import fit_to_data\n",
    "import sfacts as sf"
   ]
  },
  {
   "cell_type": "code",
   "execution_count": null,
   "metadata": {},
   "outputs": [],
   "source": [
    "inpath = ['data/ucfmt.sp-100022.gtpro-pileup.nc']\n",
    "incid_thresh = 0.1\n",
    "cvrg_thresh = 0.15\n",
    "npos = 2000\n",
    "\n",
    "\n",
    "info(\"Loading input data.\")\n",
    "data = load_input_data(inpath)\n",
    "info(f\"Full data shape: {data.sizes}.\")\n",
    "\n",
    "info(\"Filtering positions.\")\n",
    "informative_positions = select_informative_positions(\n",
    "    data, incid_thresh\n",
    ")\n",
    "npos_available = len(informative_positions)\n",
    "info(\n",
    "    f\"Found {npos_available} informative positions with minor \"\n",
    "    f\"allele incidence of >{incid_thresh}\"\n",
    ")\n",
    "\n",
    "npos = min(npos, npos_available)\n",
    "info(f\"Randomly sampling {npos} positions.\")\n",
    "position_ss = np.random.choice(\n",
    "    informative_positions,\n",
    "    size=npos,\n",
    "    replace=False,\n",
    ")\n",
    "\n",
    "info(\"Filtering libraries.\")\n",
    "suff_cvrg_samples = idxwhere(\n",
    "    (\n",
    "        (\n",
    "            data.sel(position=informative_positions).sum([\"allele\"]) > 0\n",
    "        ).mean(\"position\")\n",
    "        > cvrg_thresh\n",
    "    ).to_series()\n",
    ")\n",
    "nlibs = len(suff_cvrg_samples)\n",
    "info(\n",
    "    f\"Found {nlibs} libraries with >{cvrg_thresh:0.1%} \"\n",
    "    f\"of informative positions covered.\"\n",
    ")"
   ]
  },
  {
   "cell_type": "code",
   "execution_count": null,
   "metadata": {},
   "outputs": [],
   "source": [
    "info(\"Constructing input data.\")\n",
    "data_fit = data.sel(library_id=suff_cvrg_samples, position=position_ss)\n",
    "m_ss = data_fit.sum(\"allele\")\n",
    "n, g_ss = m_ss.shape\n",
    "y_obs_ss = data_fit.sel(allele=\"alt\")"
   ]
  },
  {
   "cell_type": "code",
   "execution_count": null,
   "metadata": {},
   "outputs": [],
   "source": [
    "sf.plot.plot_genotype(sf.genotype.counts_to_p_estimate(y_obs_ss.values, m_ss.values))"
   ]
  },
  {
   "cell_type": "code",
   "execution_count": null,
   "metadata": {},
   "outputs": [],
   "source": [
    "seed = 1\n",
    "\n",
    "info(\"Optimizing model parameters.\")\n",
    "mrg_ss, fit_ss, history = fit_to_data(\n",
    "        y_obs_ss.values,\n",
    "        m_ss.values,\n",
    "        preclust_kwargs=dict(\n",
    "            thresh=0.05,\n",
    "            additional_strains_factor=0.,\n",
    "            progress=False,\n",
    "        ),\n",
    "        fit_kwargs=dict(\n",
    "            gamma_hyper=0.01,\n",
    "            pi_hyper=1.0,\n",
    "            rho_hyper=0.5,\n",
    "            mu_hyper_mean=5,\n",
    "            mu_hyper_scale=5.,\n",
    "            m_hyper_r=10.,\n",
    "            delta_hyper_temp=0.1,\n",
    "            delta_hyper_p=0.9,\n",
    "            alpha_hyper_hyper_mean=100.,\n",
    "            alpha_hyper_hyper_scale=10.,\n",
    "            alpha_hyper_scale=0.5,\n",
    "            epsilon_hyper_alpha=1.5,\n",
    "            epsilon_hyper_beta=1.5 / 0.01,\n",
    "            device='cpu',\n",
    "            lag=100,\n",
    "            lr=2e-0,\n",
    "            progress=True\n",
    "        ),\n",
    "        postclust_kwargs=dict(\n",
    "            thresh=0.1,\n",
    "        ),\n",
    "        seed=seed,\n",
    "    )"
   ]
  },
  {
   "cell_type": "code",
   "execution_count": null,
   "metadata": {},
   "outputs": [],
   "source": [
    "sf.plot.plot_loss_history(history)"
   ]
  },
  {
   "cell_type": "code",
   "execution_count": null,
   "metadata": {},
   "outputs": [],
   "source": [
    "sf.plot.plot_genotype(mrg_ss['gamma'])"
   ]
  },
  {
   "cell_type": "code",
   "execution_count": null,
   "metadata": {},
   "outputs": [],
   "source": [
    "sf.plot.plot_missing(mrg_ss['delta'])"
   ]
  },
  {
   "cell_type": "code",
   "execution_count": null,
   "metadata": {},
   "outputs": [],
   "source": [
    "sf.plot.plot_community(mrg_ss['pi'], yticklabels=1)"
   ]
  },
  {
   "cell_type": "code",
   "execution_count": null,
   "metadata": {},
   "outputs": [],
   "source": [
    "import matplotlib.pyplot as plt\n",
    "\n",
    "plt.hist(np.log10(mrg_ss['alpha']))"
   ]
  },
  {
   "cell_type": "code",
   "execution_count": null,
   "metadata": {},
   "outputs": [],
   "source": []
  }
 ],
 "metadata": {
  "kernelspec": {
   "display_name": "Python 3",
   "language": "python",
   "name": "python3"
  },
  "language_info": {
   "codemirror_mode": {
    "name": "ipython",
    "version": 3
   },
   "file_extension": ".py",
   "mimetype": "text/x-python",
   "name": "python",
   "nbconvert_exporter": "python",
   "pygments_lexer": "ipython3",
   "version": "3.8.5"
  },
  "toc": {
   "base_numbering": 1,
   "nav_menu": {},
   "number_sections": true,
   "sideBar": true,
   "skip_h1_title": false,
   "title_cell": "Table of Contents",
   "title_sidebar": "Contents",
   "toc_cell": false,
   "toc_position": {},
   "toc_section_display": true,
   "toc_window_display": false
  }
 },
 "nbformat": 4,
 "nbformat_minor": 4
}
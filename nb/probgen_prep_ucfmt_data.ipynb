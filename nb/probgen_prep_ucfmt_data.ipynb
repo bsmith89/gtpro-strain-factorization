{
 "cells": [
  {
   "cell_type": "markdown",
   "metadata": {},
   "source": [
    "## Imports"
   ]
  },
  {
   "cell_type": "code",
   "execution_count": null,
   "metadata": {},
   "outputs": [],
   "source": [
    "%load_ext autoreload\n",
    "%autoreload 2"
   ]
  },
  {
   "cell_type": "code",
   "execution_count": null,
   "metadata": {},
   "outputs": [],
   "source": [
    "from sfacts.data import load_input_data, select_informative_positions\n",
    "import numpy as np\n",
    "from sfacts.logging_util import info\n",
    "from sfacts.pandas_util import idxwhere\n",
    "from sfacts.workflow import fit_to_data\n",
    "import sfacts as sf\n",
    "import matplotlib as mpl\n",
    "import matplotlib.pyplot as plt\n",
    "import warnings\n",
    "import torch\n",
    "import pandas as pd"
   ]
  },
  {
   "cell_type": "code",
   "execution_count": null,
   "metadata": {},
   "outputs": [],
   "source": [
    "warnings.filterwarnings(\n",
    "    \"ignore\",\n",
    "    message=\"torch.tensor results are registered as constants in the trace. You can safely ignore this warning if you use this function to create tensors out of constant variables that would be the same every time you call this function. In any other case, this might cause the trace to be incorrect.\",\n",
    "    category=torch.jit.TracerWarning,\n",
    "#     module=\"trace_elbo\",  # FIXME: What is the correct regex for module?\n",
    "#     lineno=5,\n",
    ")"
   ]
  },
  {
   "cell_type": "markdown",
   "metadata": {},
   "source": [
    "## UCFMT"
   ]
  },
  {
   "cell_type": "markdown",
   "metadata": {},
   "source": [
    "### 102506 (Escherichia)"
   ]
  },
  {
   "cell_type": "code",
   "execution_count": null,
   "metadata": {},
   "outputs": [],
   "source": [
    "info(\"Loading input data.\")\n",
    "data = load_input_data(['data/ucfmt.sp-102506.gtpro-pileup.nc'])\n",
    "\n",
    "mrg_ss, data_fit, history = sf.workflow.filter_subsample_and_fit(\n",
    "    data,\n",
    "    incid_thresh=0.2,\n",
    "    cvrg_thresh=0.05,\n",
    "    npos=5000,\n",
    "    preclust_kwargs=dict(\n",
    "        thresh=0.1,\n",
    "        additional_strains_factor=0.,\n",
    "        progress=True,\n",
    "    ),\n",
    "    fit_kwargs=dict(\n",
    "        gamma_hyper=0.01,\n",
    "        pi_hyper=0.5,\n",
    "        rho_hyper=0.5,\n",
    "        mu_hyper_mean=5,\n",
    "        mu_hyper_scale=5.,\n",
    "        m_hyper_r=10.,\n",
    "        delta_hyper_temp=0.1,\n",
    "        delta_hyper_p=0.9,\n",
    "        alpha_hyper_hyper_mean=100.,\n",
    "        alpha_hyper_hyper_scale=10.,\n",
    "        alpha_hyper_scale=0.5,\n",
    "        epsilon_hyper_alpha=1.5,\n",
    "        epsilon_hyper_beta=1.5 / 0.01,\n",
    "        device='cuda',\n",
    "        lag=100,\n",
    "        lr=1e-0,\n",
    "        progress=True\n",
    "    ),\n",
    "    postclust_kwargs=dict(\n",
    "        thresh=0.1,\n",
    "    ),\n",
    "    seed=1,\n",
    ")"
   ]
  },
  {
   "cell_type": "code",
   "execution_count": null,
   "metadata": {},
   "outputs": [],
   "source": [
    "sf.plot.plot_loss_history(history)"
   ]
  },
  {
   "cell_type": "code",
   "execution_count": null,
   "metadata": {},
   "outputs": [],
   "source": [
    "sf.plot.plot_genotype(\n",
    "    sf.genotype.counts_to_p_estimate(\n",
    "        data_fit.sel(allele='alt').values, data_fit.sum('allele').values,\n",
    "    ),\n",
    "    col_colors=mpl.cm.viridis(np.log10(mrg_ss['alpha'])),\n",
    ")"
   ]
  },
  {
   "cell_type": "code",
   "execution_count": null,
   "metadata": {},
   "outputs": [],
   "source": [
    "sf.plot.plot_genotype(mrg_ss['gamma'])"
   ]
  },
  {
   "cell_type": "code",
   "execution_count": null,
   "metadata": {},
   "outputs": [],
   "source": [
    "sf.plot.plot_missing(mrg_ss['delta'])"
   ]
  },
  {
   "cell_type": "code",
   "execution_count": null,
   "metadata": {},
   "outputs": [],
   "source": [
    "sf.plot.plot_community(\n",
    "    mrg_ss['pi'],\n",
    "    yticklabels=1,\n",
    "    row_colors=mpl.cm.viridis(np.log10(mrg_ss['alpha'])),\n",
    "    col_colors=mpl.cm.viridis(sf.evaluation.mean_masked_genotype_entropy(mrg_ss['gamma'], mrg_ss['delta'])),\n",
    "    norm=mpl.colors.PowerNorm(1/3),\n",
    ")"
   ]
  },
  {
   "cell_type": "code",
   "execution_count": null,
   "metadata": {},
   "outputs": [],
   "source": [
    "import matplotlib.pyplot as plt\n",
    "\n",
    "plt.hist(np.log10(mrg_ss['alpha']))"
   ]
  },
  {
   "cell_type": "markdown",
   "metadata": {},
   "source": [
    "#### Associate with metadat"
   ]
  },
  {
   "cell_type": "code",
   "execution_count": null,
   "metadata": {},
   "outputs": [],
   "source": [
    "sf.plot.plot_community(\n",
    "    pd.DataFrame(mrg_ss['pi'], index=data_fit.library_id),\n",
    "    yticklabels=1,\n",
    "    row_colors=mpl.cm.viridis(np.log10(mrg_ss['alpha'])),\n",
    "    col_colors=mpl.cm.viridis(sf.evaluation.mean_masked_genotype_entropy(mrg_ss['gamma'], mrg_ss['delta'])),\n",
    "    norm=mpl.colors.PowerNorm(1/3),\n",
    ")"
   ]
  },
  {
   "cell_type": "markdown",
   "metadata": {},
   "source": [
    "### 100022 (F. prausnitzii)"
   ]
  },
  {
   "cell_type": "code",
   "execution_count": null,
   "metadata": {},
   "outputs": [],
   "source": [
    "info(\"Loading input data.\")\n",
    "data = load_input_data(['data/ucfmt.sp-100022.gtpro-pileup.nc'])\n",
    "\n",
    "mrg_ss, data_fit, history = sf.workflow.filter_subsample_and_fit(\n",
    "    data,\n",
    "    incid_thresh=0.1,\n",
    "    cvrg_thresh=0.05,\n",
    "    npos=5000,\n",
    "    preclust_kwargs=dict(\n",
    "        thresh=0.1,\n",
    "        additional_strains_factor=0.,\n",
    "        progress=True,\n",
    "    ),\n",
    "    fit_kwargs=dict(\n",
    "        gamma_hyper=0.01,\n",
    "        pi_hyper=0.5,\n",
    "        rho_hyper=0.5,\n",
    "        mu_hyper_mean=5,\n",
    "        mu_hyper_scale=5.,\n",
    "        m_hyper_r=10.,\n",
    "        delta_hyper_temp=0.1,\n",
    "        delta_hyper_p=0.9,\n",
    "        alpha_hyper_hyper_mean=100.,\n",
    "        alpha_hyper_hyper_scale=10.,\n",
    "        alpha_hyper_scale=0.5,\n",
    "        epsilon_hyper_alpha=1.5,\n",
    "        epsilon_hyper_beta=1.5 / 0.01,\n",
    "        device='cuda',\n",
    "        lag=100,\n",
    "        lr=1e-0,\n",
    "        progress=True\n",
    "    ),\n",
    "    postclust_kwargs=dict(\n",
    "        thresh=0.1,\n",
    "    ),\n",
    "    seed=1,\n",
    ")"
   ]
  },
  {
   "cell_type": "code",
   "execution_count": null,
   "metadata": {},
   "outputs": [],
   "source": [
    "sf.plot.plot_loss_history(history)"
   ]
  },
  {
   "cell_type": "code",
   "execution_count": null,
   "metadata": {},
   "outputs": [],
   "source": [
    "sf.plot.plot_genotype(\n",
    "    sf.genotype.counts_to_p_estimate(\n",
    "        data_fit.sel(allele='alt').values, data_fit.sum('allele').values,\n",
    "    ),\n",
    "    col_colors=mpl.cm.viridis(np.log10(mrg_ss['alpha'])),\n",
    ")"
   ]
  },
  {
   "cell_type": "code",
   "execution_count": null,
   "metadata": {},
   "outputs": [],
   "source": [
    "sf.plot.plot_genotype(mrg_ss['gamma'])"
   ]
  },
  {
   "cell_type": "code",
   "execution_count": null,
   "metadata": {},
   "outputs": [],
   "source": [
    "sf.plot.plot_missing(mrg_ss['delta'])"
   ]
  },
  {
   "cell_type": "code",
   "execution_count": null,
   "metadata": {},
   "outputs": [],
   "source": [
    "sf.plot.plot_community(\n",
    "    mrg_ss['pi'],\n",
    "    yticklabels=1,\n",
    "    row_colors=mpl.cm.viridis(np.log10(mrg_ss['alpha'])),\n",
    "    col_colors=mpl.cm.viridis(sf.evaluation.mean_masked_genotype_entropy(mrg_ss['gamma'], mrg_ss['delta'])),\n",
    "    norm=mpl.colors.PowerNorm(1/3),\n",
    ")"
   ]
  },
  {
   "cell_type": "code",
   "execution_count": null,
   "metadata": {},
   "outputs": [],
   "source": [
    "import matplotlib.pyplot as plt\n",
    "\n",
    "plt.hist(np.log10(mrg_ss['alpha']))"
   ]
  },
  {
   "cell_type": "markdown",
   "metadata": {},
   "source": [
    "#### Associate with metadat"
   ]
  },
  {
   "cell_type": "code",
   "execution_count": null,
   "metadata": {},
   "outputs": [],
   "source": [
    "sf.plot.plot_community(\n",
    "    pd.DataFrame(mrg_ss['pi'], index=data_fit.library_id),\n",
    "    yticklabels=1,\n",
    "    row_colors=mpl.cm.viridis(np.log10(mrg_ss['alpha'])),\n",
    "    col_colors=mpl.cm.viridis(sf.evaluation.mean_masked_genotype_entropy(mrg_ss['gamma'], mrg_ss['delta'])),\n",
    "    norm=mpl.colors.PowerNorm(1/3),\n",
    ")"
   ]
  }
 ],
 "metadata": {
  "kernelspec": {
   "display_name": "Python 3",
   "language": "python",
   "name": "python3"
  },
  "language_info": {
   "codemirror_mode": {
    "name": "ipython",
    "version": 3
   },
   "file_extension": ".py",
   "mimetype": "text/x-python",
   "name": "python",
   "nbconvert_exporter": "python",
   "pygments_lexer": "ipython3",
   "version": "3.7.10"
  },
  "toc": {
   "base_numbering": 1,
   "nav_menu": {},
   "number_sections": true,
   "sideBar": true,
   "skip_h1_title": false,
   "title_cell": "Table of Contents",
   "title_sidebar": "Contents",
   "toc_cell": false,
   "toc_position": {},
   "toc_section_display": true,
   "toc_window_display": true
  }
 },
 "nbformat": 4,
 "nbformat_minor": 4
}
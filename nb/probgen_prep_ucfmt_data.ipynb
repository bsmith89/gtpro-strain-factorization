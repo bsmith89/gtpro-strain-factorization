{
 "cells": [
  {
   "cell_type": "markdown",
   "metadata": {},
   "source": [
    "## Imports"
   ]
  },
  {
   "cell_type": "code",
   "execution_count": null,
   "metadata": {},
   "outputs": [],
   "source": [
    "%load_ext autoreload\n",
    "%autoreload 2"
   ]
  },
  {
   "cell_type": "code",
   "execution_count": null,
   "metadata": {},
   "outputs": [],
   "source": [
    "from sfacts.data import load_input_data, select_informative_positions\n",
    "import numpy as np\n",
    "from sfacts.logging_util import info\n",
    "from sfacts.pandas_util import idxwhere\n",
    "from sfacts.workflow import fit_to_data\n",
    "import sfacts as sf\n",
    "import matplotlib as mpl\n",
    "import matplotlib.pyplot as plt"
   ]
  },
  {
   "cell_type": "markdown",
   "metadata": {},
   "source": [
    "## UCFMT"
   ]
  },
  {
   "cell_type": "markdown",
   "metadata": {},
   "source": [
    "### 100022 (F. prausnitzii)"
   ]
  },
  {
   "cell_type": "code",
   "execution_count": null,
   "metadata": {},
   "outputs": [],
   "source": [
    "mrg_ss, data_fit, history = sf.workflow.fit_from_files(\n",
    "    ['data/ucfmt.sp-100022.gtpro-pileup.nc'],\n",
    "    incid_thresh=0.1,\n",
    "    cvrg_thresh=0.05,\n",
    "    npos=2369,\n",
    "    seed=2,\n",
    "    preclust_kwargs=dict(\n",
    "        thresh=0.1,\n",
    "        additional_strains_factor=0.,\n",
    "        progress=True,\n",
    "    ),\n",
    "    fit_kwargs=dict(\n",
    "        gamma_hyper=0.01,\n",
    "        pi_hyper=1.0,\n",
    "        rho_hyper=0.5,\n",
    "        mu_hyper_mean=5,\n",
    "        mu_hyper_scale=5.,\n",
    "        m_hyper_r=10.,\n",
    "        delta_hyper_temp=0.1,\n",
    "        delta_hyper_p=0.9,\n",
    "        alpha_hyper_hyper_mean=100.,\n",
    "        alpha_hyper_hyper_scale=10.,\n",
    "        alpha_hyper_scale=0.5,\n",
    "        epsilon_hyper_alpha=1.5,\n",
    "        epsilon_hyper_beta=1.5 / 0.01,\n",
    "        device='cuda',\n",
    "        lag=100,\n",
    "        lr=1e-0,\n",
    "        progress=True\n",
    "    ),\n",
    "    postclust_kwargs=dict(\n",
    "        thresh=0.1,\n",
    "    ),\n",
    ")"
   ]
  },
  {
   "cell_type": "code",
   "execution_count": null,
   "metadata": {},
   "outputs": [],
   "source": [
    "sf.plot.plot_loss_history(history)"
   ]
  },
  {
   "cell_type": "code",
   "execution_count": null,
   "metadata": {},
   "outputs": [],
   "source": [
    "sf.plot.plot_genotype(sf.genotype.counts_to_p_estimate(\n",
    "    data_fit.sel(allele='alt').values, data_fit.sum('allele').values\n",
    "))"
   ]
  },
  {
   "cell_type": "code",
   "execution_count": null,
   "metadata": {},
   "outputs": [],
   "source": [
    "sf.plot.plot_genotype(mrg_ss['gamma'])"
   ]
  },
  {
   "cell_type": "code",
   "execution_count": null,
   "metadata": {},
   "outputs": [],
   "source": [
    "sf.plot.plot_missing(mrg_ss['delta'])"
   ]
  },
  {
   "cell_type": "code",
   "execution_count": null,
   "metadata": {},
   "outputs": [],
   "source": [
    "sf.plot.plot_community(\n",
    "    mrg_ss['pi'],\n",
    "    yticklabels=1,\n",
    "    row_colors=mpl.cm.viridis(np.log10(mrg_ss['alpha'])),\n",
    "    col_colors=mpl.cm.viridis(sf.evaluation.mean_masked_genotype_entropy(mrg_ss['gamma'], mrg_ss['delta'])),\n",
    "    norm=mpl.colors.PowerNorm(1/3),\n",
    ")"
   ]
  },
  {
   "cell_type": "code",
   "execution_count": null,
   "metadata": {},
   "outputs": [],
   "source": [
    "import matplotlib.pyplot as plt\n",
    "\n",
    "plt.hist(np.log10(mrg_ss['alpha']))"
   ]
  },
  {
   "cell_type": "markdown",
   "metadata": {},
   "source": [
    "### 102506 (Escherichia)"
   ]
  },
  {
   "cell_type": "code",
   "execution_count": null,
   "metadata": {},
   "outputs": [],
   "source": [
    "mrg_ss, data_fit, history = sf.workflow.fit_from_files(\n",
    "    ['data/ucfmt.sp-102506.gtpro-pileup.nc'],\n",
    "    incid_thresh=0.1,\n",
    "    cvrg_thresh=0.05,\n",
    "    npos=10000,\n",
    "    preclust_kwargs=dict(\n",
    "        thresh=0.1,\n",
    "        additional_strains_factor=0.,\n",
    "        progress=True,\n",
    "    ),\n",
    "    fit_kwargs=dict(\n",
    "        gamma_hyper=0.01,\n",
    "        pi_hyper=0.5,\n",
    "        rho_hyper=0.5,\n",
    "        mu_hyper_mean=5,\n",
    "        mu_hyper_scale=5.,\n",
    "        m_hyper_r=10.,\n",
    "        delta_hyper_temp=0.1,\n",
    "        delta_hyper_p=0.9,\n",
    "        alpha_hyper_hyper_mean=100.,\n",
    "        alpha_hyper_hyper_scale=10.,\n",
    "        alpha_hyper_scale=0.5,\n",
    "        epsilon_hyper_alpha=1.5,\n",
    "        epsilon_hyper_beta=1.5 / 0.01,\n",
    "        device='cuda',\n",
    "        lag=100,\n",
    "        lr=2e-0,\n",
    "        progress=True\n",
    "    ),\n",
    "    postclust_kwargs=dict(\n",
    "        thresh=0.1,\n",
    "    ),\n",
    "    seed=2,\n",
    ")"
   ]
  },
  {
   "cell_type": "code",
   "execution_count": null,
   "metadata": {},
   "outputs": [],
   "source": [
    "sf.plot.plot_loss_history(history)"
   ]
  },
  {
   "cell_type": "raw",
   "metadata": {},
   "source": [
    "sf.plot.plot_genotype(sf.genotype.counts_to_p_estimate(\n",
    "    data_fit.sel(allele='alt').values, data_fit.sum('allele').values\n",
    "))"
   ]
  },
  {
   "cell_type": "raw",
   "metadata": {},
   "source": [
    "sf.plot.plot_genotype(mrg_ss['gamma'])"
   ]
  },
  {
   "cell_type": "raw",
   "metadata": {},
   "source": [
    "sf.plot.plot_missing(mrg_ss['delta'])"
   ]
  },
  {
   "cell_type": "code",
   "execution_count": null,
   "metadata": {},
   "outputs": [],
   "source": [
    "sf.plot.plot_community(\n",
    "    mrg_ss['pi'],\n",
    "    yticklabels=1,\n",
    "    row_colors=mpl.cm.viridis(np.log10(mrg_ss['alpha'])),\n",
    "    col_colors=mpl.cm.viridis(sf.evaluation.mean_masked_genotype_entropy(mrg_ss['gamma'], mrg_ss['delta'])),\n",
    "    norm=mpl.colors.PowerNorm(1/3, vmin=0, vmax=1),\n",
    ")"
   ]
  },
  {
   "cell_type": "code",
   "execution_count": null,
   "metadata": {},
   "outputs": [],
   "source": [
    "import matplotlib.pyplot as plt\n",
    "\n",
    "plt.hist(np.log10(mrg_ss['alpha']))"
   ]
  },
  {
   "cell_type": "markdown",
   "metadata": {},
   "source": [
    "## All MGEN"
   ]
  },
  {
   "cell_type": "markdown",
   "metadata": {},
   "source": [
    "### 100022 (F. prausnitzii)"
   ]
  },
  {
   "cell_type": "code",
   "execution_count": null,
   "metadata": {},
   "outputs": [],
   "source": [
    "mrg_ss, data_fit, history = sf.workflow.fit_from_files(\n",
    "    ['data/core.sp-100022.gtpro-pileup.nc'],\n",
    "    incid_thresh=0.1,\n",
    "    cvrg_thresh=0.5,\n",
    "    npos=500,\n",
    "    preclust=False,\n",
    "#     preclust_kwargs=dict(\n",
    "#         thresh=0.1,\n",
    "#         additional_strains_factor=0.,\n",
    "#         progress=True,\n",
    "#     ),\n",
    "    fit_kwargs=dict(\n",
    "        s=1400,\n",
    "        gamma_hyper=0.01,\n",
    "        pi_hyper=0.001,\n",
    "        rho_hyper=0.1,\n",
    "        mu_hyper_mean=5,\n",
    "        mu_hyper_scale=5.,\n",
    "        m_hyper_r=10.,\n",
    "        delta_hyper_temp=0.1,\n",
    "        delta_hyper_p=0.9,\n",
    "#         alpha_hyper_hyper_mean=100.,\n",
    "#         alpha_hyper_hyper_scale=10.,\n",
    "#         alpha_hyper_scale=0.5,\n",
    "        alpha_hyper_hyper_mean=1000.,\n",
    "        alpha_hyper_hyper_scale=0.001,\n",
    "        alpha_hyper_scale=0.001,\n",
    "        epsilon_hyper_alpha=1.5,\n",
    "        epsilon_hyper_beta=1.5 / 0.01,\n",
    "        device='cuda',\n",
    "        lag=100,\n",
    "        lr=1e-1,\n",
    "        progress=True\n",
    "    ),\n",
    "    postclust_kwargs=dict(\n",
    "        thresh=0.1,\n",
    "        progress=True,\n",
    "    ),\n",
    "    seed=1,\n",
    ")"
   ]
  },
  {
   "cell_type": "code",
   "execution_count": null,
   "metadata": {},
   "outputs": [],
   "source": [
    "sf.plot.plot_loss_history(history)"
   ]
  },
  {
   "cell_type": "code",
   "execution_count": null,
   "metadata": {},
   "outputs": [],
   "source": [
    "plt.hist(np.log10(mrg_ss['alpha']), bins=100)\n",
    "#plt.yscale('log')\n",
    "None"
   ]
  },
  {
   "cell_type": "code",
   "execution_count": null,
   "metadata": {},
   "outputs": [],
   "source": [
    "plt.hist(np.log10(mrg_ss['epsilon']), bins=100)\n",
    "None"
   ]
  },
  {
   "cell_type": "code",
   "execution_count": null,
   "metadata": {},
   "outputs": [],
   "source": [
    "nsamples = 200\n",
    "top_strains = mrg_ss['pi'].sum(0).argsort()[-50:]\n",
    "\n",
    "sf.plot.plot_community(\n",
    "    mrg_ss['pi'][:nsamples, top_strains],\n",
    "    yticklabels=1,\n",
    "    row_colors=mpl.cm.viridis(np.log10(mrg_ss['alpha'][:nsamples])),\n",
    "    col_colors=mpl.cm.viridis(sf.evaluation.mean_masked_genotype_entropy(mrg_ss['gamma'], mrg_ss['delta'])[top_strains]),\n",
    "    norm=mpl.colors.PowerNorm(1/3),\n",
    ")"
   ]
  },
  {
   "cell_type": "code",
   "execution_count": null,
   "metadata": {},
   "outputs": [],
   "source": [
    "grid = sf.plot.plot_genotype(\n",
    "    mrg_ss['gamma'][top_strains],\n",
    "    col_colors=mpl.cm.viridis(sf.evaluation.mean_masked_genotype_entropy(mrg_ss['gamma'], mrg_ss['delta'])[top_strains]),\n",
    ")"
   ]
  },
  {
   "cell_type": "code",
   "execution_count": null,
   "metadata": {},
   "outputs": [],
   "source": [
    "grid = sf.plot.plot_missing(\n",
    "    mrg_ss['delta'][top_strains],\n",
    "    col_colors=mpl.cm.viridis(sf.evaluation.mean_masked_genotype_entropy(mrg_ss['gamma'], mrg_ss['delta'])[top_strains]),\n",
    ")"
   ]
  },
  {
   "cell_type": "code",
   "execution_count": null,
   "metadata": {},
   "outputs": [],
   "source": [
    "sf.plot.plot_genotype(\n",
    "    mrg_ss['gamma'],\n",
    "    col_colors=mpl.cm.viridis(sf.evaluation.mean_masked_genotype_entropy(mrg_ss['gamma'], mrg_ss['delta'])),\n",
    ")"
   ]
  },
  {
   "cell_type": "code",
   "execution_count": null,
   "metadata": {},
   "outputs": [],
   "source": [
    "sf.plot.plot_missing(mrg_ss['delta'])"
   ]
  },
  {
   "cell_type": "raw",
   "metadata": {},
   "source": [
    "sf.plot.plot_genotype(sf.genotype.counts_to_p_estimate(\n",
    "    data_fit.sel(allele='alt').values, data_fit.sum('allele').values\n",
    "))"
   ]
  },
  {
   "cell_type": "code",
   "execution_count": null,
   "metadata": {},
   "outputs": [],
   "source": []
  }
 ],
 "metadata": {
  "kernelspec": {
   "display_name": "Python 3",
   "language": "python",
   "name": "python3"
  },
  "language_info": {
   "codemirror_mode": {
    "name": "ipython",
    "version": 3
   },
   "file_extension": ".py",
   "mimetype": "text/x-python",
   "name": "python",
   "nbconvert_exporter": "python",
   "pygments_lexer": "ipython3",
   "version": "3.7.10"
  },
  "toc": {
   "base_numbering": 1,
   "nav_menu": {},
   "number_sections": true,
   "sideBar": true,
   "skip_h1_title": false,
   "title_cell": "Table of Contents",
   "title_sidebar": "Contents",
   "toc_cell": false,
   "toc_position": {},
   "toc_section_display": true,
   "toc_window_display": true
  }
 },
 "nbformat": 4,
 "nbformat_minor": 4
}
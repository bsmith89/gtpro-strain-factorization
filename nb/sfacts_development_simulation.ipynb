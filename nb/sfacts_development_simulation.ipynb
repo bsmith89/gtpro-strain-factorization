{
 "cells": [
  {
   "cell_type": "markdown",
   "metadata": {},
   "source": [
    "## Preamble"
   ]
  },
  {
   "cell_type": "code",
   "execution_count": null,
   "metadata": {},
   "outputs": [],
   "source": [
    "%load_ext autoreload\n",
    "%autoreload 2"
   ]
  },
  {
   "cell_type": "code",
   "execution_count": null,
   "metadata": {},
   "outputs": [],
   "source": [
    "import sfacts as sf\n",
    "import pyro\n",
    "import matplotlib.pyplot as plt\n",
    "import matplotlib as mpl\n",
    "import numpy as np\n",
    "import seaborn as sns\n",
    "import warnings\n",
    "import pandas as pd\n",
    "import scipy as sp\n",
    "import torch"
   ]
  },
  {
   "cell_type": "code",
   "execution_count": null,
   "metadata": {},
   "outputs": [],
   "source": [
    "warnings.filterwarnings(\n",
    "    \"ignore\",\n",
    "    message=\"torch.tensor results are registered as constants in the trace. You can safely ignore this warning if you use this function to create tensors out of constant variables that would be the same every time you call this function. In any other case, this might cause the trace to be incorrect.\",\n",
    "    category=torch.jit.TracerWarning,\n",
    "#     module=\"trace_elbo\",  # FIXME: What is the correct regex for module?\n",
    "#     lineno=5,\n",
    ")"
   ]
  },
  {
   "cell_type": "markdown",
   "metadata": {},
   "source": [
    "## Simulation"
   ]
  },
  {
   "cell_type": "code",
   "execution_count": null,
   "metadata": {},
   "outputs": [],
   "source": []
  },
  {
   "cell_type": "code",
   "execution_count": null,
   "metadata": {},
   "outputs": [],
   "source": [
    "# def simulation_benchmark():\n",
    "structure_sim=sf.model_zoo.full_metagenotype_dirichlet_rho.full_metagenotype_dirichlet_rho_model_structure\n",
    "coords=dict(\n",
    "    sample=1000,\n",
    "    position=500,\n",
    "    allele=['alt', 'ref'],\n",
    ")\n",
    "nstrain_sim=200\n",
    "hyperparameters_sim=dict(\n",
    "    gamma_hyper=1e-3,\n",
    "    delta_hyper_temp=1e-3,\n",
    "    delta_hyper_r=0.9,\n",
    "    rho_hyper=5.0,\n",
    "    pi_hyper=0.2,\n",
    "    mu_hyper_mean=1.0,\n",
    "    mu_hyper_scale=1.,\n",
    "    epsilon_hyper_mode=0.01,\n",
    "    epsilon_hyper_spread=1.5,\n",
    "    alpha_hyper_hyper_mean=10.0,\n",
    "    alpha_hyper_hyper_scale=0.5,\n",
    "    alpha_hyper_scale=0.5,\n",
    ")\n",
    "condition_on_sim=dict(\n",
    "    m_hyper_r_mean=5,\n",
    "    m_hyper_r_scale=1,\n",
    ")\n",
    "device='cpu'\n",
    "dtype=torch.float32\n",
    "\n",
    "\n",
    "coords_sim = coords.copy()\n",
    "coords_sim.update({'strain': nstrain_sim})\n",
    "model_sim = sf.model.ParameterizedModel(\n",
    "    structure_sim,\n",
    "    coords=coords_sim,\n",
    "    hyperparameters=hyperparameters_sim,\n",
    "    data=condition_on_sim,\n",
    "    device=device,\n",
    "    dtype=dtype,\n",
    ")\n",
    "\n",
    "world_sim = model_sim.simulate_world()"
   ]
  },
  {
   "cell_type": "raw",
   "metadata": {},
   "source": [
    "sf.plot.plot_metagenotype(world_sim)"
   ]
  },
  {
   "cell_type": "code",
   "execution_count": null,
   "metadata": {},
   "outputs": [],
   "source": [
    "sf.plot.plot_community(world_sim)"
   ]
  },
  {
   "cell_type": "raw",
   "metadata": {},
   "source": [
    "sf.plot.plot_genotype(\n",
    "    world_sim,\n",
    "    col_linkage_func=lambda w: w.metagenotypes.linkage('position'),\n",
    ")"
   ]
  },
  {
   "cell_type": "markdown",
   "metadata": {},
   "source": [
    "## Fitting"
   ]
  },
  {
   "cell_type": "code",
   "execution_count": null,
   "metadata": {},
   "outputs": [],
   "source": [
    "# def simulation_benchmark():\n",
    "structure_fit=sf.model_zoo.full_metagenotype_dirichlet_rho.full_metagenotype_dirichlet_rho_model_structure\n",
    "nstrain_fit=300\n",
    "hyperparameters_fit=dict(\n",
    "    gamma_hyper=0.5,\n",
    "    delta_hyper_temp=0.1,\n",
    "    delta_hyper_r=0.9,\n",
    "    rho_hyper=0.01,\n",
    "    pi_hyper=0.5,\n",
    "    mu_hyper_mean=10.0,\n",
    "    mu_hyper_scale=10.,\n",
    "    epsilon_hyper_mode=0.01,\n",
    "    epsilon_hyper_spread=1.5,\n",
    "    alpha_hyper_hyper_mean=100.0,\n",
    "    alpha_hyper_hyper_scale=1.,\n",
    "    alpha_hyper_scale=0.5,\n",
    ")\n",
    "stage2_hyperparameters=dict(\n",
    "    gamma_hyper=1.0,\n",
    ")\n",
    "condition_on_fit=dict(\n",
    ")\n",
    "\n",
    "\n",
    "coords_fit = coords.copy()\n",
    "coords_fit.update({'strain': nstrain_fit})\n",
    "model_fit = sf.model.ParameterizedModel(\n",
    "    structure_fit,\n",
    "    coords=coords_fit,\n",
    "    hyperparameters=hyperparameters_fit,\n",
    "    data=condition_on_fit,\n",
    "\n",
    ")\n",
    "\n",
    "nposition_fit = 500\n",
    "\n",
    "world_fit = sf.workflow.fit_metagenotype_subsample_collapse_then_iteratively_refit_full_genotypes(\n",
    "    structure_fit,\n",
    "    world_sim.metagenotypes.random_sample(nposition_fit, 'position'),\n",
    "    nstrain=nstrain_fit,\n",
    "    nposition=nposition_fit,\n",
    "    hyperparameters=hyperparameters_fit,\n",
    "    stage2_hyperparameters=stage2_hyperparameters,\n",
    "    thresh=0.01,\n",
    "    condition_on=condition_on_fit,\n",
    "    device=device,\n",
    "    dtype=dtype,\n",
    "    estimation_kwargs=dict(\n",
    "        jit=True,\n",
    "        maxiter=10000,\n",
    "        lagA=20,\n",
    "        lagB=100,\n",
    "        opt=pyro.optim.Adamax({\"lr\": 1e-0}, {\"clip_norm\": 100}),\n",
    "    )\n",
    ")"
   ]
  },
  {
   "cell_type": "code",
   "execution_count": null,
   "metadata": {},
   "outputs": [],
   "source": [
    "sf.plot.plot_community(\n",
    "    sf.data.World.concat(\n",
    "        dict(\n",
    "            fit=world_fit,\n",
    "#             sim=world_sim.sel(position=world_fit.position),\n",
    "        ), dim='strain', rename_coords=True,\n",
    "    ),\n",
    "    col_linkage_func=lambda w: sf.data.latent_metagenotypes_linkage(w)\n",
    ")"
   ]
  },
  {
   "cell_type": "code",
   "execution_count": null,
   "metadata": {},
   "outputs": [],
   "source": [
    "sf.plot.plot_genotype(\n",
    "    sf.data.World.concat(\n",
    "        dict(\n",
    "            fit=world_fit,\n",
    "#             sim=world_sim.sel(position=world_fit.position),\n",
    "        ), dim='strain', rename_coords=True,\n",
    "    ),\n",
    "    col_linkage_func=lambda w: w.metagenotypes.linkage('position'),\n",
    ")"
   ]
  },
  {
   "cell_type": "raw",
   "metadata": {},
   "source": [
    "sf.plot.plot_genotype(\n",
    "    sf.data.World.concat(\n",
    "        dict(sim=world_sim, fit=world_fit), dim='strain', rename_coords=True,\n",
    "    ),\n",
    "    col_linkage_func=lambda w: w.metagenotypes.linkage('position'),\n",
    ")"
   ]
  },
  {
   "cell_type": "code",
   "execution_count": null,
   "metadata": {},
   "outputs": [],
   "source": [
    "sf.evaluation.community_error(world_sim, world_fit)"
   ]
  },
  {
   "cell_type": "code",
   "execution_count": null,
   "metadata": {},
   "outputs": [],
   "source": []
  }
 ],
 "metadata": {
  "kernelspec": {
   "display_name": "Python 3",
   "language": "python",
   "name": "python3"
  },
  "language_info": {
   "codemirror_mode": {
    "name": "ipython",
    "version": 3
   },
   "file_extension": ".py",
   "mimetype": "text/x-python",
   "name": "python",
   "nbconvert_exporter": "python",
   "pygments_lexer": "ipython3",
   "version": "3.8.6"
  }
 },
 "nbformat": 4,
 "nbformat_minor": 5
}
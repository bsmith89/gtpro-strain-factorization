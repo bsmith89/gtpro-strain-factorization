{
 "cells": [
  {
   "cell_type": "code",
   "execution_count": null,
   "metadata": {},
   "outputs": [],
   "source": [
    "import pandas as pd\n",
    "from lib.util import info, idxwhere\n",
    "import matplotlib as mpl\n",
    "import matplotlib.pyplot as plt\n",
    "import seaborn as sns\n",
    "import numpy as np\n",
    "import scipy as sp\n",
    "\n",
    "import pyro\n",
    "import pyro.distributions as dist\n",
    "import torch\n",
    "from functools import partial\n",
    "import arviz as az\n",
    "from pyro.ops.contract import einsum\n",
    "import seaborn as sns\n",
    "from tqdm import tqdm"
   ]
  },
  {
   "cell_type": "code",
   "execution_count": null,
   "metadata": {},
   "outputs": [],
   "source": [
    "def NegativeBinomialReparam(mu, r):\n",
    "    p = 1 / ((r / mu) + 1)\n",
    "    return dist.NegativeBinomial(\n",
    "        total_count=r,\n",
    "        probs=p\n",
    "    )\n",
    "\n",
    "def as_torch(dtype=torch.float32, device=\"cpu\", **kwargs):\n",
    "    # Cast inputs and set device\n",
    "    return {k: torch.tensor(kwargs[k], dtype=dtype, device=device) for k in kwargs}"
   ]
  },
  {
   "cell_type": "markdown",
   "metadata": {},
   "source": [
    "# Model0: Dirichlet"
   ]
  },
  {
   "cell_type": "code",
   "execution_count": null,
   "metadata": {},
   "outputs": [],
   "source": [
    "def model0(\n",
    "    n,\n",
    "    g,\n",
    "    s,\n",
    "    gamma_hyper=torch.tensor(1.),\n",
    "    rho_hyper=torch.tensor(1.),\n",
    "    pi_hyper=torch.tensor(1.),\n",
    "    m_hyper_mu=torch.tensor(10.),\n",
    "    m_hyper_r=torch.tensor(1.),\n",
    "    epsilon_hyper=torch.tensor(0.01),\n",
    "    alpha_hyper=torch.tensor(100.),\n",
    "):\n",
    "    \n",
    "    with pyro.plate('position', g, dim=-1):\n",
    "        with pyro.plate('strain', s, dim=-2):\n",
    "            gamma = pyro.sample(\n",
    "                'gamma', dist.Beta(gamma_hyper, gamma_hyper)\n",
    "            )\n",
    "    \n",
    "#     rho_ = pyro.sample('rho_', dist.LogNormal(0, 1 / rho_hyper).expand([s]).to_event())\n",
    "#     rho = pyro.deterministic('rho', rho_ / rho_.sum())\n",
    "    rho = pyro.sample('rho', dist.Dirichlet(torch.ones(s) * rho_hyper))\n",
    "    \n",
    "    with pyro.plate('sample', n, dim=-1):\n",
    "        pi = pyro.sample('pi', dist.Dirichlet(rho * pi_hyper * s))\n",
    "        alpha = pyro.sample('alpha', dist.Gamma(alpha_hyper, 1.)).unsqueeze(-1)\n",
    "        epsilon = pyro.sample('epsilon', dist.Beta(1., 1 / epsilon_hyper)).unsqueeze(-1)\n",
    "        \n",
    "    m = pyro.sample('m', NegativeBinomialReparam(m_hyper_mu, m_hyper_r).expand([n, g]))\n",
    "\n",
    "    p_noerr = pyro.deterministic('p_noerr', pi @ gamma)\n",
    "    p = pyro.deterministic('p',\n",
    "        (1 - epsilon / 2) * (p_noerr) +\n",
    "        (epsilon / 2) * (1 - p_noerr)\n",
    "    )\n",
    "        \n",
    "    y = pyro.sample(\n",
    "        'y',\n",
    "        dist.BetaBinomial(\n",
    "            concentration1=alpha * p,\n",
    "            concentration0=alpha * (1 - p),\n",
    "            total_count=m\n",
    "        ),\n",
    "    )\n",
    "    return y"
   ]
  },
  {
   "cell_type": "code",
   "execution_count": null,
   "metadata": {},
   "outputs": [],
   "source": [
    "n, g, s = 500, 1000, 100\n",
    "\n",
    "model0_sim = partial(\n",
    "    pyro.condition(\n",
    "        model0,\n",
    "        data={\n",
    "        },\n",
    "    ),\n",
    "    s=s,\n",
    "    g=g,\n",
    "    n=n,\n",
    "    **as_torch(\n",
    "        gamma_hyper=0.1,\n",
    "        pi_hyper=0.001,\n",
    "        rho_hyper=1.,\n",
    "    )\n",
    ")\n",
    "\n",
    "trace = pyro.poutine.trace(model0_sim).get_trace()\n",
    "trace.compute_log_prob()\n",
    "print(trace.format_shapes())"
   ]
  },
  {
   "cell_type": "code",
   "execution_count": null,
   "metadata": {},
   "outputs": [],
   "source": [
    "sim = pyro.infer.Predictive(model0_sim, num_samples=1)()\n",
    "sim = {k: sim[k].detach().cpu().numpy().squeeze() for k in sim.keys()}\n",
    "\n",
    "sns.heatmap(sim['pi'])"
   ]
  },
  {
   "cell_type": "code",
   "execution_count": null,
   "metadata": {},
   "outputs": [],
   "source": [
    "plt.plot(np.sort(sim['rho']))"
   ]
  },
  {
   "cell_type": "code",
   "execution_count": null,
   "metadata": {},
   "outputs": [],
   "source": [
    "# gamma_hyper_fit = torch.autograd.Variable(torch.tensor(1.))\n",
    "# pi_hyper_fit = torch.autograd.Variable(torch.tensor(1.))\n",
    "# rho_hyper_fit = torch.autograd.Variable(torch.tensor(1.))\n",
    "\n",
    "\n",
    "model0_fit = partial(\n",
    "    pyro.condition(\n",
    "        model0,\n",
    "        data={\n",
    "            'm': torch.tensor(sim['m']),\n",
    "            'y': torch.tensor(sim['y']),\n",
    "        },\n",
    "    ),\n",
    "    s=s,\n",
    "    g=g,\n",
    "    n=n,\n",
    "    **as_torch(\n",
    "        pi_hyper=1.0,\n",
    "        rho_hyper=1.0,\n",
    "        gamma_hyper=1.0,\n",
    "    )\n",
    ")\n",
    "\n",
    "_guide = pyro.infer.autoguide.AutoLaplaceApproximation(model0_fit)\n",
    "opt = pyro.optim.Adamax({\"lr\": 1e-0}, {\"clip_norm\": 100.})\n",
    "svi = pyro.infer.SVI(\n",
    "    model0_fit,\n",
    "    _guide,\n",
    "    opt,\n",
    "    loss=pyro.infer.JitTrace_ELBO()\n",
    ")\n",
    "pyro.clear_param_store()\n",
    "\n",
    "n_iter = int(5e2)\n",
    "# step_hypers_at = int(5e2)\n",
    "# start_pi_shift_at = int(5e3)\n",
    "# pi_hyper_schedule = np.concatenate([\n",
    "#     np.logspace(0.01, 0, start_pi_shift_at // step_hypers_at),\n",
    "#     np.logspace(0, -1.0, (n_iter - start_pi_shift_at) // step_hypers_at),\n",
    "# ]).astype('float32')\n",
    "# rho_hyper_schedule = np.logspace(0, -2, num=n_iter // step_hypers_at).astype('float32')\n",
    "# gamma_hyper_schedule = np.logspace(0, -2, num=n_iter // step_hypers_at).astype('float32')\n",
    "# plt.scatter(rho_hyper_schedule, pi_hyper_schedule, c=np.linspace(0, 1, num=pi_hyper_schedule.shape[0]))\n",
    "# plt.yscale('log')\n",
    "# plt.xscale('log')\n",
    "\n",
    "history = []"
   ]
  },
  {
   "cell_type": "code",
   "execution_count": null,
   "metadata": {},
   "outputs": [],
   "source": [
    "pbar = tqdm(range(n_iter))\n",
    "for i in pbar:\n",
    "#     pi_hyper_fit.data = torch.tensor(pi_hyper_schedule[i // step_hypers_at])\n",
    "#     rho_hyper_fit.data = torch.tensor(rho_hyper_schedule[i // step_hypers_at])\n",
    "#     gamma_hyper_fit.data = torch.tensor(gamma_hyper_schedule[i // step_hypers_at])\n",
    "#     pi_hyper_fit.data = torch.tensor(1.)\n",
    "#     rho_hyper_fit.data = torch.tensor(1.)\n",
    "#     gamma_hyper_fit.data = torch.tensor(1.)\n",
    "\n",
    "    elbo = svi.step()\n",
    "    \n",
    "    if np.isnan(elbo):\n",
    "        break\n",
    "\n",
    "    # Fit tracking\n",
    "    history.append(elbo)\n",
    "    \n",
    "    # Reporting/Breaking\n",
    "    if (i % 1 == 0):\n",
    "        if i > 1:\n",
    "            pbar.set_postfix({\n",
    "                'ELBO': history[-1],\n",
    "                'delta': history[-2] - history[-1],\n",
    "#                 'pi_hyper': pi_hyper_fit,\n",
    "#                 'rho_hyper': rho_hyper_fit,\n",
    "#                 'gamma_hyper': gamma_hyper_fit,\n",
    "            })"
   ]
  },
  {
   "cell_type": "code",
   "execution_count": null,
   "metadata": {},
   "outputs": [],
   "source": [
    "plt.plot(history)"
   ]
  },
  {
   "cell_type": "code",
   "execution_count": null,
   "metadata": {},
   "outputs": [],
   "source": [
    "est = pyro.infer.Predictive(model0_fit, guide=_guide, num_samples=1)()\n",
    "est = {k: est[k].detach().cpu().numpy().squeeze() for k in sim.keys()}"
   ]
  },
  {
   "cell_type": "code",
   "execution_count": null,
   "metadata": {},
   "outputs": [],
   "source": [
    "sns.heatmap(est['pi'])"
   ]
  },
  {
   "cell_type": "code",
   "execution_count": null,
   "metadata": {},
   "outputs": [],
   "source": [
    "sns.heatmap(est['gamma'].T)"
   ]
  },
  {
   "cell_type": "code",
   "execution_count": null,
   "metadata": {},
   "outputs": [],
   "source": [
    "plt.plot(np.sort(est['rho']))"
   ]
  },
  {
   "cell_type": "markdown",
   "metadata": {},
   "source": [
    "# Model1: Gumbel-Softmax"
   ]
  },
  {
   "cell_type": "code",
   "execution_count": null,
   "metadata": {},
   "outputs": [],
   "source": [
    "def model1(\n",
    "    n,\n",
    "    g,\n",
    "    s,\n",
    "    gamma_hyper=torch.tensor(1.),\n",
    "    rho_hyper=torch.tensor(1.),\n",
    "    pi_hyper=torch.tensor(1.),\n",
    "    m_hyper_mu=torch.tensor(10.),\n",
    "    m_hyper_r=torch.tensor(1.),\n",
    "    epsilon_hyper=torch.tensor(0.01),\n",
    "    alpha_hyper=torch.tensor(100.),\n",
    "):\n",
    "    \n",
    "    with pyro.plate('position', g, dim=-1):\n",
    "        with pyro.plate('strain', s, dim=-2):\n",
    "            gamma = pyro.sample(\n",
    "                'gamma', dist.RelaxedBernoulli(temperature=gamma_hyper, probs=torch.tensor(0.5))\n",
    "            )\n",
    "    \n",
    "#     rho_ = pyro.sample('rho_', dist.LogNormal(0, 1 / rho_hyper).expand([s]).to_event())\n",
    "#     rho = pyro.deterministic('rho', rho_ / rho_.sum())\n",
    "    rho = pyro.sample('rho', dist.RelaxedOneHotCategorical(temperature=rho_hyper, logits=torch.zeros(s)))\n",
    "    \n",
    "    with pyro.plate('sample', n, dim=-1):\n",
    "        pi = pyro.sample('pi', dist.RelaxedOneHotCategorical(temperature=pi_hyper, probs=rho))\n",
    "        alpha = pyro.sample('alpha', dist.Gamma(alpha_hyper, 1.)).unsqueeze(-1)\n",
    "        epsilon = pyro.sample('epsilon', dist.Beta(1., 1 / epsilon_hyper)).unsqueeze(-1)\n",
    "        \n",
    "    m = pyro.sample('m', NegativeBinomialReparam(m_hyper_mu, m_hyper_r).expand([n, g]))\n",
    "\n",
    "    p_noerr = pyro.deterministic('p_noerr', pi @ gamma)\n",
    "    p = pyro.deterministic('p',\n",
    "        (1 - epsilon / 2) * (p_noerr) +\n",
    "        (epsilon / 2) * (1 - p_noerr)\n",
    "    )\n",
    "        \n",
    "    y = pyro.sample(\n",
    "        'y',\n",
    "        dist.BetaBinomial(\n",
    "            concentration1=alpha * p,\n",
    "            concentration0=alpha * (1 - p),\n",
    "            total_count=m\n",
    "        ),\n",
    "    )\n",
    "    return y"
   ]
  },
  {
   "cell_type": "code",
   "execution_count": null,
   "metadata": {},
   "outputs": [],
   "source": [
    "n, g, s = 500, 1000, 100\n",
    "\n",
    "model1_sim = partial(\n",
    "    pyro.condition(\n",
    "        model1,\n",
    "        data={\n",
    "        },\n",
    "    ),\n",
    "    s=s,\n",
    "    g=g,\n",
    "    n=n,\n",
    "    **as_torch(\n",
    "        gamma_hyper=0.1,\n",
    "        pi_hyper=0.1,\n",
    "        rho_hyper=1.,\n",
    "    )\n",
    ")\n",
    "\n",
    "trace = pyro.poutine.trace(model1_sim).get_trace()\n",
    "trace.compute_log_prob()\n",
    "print(trace.format_shapes())"
   ]
  },
  {
   "cell_type": "raw",
   "metadata": {},
   "source": [
    "# Comment out this cell to have data simulated by model0 instead.\n",
    "\n",
    "sim = pyro.infer.Predictive(model1_sim, num_samples=1)()\n",
    "sim = {k: sim[k].detach().cpu().numpy().squeeze() for k in sim.keys()}\n",
    "\n",
    "plt.plot(np.sort(sim['rho']))"
   ]
  },
  {
   "cell_type": "code",
   "execution_count": null,
   "metadata": {},
   "outputs": [],
   "source": [
    "# gamma_hyper_fit = torch.autograd.Variable(torch.tensor(1.))\n",
    "# pi_hyper_fit = torch.autograd.Variable(torch.tensor(1.))\n",
    "# rho_hyper_fit = torch.autograd.Variable(torch.tensor(1.))\n",
    "\n",
    "\n",
    "model1_fit = partial(\n",
    "    pyro.condition(\n",
    "        model1,\n",
    "        data={\n",
    "            'm': torch.tensor(sim['m']),\n",
    "            'y': torch.tensor(sim['y']),\n",
    "        },\n",
    "    ),\n",
    "    s=s,\n",
    "    g=g,\n",
    "    n=n,\n",
    "    **as_torch(\n",
    "        gamma_hyper=1.,\n",
    "        pi_hyper=1.,\n",
    "        rho_hyper=1.,\n",
    "    )\n",
    ")\n",
    "\n",
    "_guide = pyro.infer.autoguide.AutoLaplaceApproximation(model1_fit)\n",
    "opt = pyro.optim.Adamax({\"lr\": 1e-0}, {\"clip_norm\": 100.})\n",
    "svi = pyro.infer.SVI(\n",
    "    model1_fit,\n",
    "    _guide,\n",
    "    opt,\n",
    "    loss=pyro.infer.JitTrace_ELBO()\n",
    ")\n",
    "pyro.clear_param_store()\n",
    "\n",
    "n_iter = int(5e2)\n",
    "# step_hypers_at = int(5e2)\n",
    "# start_pi_shift_at = int(5e3)\n",
    "# pi_hyper_schedule = np.concatenate([\n",
    "#     np.logspace(0.01, 0, start_pi_shift_at // step_hypers_at),\n",
    "#     np.logspace(0, -1.0, (n_iter - start_pi_shift_at) // step_hypers_at),\n",
    "# ]).astype('float32')\n",
    "# rho_hyper_schedule = np.logspace(0, -2, num=n_iter // step_hypers_at).astype('float32')\n",
    "# gamma_hyper_schedule = np.logspace(0, -2, num=n_iter // step_hypers_at).astype('float32')\n",
    "# plt.scatter(rho_hyper_schedule, pi_hyper_schedule, c=np.linspace(0, 1, num=pi_hyper_schedule.shape[0]))\n",
    "# plt.yscale('log')\n",
    "# plt.xscale('log')\n",
    "\n",
    "history = []"
   ]
  },
  {
   "cell_type": "code",
   "execution_count": null,
   "metadata": {},
   "outputs": [],
   "source": [
    "pbar = tqdm(range(n_iter))\n",
    "for i in pbar:\n",
    "#     pi_hyper_fit.data = torch.tensor(pi_hyper_schedule[i // step_hypers_at])\n",
    "#     rho_hyper_fit.data = torch.tensor(rho_hyper_schedule[i // step_hypers_at])\n",
    "#     gamma_hyper_fit.data = torch.tensor(gamma_hyper_schedule[i // step_hypers_at])\n",
    "#     pi_hyper_fit.data = torch.tensor(1.)\n",
    "#     rho_hyper_fit.data = torch.tensor(1.)\n",
    "#     gamma_hyper_fit.data = torch.tensor(1.)\n",
    "\n",
    "    elbo = svi.step()\n",
    "    \n",
    "    if np.isnan(elbo):\n",
    "        break\n",
    "\n",
    "    # Fit tracking\n",
    "    history.append(elbo)\n",
    "    \n",
    "    # Reporting/Breaking\n",
    "    if (i % 1 == 0):\n",
    "        if i > 1:\n",
    "            pbar.set_postfix({\n",
    "                'ELBO': history[-1],\n",
    "                'delta': history[-2] - history[-1],\n",
    "#                 'pi_hyper': pi_hyper_fit,\n",
    "#                 'rho_hyper': rho_hyper_fit,\n",
    "#                 'gamma_hyper': gamma_hyper_fit,\n",
    "            })"
   ]
  },
  {
   "cell_type": "code",
   "execution_count": null,
   "metadata": {},
   "outputs": [],
   "source": [
    "plt.plot(history)"
   ]
  },
  {
   "cell_type": "code",
   "execution_count": null,
   "metadata": {},
   "outputs": [],
   "source": [
    "est = pyro.infer.Predictive(model1_fit, guide=_guide, num_samples=1)()\n",
    "est = {k: est[k].detach().cpu().numpy().squeeze() for k in sim.keys()}"
   ]
  },
  {
   "cell_type": "code",
   "execution_count": null,
   "metadata": {},
   "outputs": [],
   "source": [
    "plt.plot(np.sort(est['rho']))"
   ]
  },
  {
   "cell_type": "code",
   "execution_count": null,
   "metadata": {},
   "outputs": [],
   "source": [
    "sns.heatmap(est['pi'])"
   ]
  },
  {
   "cell_type": "code",
   "execution_count": null,
   "metadata": {},
   "outputs": [],
   "source": [
    "sns.heatmap(est['gamma'].T)"
   ]
  },
  {
   "cell_type": "code",
   "execution_count": null,
   "metadata": {},
   "outputs": [],
   "source": [
    "plt.plot(np.sort(est['rho']))"
   ]
  }
 ],
 "metadata": {
  "kernelspec": {
   "display_name": "Python 3",
   "language": "python",
   "name": "python3"
  },
  "language_info": {
   "codemirror_mode": {
    "name": "ipython",
    "version": 3
   },
   "file_extension": ".py",
   "mimetype": "text/x-python",
   "name": "python",
   "nbconvert_exporter": "python",
   "pygments_lexer": "ipython3",
   "version": "3.8.5"
  }
 },
 "nbformat": 4,
 "nbformat_minor": 4
}
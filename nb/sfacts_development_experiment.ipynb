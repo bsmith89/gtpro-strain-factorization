{
 "cells": [
  {
   "cell_type": "code",
   "execution_count": null,
   "metadata": {},
   "outputs": [],
   "source": [
    "# # Run this for CoLab setup\n",
    "# !rm -r sample_data .config\n",
    "# !git clone https://github.com/bsmith89/gtpro-strain-factorization .\n",
    "# !wget -O core.sp-102506.gtpro-pileup.filt.nc https://www.dropbox.com/s/9ortwudkk81n3x0/core.sp-102506.gtpro-pileup.filt.nc?dl=0\n",
    "# !wget -O shi2019s13.tsv https://www.dropbox.com/s/gz2cn1vecsx3q05/shi2019s13.tsv?dl=0\n",
    "# !pip install pyro-ppl"
   ]
  },
  {
   "cell_type": "markdown",
   "metadata": {},
   "source": [
    "## Imports"
   ]
  },
  {
   "cell_type": "code",
   "execution_count": null,
   "metadata": {},
   "outputs": [],
   "source": [
    "%load_ext autoreload\n",
    "%autoreload 2"
   ]
  },
  {
   "cell_type": "code",
   "execution_count": null,
   "metadata": {},
   "outputs": [],
   "source": [
    "import sfacts as sf\n",
    "from sfacts.model_zoo import (\n",
    "    full_metagenotype,\n",
    "    full_metagenotype_pp_pi,\n",
    "    full_metagenotype_dirichlet_rho,\n",
    "    full_metagenotype_special_meta\n",
    ")"
   ]
  },
  {
   "cell_type": "code",
   "execution_count": null,
   "metadata": {},
   "outputs": [],
   "source": [
    "import pandas as pd\n",
    "import matplotlib as mpl\n",
    "import matplotlib.pyplot as plt\n",
    "import seaborn as sns\n",
    "import numpy as np\n",
    "import scipy as sp\n",
    "import pyro\n",
    "import pyro.distributions as dist\n",
    "import torch\n",
    "from functools import partial\n",
    "from tqdm import tqdm\n",
    "import xarray as xr\n",
    "import warnings\n",
    "from torch.jit import TracerWarning"
   ]
  },
  {
   "cell_type": "code",
   "execution_count": null,
   "metadata": {},
   "outputs": [],
   "source": [
    "mpl.rcParams['figure.dpi'] = 100"
   ]
  },
  {
   "cell_type": "code",
   "execution_count": null,
   "metadata": {},
   "outputs": [],
   "source": [
    "warnings.filterwarnings(\n",
    "    \"ignore\",\n",
    "    message=\"torch.tensor results are registered as constants in the trace. You can safely ignore this warning if you use this function to create tensors out of constant variables that would be the same every time you call this function. In any other case, this might cause the trace to be incorrect.\",\n",
    "    category=torch.jit.TracerWarning,\n",
    "#     module=\"trace_elbo\",  # FIXME: What is the correct regex for module?\n",
    "#     lineno=5,\n",
    ")"
   ]
  },
  {
   "cell_type": "markdown",
   "metadata": {},
   "source": [
    "## Prototype"
   ]
  },
  {
   "cell_type": "markdown",
   "metadata": {},
   "source": [
    "### Load Data"
   ]
  },
  {
   "cell_type": "code",
   "execution_count": null,
   "metadata": {},
   "outputs": [],
   "source": [
    "species_id = 100022\n",
    "\n",
    "# Sanity check on sfacts/data.py\n",
    "np.random.seed(1)\n",
    "\n",
    "mgen_all = (\n",
    "    sf.data.Metagenotypes.load(f'data/core.sp-{species_id}.gtpro-pileup.nc', validate=False)\n",
    ")\n",
    "mgen_filt = (\n",
    "    mgen_all\n",
    "    .select_variable_positions(thresh=0.05)\n",
    "    .select_samples_with_coverage(0.05)\n",
    ")\n",
    "\n",
    "print(mgen_all.sizes)\n",
    "print(mgen_filt.sizes)\n",
    "del mgen_all"
   ]
  },
  {
   "cell_type": "raw",
   "metadata": {},
   "source": [
    "sf.plot.plot_metagenotype(\n",
    "    mgen_filt\n",
    "    .select_samples_with_coverage(0.25)\n",
    "    .random_sample(position=500, sample=50)\n",
    "    .to_world(),\n",
    ")"
   ]
  },
  {
   "cell_type": "raw",
   "metadata": {},
   "source": [
    "sim = (\n",
    "    sf.model.ParameterizedModel(\n",
    "        full_metagenotype_special_meta.model_structure,\n",
    "        coords=dict(position=500, strain=50, sample=100, allele=['alt', 'ref']),\n",
    "    )\n",
    "    .with_hyperparameters(\n",
    "        mu_hyper_mean=10.,\n",
    "        mu_hyper_scale=0.001,\n",
    "        rho_hyper=0.5,\n",
    "        pi_hyper=0.5,\n",
    "    )\n",
    "    .condition(\n",
    "        m_hyper_r_mean=10.,\n",
    "        m_hyper_r_scale=0.5\n",
    "    )\n",
    "    .simulate_world()\n",
    ")\n",
    "\n",
    "sf.plot.plot_metagenotype(sim)"
   ]
  },
  {
   "cell_type": "raw",
   "metadata": {},
   "source": [
    "sf.plot.plot_community(sim)"
   ]
  },
  {
   "cell_type": "raw",
   "metadata": {},
   "source": [
    "plt.plot(np.sort(sim.communities.sum(\"sample\").values)[::-1], '.')\n",
    "plt.xlim(-1, 50)\n",
    "plt.ylim(-1, 100)"
   ]
  },
  {
   "cell_type": "raw",
   "metadata": {},
   "source": [
    "plt.plot(np.sort(sim.communities.sum(\"sample\").values)[::-1], '.')\n",
    "plt.xlim(-1, 200)\n",
    "plt.ylim(-1, 20)"
   ]
  },
  {
   "cell_type": "markdown",
   "metadata": {},
   "source": [
    "### Fitting"
   ]
  },
  {
   "cell_type": "raw",
   "metadata": {},
   "source": [
    "approx = sf.estimation.nmf_approximation(obs, s, random_state=1, alpha=0., solver='cd', init='random', tol=1e-4)"
   ]
  },
  {
   "cell_type": "raw",
   "metadata": {},
   "source": [
    "sf.plot.plot_genotype(approx, matrix_func=lambda x: x.genotypes.fuzzed(1e-0).to_pandas())"
   ]
  },
  {
   "cell_type": "raw",
   "metadata": {},
   "source": [
    "sf.plot.plot_community(approx, matrix_func=lambda x: x.communities.fuzzed(1e-2).to_pandas().T)"
   ]
  },
  {
   "cell_type": "code",
   "execution_count": null,
   "metadata": {},
   "outputs": [],
   "source": [
    "nstrain = 1000\n",
    "nposition = min(int(5e2), mgen_filt.sizes['position'])\n",
    "\n",
    "# est, (genotypes, missingness) = (\n",
    "est, _ = (\n",
    "    sf.workflow.fit_subsampled_metagenotype_collapse_strains_then_iteratively_refit_full_genotypes(\n",
    "#     sf.workflow.fit_metagenotypes_simple(\n",
    "#         full_metagenotype_special_meta.model_structure,\n",
    "        full_metagenotype_dirichlet_rho.model_structure,\n",
    "#         full_metagenotype_dirichlet_rho.model_structure,\n",
    "        mgen_filt.random_sample(position=nposition),\n",
    "        nstrain=nstrain,\n",
    "        nposition=nposition,\n",
    "        hyperparameters=dict(\n",
    "            gamma_hyper=0.1,\n",
    "            delta_hyper_r=0.8,\n",
    "            delta_hyper_temp=0.1,\n",
    "            rho_hyper=1e-1,\n",
    "            pi_hyper=1e0,\n",
    "            epsilon_hyper_mode=0.01,\n",
    "            epsilon_hyper_spread=1.5,\n",
    "            alpha_hyper_hyper_mean=1000.0,\n",
    "            alpha_hyper_hyper_scale=0.5,\n",
    "            alpha_hyper_scale=1.0,\n",
    "        ),\n",
    "        diss_thresh=0.05,\n",
    "        coverage_thresh=1e-4,\n",
    "        stage2_hyperparameters=dict(gamma_hyper=1.0),\n",
    "        device='cuda',\n",
    "        dtype=torch.float64,\n",
    "        quiet=False,\n",
    "        estimation_kwargs=dict(\n",
    "            lagA=10,\n",
    "            lagB=100,\n",
    "            opt=pyro.optim.Adamax({\"lr\": 1e-0}, {\"clip_norm\": 100}),\n",
    "            seed=2,\n",
    "            jit=True,\n",
    "        )\n",
    "    )\n",
    ")"
   ]
  },
  {
   "cell_type": "code",
   "execution_count": null,
   "metadata": {},
   "outputs": [],
   "source": [
    "plt.plot(est.data.communities.max(\"sample\").to_series().sort_values(ascending=False).values)\n",
    "plt.xlim(-5, 200)"
   ]
  },
  {
   "cell_type": "code",
   "execution_count": null,
   "metadata": {},
   "outputs": [],
   "source": [
    "plt.plot(est.data.communities.max(\"strain\").to_series().sort_values(ascending=False).values)"
   ]
  },
  {
   "cell_type": "code",
   "execution_count": null,
   "metadata": {},
   "outputs": [],
   "source": [
    "plt.plot((est.data.communities * est.data.mu).sum(\"sample\").to_series().sort_values(ascending=False).values)\n",
    "plt.axhline(1.)\n",
    "plt.yscale('log')"
   ]
  },
  {
   "cell_type": "raw",
   "metadata": {},
   "source": [
    "est.dump('data/core.sp-102506.gtpro-pileup.sfacts.nc')"
   ]
  },
  {
   "cell_type": "raw",
   "metadata": {},
   "source": [
    "est = sf.data.World.load(f'data/core.sp-{species_id}.gtpro-pileup.sfacts.nc', validate=False)"
   ]
  },
  {
   "cell_type": "raw",
   "metadata": {},
   "source": [
    "import sys, gc\n",
    "# del sys.last_value\n",
    "# del sys.last_type\n",
    "del sys.last_traceback\n",
    "gc.collect()\n",
    "torch.cuda.empty_cache()"
   ]
  },
  {
   "cell_type": "markdown",
   "metadata": {},
   "source": [
    "### Viz."
   ]
  },
  {
   "cell_type": "code",
   "execution_count": null,
   "metadata": {},
   "outputs": [],
   "source": [
    "sf.plot.plot_community(\n",
    "    est,\n",
    "    col_colors_func=lambda w: xr.Dataset(dict(\n",
    "#         mgen_entropy=w.metagenotypes.entropy(),\n",
    "#         expect_entropy=w.data['p'].pipe(sf.math.binary_entropy).mean(\"position\"),\n",
    "        mean_cvrg=w.metagenotypes.sum(\"allele\").mean(\"position\").pipe(np.sqrt),\n",
    "#         m_hyper_r=w.data['m_hyper_r'],\n",
    "#         alpha=w.data['alpha'].pipe(np.sqrt),\n",
    "#         flag=(w.data\".alpha < 10) & (w.metagenotypes.sum(\"allele\").mean(\"position\") > 20),\n",
    "    )),\n",
    "    row_colors_func=lambda w: xr.Dataset(dict(\n",
    "        entropy=w.genotypes.entropy(),\n",
    "        mean_cvrg=(w.communities.data * w.metagenotypes.sum(\"allele\").mean(\"position\")).sum(\"sample\").pipe(np.sqrt),\n",
    "    )),\n",
    "#     row_linkage_func=lambda w: w.genotypes.cosine_linkag(),\n",
    "    col_linkage_func=lambda w: sf.data.latent_metagenotypes_linkage(w),\n",
    "    row_linkage_func=lambda w: w.genotypes.linkage(),\n",
    "    norm=mpl.colors.PowerNorm(1/3),\n",
    ")"
   ]
  },
  {
   "cell_type": "markdown",
   "metadata": {},
   "source": [
    "Samples of interest:\n",
    "- One of (in priority order) DS0097_035, SS01009, SS01084, SS01073, SS01006\n",
    "- SS01172\n",
    "- SS01057\n",
    "- One of (in priority order) SS01055, DS0485_002, SS01165\n",
    "- SS01047\n",
    "- One of (in priority order) SS01017, SS01080, SS01037\n",
    "- SS01131"
   ]
  },
  {
   "cell_type": "raw",
   "metadata": {},
   "source": [
    "sample = pd.read_table('/pollard/home/bsmith/Projects/ucfmt2/meta/sample.tsv', index_col='sample_id')\n",
    "print(sample.loc[['DS0097_035', 'SS01009', 'SS01084', 'SS01073', 'SS01006', 'SS01172', 'SS01057', 'SS01055', 'DS0485_002', 'SS01165', 'SS01047', 'SS01017', 'SS01080', 'SS01037', 'SS01131'], ['source_sample_id', 'sample_notes', 'plate_well']].to_csv(sep='|'))"
   ]
  },
  {
   "cell_type": "code",
   "execution_count": null,
   "metadata": {},
   "outputs": [],
   "source": [
    "sf.plot.plot_genotype(\n",
    "    est,\n",
    "    row_colors_func=lambda w: xr.Dataset(dict(\n",
    "        cvrg=(est.data.communities * est.data.mu).sum(\"sample\").pipe(np.cbrt),\n",
    "    )),\n",
    "    row_linkage_func=lambda w: w.genotypes.linkage(),\n",
    ")"
   ]
  },
  {
   "cell_type": "code",
   "execution_count": null,
   "metadata": {},
   "outputs": [],
   "source": [
    "sf.plot.plot_missing(\n",
    "    est,\n",
    "    row_colors_func=lambda w: xr.Dataset(dict(\n",
    "        cvrg=(est.data.communities * est.data.mu).sum(\"sample\").pipe(np.cbrt),\n",
    "    )),\n",
    "    row_linkage_func=lambda w: w.genotypes.cosine_linkage(),\n",
    ")"
   ]
  },
  {
   "cell_type": "code",
   "execution_count": null,
   "metadata": {},
   "outputs": [],
   "source": [
    "sf.plot.plot_metagenotype(\n",
    "    est,\n",
    "    col_linkage_func=lambda w: sf.data.latent_metagenotypes_linkage(w),\n",
    ")"
   ]
  },
  {
   "cell_type": "raw",
   "metadata": {},
   "source": [
    "sf.plot.plot_genotype(\n",
    "    est1,\n",
    "    row_colors_func=lambda w: xr.Dataset(dict(\n",
    "        entropy=w.genotypes.entropy(),\n",
    "        mean_cvrg=(w.communities.data * w.metagenotypes.sum(\"allele\").mean(\"position\")).sum(\"sample\").pipe(np.log),\n",
    "    )),\n",
    "    row_linkage_func=None,\n",
    "    col_linkage_func=None,\n",
    "#     row_linkage_func=lambda w: w.genotypes.cosine_linkage(),\n",
    "#     col_linkage_func=lambda w: w.metagenotypes.linkage(dim='position'),\n",
    "    isel=dict(position=slice(0, 500)),\n",
    ")"
   ]
  },
  {
   "cell_type": "raw",
   "metadata": {},
   "source": [
    "sf.plot.plot_missing(\n",
    "    est,\n",
    "    row_colors_func=lambda w: xr.Dataset(dict(\n",
    "        entropy=w.genotypes.entropy(),\n",
    "        mean_cvrg=(w.communities.data * w.metagenotypes.sum(\"allele\").mean(\"position\")).sum(\"sample\").pipe(np.log),\n",
    "    )),\n",
    "    row_linkage_func=lambda w: w.genotypes.cosine_linkage(),\n",
    "    col_linkage_func=lambda w: w.metagenotypes.linkage(dim='position'),\n",
    ")"
   ]
  },
  {
   "cell_type": "raw",
   "metadata": {},
   "source": [
    "sf.plot.plot_metagenotype(\n",
    "    est,\n",
    "#     row_colors_func=lambda w: xr.Dataset(dict(\n",
    "#         entropy=w.genotypes.entropy(),\n",
    "#         mean_cvrg=(w.communities.data * w.metagenotypes.sum(\"allele\").mean(\"position\")).sum(\"sample\").pipe(np.log),\n",
    "#     )),\n",
    "#     row_linkage_func=lambda w: w.genotypes.cosine_linkage(),\n",
    "    row_linkage_func=lambda w: w.metagenotypes.linkage(dim='position'),\n",
    "    col_linkage_func=lambda w: sf.data.latent_metagenotypes_linkage(w),\n",
    ")"
   ]
  },
  {
   "cell_type": "code",
   "execution_count": null,
   "metadata": {},
   "outputs": [],
   "source": [
    "plt.hist(est.data.communities.max(\"sample\"), bins=50)"
   ]
  },
  {
   "cell_type": "code",
   "execution_count": null,
   "metadata": {},
   "outputs": [],
   "source": [
    "plt.hist(est.data.alpha.pipe(np.log10), bins=21)"
   ]
  },
  {
   "cell_type": "code",
   "execution_count": null,
   "metadata": {},
   "outputs": [],
   "source": [
    "plt.hist(est.data.epsilon.pipe(np.log10), bins=21)"
   ]
  },
  {
   "cell_type": "code",
   "execution_count": null,
   "metadata": {},
   "outputs": [],
   "source": [
    "plt.hist(est.data.m_hyper_r.pipe(np.log10), bins=21)"
   ]
  },
  {
   "cell_type": "code",
   "execution_count": null,
   "metadata": {},
   "outputs": [],
   "source": [
    "plt.scatter(est.data.m_hyper_r, est.data.alpha, c=est.data.mu, alpha=0.5, s=5)\n",
    "plt.yscale('log')\n",
    "plt.xscale('log')"
   ]
  },
  {
   "cell_type": "raw",
   "metadata": {},
   "source": [
    "d = est\n",
    "\n",
    "sf.plot.plot_genotype(sf.data.World.concat({\n",
    "    'est0': est0,\n",
    "    'est1': est,\n",
    "}, dim='strain'),\n",
    "    row_colors_func=lambda w: xr.Dataset(dict(\n",
    "        entropy=w.genotypes.entropy(),\n",
    "        missingness=1 - w.missingness.mean('position'),\n",
    "        mean_cvrg=(w.communities.data * w.metagenotypes.sum(\"allele\").mean(\"position\")).sum(\"sample\").pipe(np.log),\n",
    "    )),\n",
    ")"
   ]
  },
  {
   "cell_type": "raw",
   "metadata": {},
   "source": [
    "sf.plot.plot_missing(est)"
   ]
  },
  {
   "cell_type": "raw",
   "metadata": {},
   "source": [
    "sf.plot.plot_missing(est0)"
   ]
  },
  {
   "cell_type": "raw",
   "metadata": {},
   "source": [
    "# sample_list = ['DS0097_001', 'DS0097_014', 'DS0097_027', 'DS0097_005', 'SS01057']\n",
    "sample_list = sf.pandas_util.idxwhere(est.sample.str.startswith('DS0097').to_pandas())[:5]\n",
    "# sample_list = [\n",
    "#     'DS0097_032',\n",
    "#     'DS0044_002',\n",
    "#     'DS0044_005',\n",
    "#     'DS0044_006',\n",
    "#     'DS0044_007',\n",
    "#     'DS0044_008',\n",
    "#     'DS0044_009',\n",
    "#     'DS0044_010',\n",
    "#     'SS01068',\n",
    "#     'SS01147',\n",
    "#     'SS01057',\n",
    "#     'SS01134',\n",
    "#     'SS01163',\n",
    "#     'SS01171',\n",
    "#     'SS01172',\n",
    "#     'SS01026',\n",
    "#     'SS01022',\n",
    "# ]\n",
    "\n",
    "sf.plot.plot_metagenotype_frequency_spectrum(est, sample_list=sample_list, show_dominant=True)"
   ]
  },
  {
   "cell_type": "raw",
   "metadata": {},
   "source": [
    "d = est2\n",
    "\n",
    "model_sim = (\n",
    "    sf.model.ParameterizedModel(\n",
    "        sf.model_zoo.full_metagenotype_model_structure,\n",
    "        coords=dict(\n",
    "            sample=d.sample.values,\n",
    "            position=d.position.values,\n",
    "            allele=d.allele.values,\n",
    "            strain=d.strain.values,\n",
    "        ),\n",
    "    )\n",
    ")\n",
    "\n",
    "resim = model_sim.condition(\n",
    "    pi=d.communities.values,\n",
    "#     gamma=d.genotypes.discretized().fuzzed().values,\n",
    "    gamma=d.genotypes.values,\n",
    "    m=d.data['m'].values,\n",
    "    epsilon=d.data['epsilon'].values,\n",
    "    alpha=d.data['alpha'].values,\n",
    "#     epsilon=np.ones_like(d.data['epsilon'].values) * 1e-5,\n",
    "#     alpha=np.ones_like(d.data['alpha'].values) * 1e5,\n",
    ").simulate_world()"
   ]
  },
  {
   "cell_type": "raw",
   "metadata": {},
   "source": [
    "# sample_list = ['SS01038', 'SS01054','SS01052', 'SS01063', 'DS0485_002', 'DS0097_001', 'DS0097_027']\n",
    "sample_list = sf.pandas_util.idxwhere(est2.sample.str.startswith('DS0097').to_pandas())\n",
    "\n",
    "fig, axs = plt.subplots(3, 3, figsize=(11, 9), sharey=True)\n",
    "\n",
    "for sample, ax in zip(sample_list, axs.flatten()):\n",
    "    sf.plot.plot_metagenotype_frequency_spectrum_comparison(dict(obs=obs, resim=resim), sample=sample, ax=ax)\n",
    "    ax.set_yscale('log')\n",
    "    ax.set_ylim(1, 1e4)\n",
    "plt.legend()"
   ]
  },
  {
   "cell_type": "raw",
   "metadata": {},
   "source": [
    "w = est\n",
    "_data = xr.Dataset(dict(\n",
    "        mgen_entropy=w.metagenotypes.entropy(),\n",
    "        expect_entropy=w.data['p'].pipe(sf.math.binary_entropy).mean(\"position\"),\n",
    "        mean_cvrg=w.metagenotypes.sum(\"allele\").mean(\"position\"),\n",
    "        alpha=w.data['alpha'].pipe(np.log),\n",
    "    )).to_dataframe()\n",
    "\n",
    "plt.scatter(x='expect_entropy', y='mgen_entropy', data=_data, s='mean_cvrg', c='alpha')"
   ]
  },
  {
   "cell_type": "markdown",
   "metadata": {},
   "source": [
    "### Big Data Viz."
   ]
  },
  {
   "cell_type": "code",
   "execution_count": null,
   "metadata": {},
   "outputs": [],
   "source": [
    "sf.plot.plot_genotype(\n",
    "    est,\n",
    "    scaley=0.02,\n",
    "    row_linkage_func=lambda w: w.genotypes.cosine_linkage(),\n",
    "    row_colors_func=lambda w: xr.Dataset(dict(\n",
    "        e=1 / w.genotypes.entropy(),\n",
    "        c=(w.data.mu * w.data.communities).sum(\"sample\").pipe(np.cbrt),\n",
    "    ))\n",
    ")"
   ]
  },
  {
   "cell_type": "code",
   "execution_count": null,
   "metadata": {},
   "outputs": [],
   "source": [
    "sf.plot.plot_community(\n",
    "    est.random_sample(sample=500),\n",
    "    row_linkage_func=lambda w: w.genotypes.cosine_linkage(),\n",
    "    col_linkage_func=lambda w: w.communities.linkage(dim=\"sample\", quiet=False),\n",
    ")"
   ]
  },
  {
   "cell_type": "code",
   "execution_count": null,
   "metadata": {},
   "outputs": [],
   "source": [
    "est.communities.data.idxmax(\"strain\").to_series().value_counts().head(20)"
   ]
  },
  {
   "cell_type": "code",
   "execution_count": null,
   "metadata": {},
   "outputs": [],
   "source": [
    "sns.clustermap(est.genotypes.to_pandas().T, vmin=0, vmax=1, center=0.5, cmap='coolwarm', col_linkage=est.genotypes.linkage(quiet=False))"
   ]
  },
  {
   "cell_type": "code",
   "execution_count": null,
   "metadata": {},
   "outputs": [],
   "source": [
    "plt.hist(est.communities.max(\"strain\"), bins=np.linspace(0, 1, num=51))"
   ]
  },
  {
   "cell_type": "code",
   "execution_count": null,
   "metadata": {},
   "outputs": [],
   "source": [
    "plt.scatter(est.communities.max(\"strain\"), est.metagenotypes.sum(\"allele\").mean(\"position\"), c=est.data['mu'].pipe(np.log), s=1)\n",
    "plt.yscale('log')"
   ]
  },
  {
   "cell_type": "code",
   "execution_count": null,
   "metadata": {},
   "outputs": [],
   "source": [
    "sns.jointplot(est.communities.max(\"strain\"), est.metagenotypes.entropy(\"sample\"), kind='hex', norm=mpl.colors.PowerNorm(1/5))"
   ]
  },
  {
   "cell_type": "code",
   "execution_count": null,
   "metadata": {},
   "outputs": [],
   "source": [
    "max_inferred_sample_coverage = est.metagenotypes.sum('allele').mean('position')\n",
    "total_inferred_strain_coverage = (est.metagenotypes.sum('allele').mean('position') * est.communities.data).sum('sample')\n",
    "\n",
    "bins = np.linspace(-2, 4, num=51)\n",
    "\n",
    "plt.hist(max_inferred_sample_coverage[max_inferred_sample_coverage > 0].pipe(np.log10), density=True, bins=bins, alpha=1.)\n",
    "# plt.hist(total_inferred_strain_coverage.pipe(np.log10), density=True, bins=bins, alpha=0.7)\n",
    "\n",
    "plt.xlabel('log10(mean species/sample coverage)')\n",
    "plt.ylabel('density')\n",
    "None"
   ]
  },
  {
   "cell_type": "code",
   "execution_count": null,
   "metadata": {},
   "outputs": [],
   "source": [
    "max_inferred_sample_coverage = est.metagenotypes.sum('allele').mean('position')\n",
    "total_inferred_strain_coverage = (est.metagenotypes.sum('allele').mean('position') * est.communities.data).sum('sample')\n",
    "\n",
    "bins = np.linspace(-2, 4, num=51)\n",
    "\n",
    "plt.hist(max_inferred_sample_coverage[max_inferred_sample_coverage > 0].pipe(np.log10), density=True, bins=bins, alpha=1.0)\n",
    "plt.hist(total_inferred_strain_coverage.pipe(np.log10), density=True, bins=bins, alpha=0.7)\n",
    "\n",
    "plt.xlabel('log10(mean species/sample coverage)')\n",
    "plt.ylabel('density')\n",
    "None"
   ]
  },
  {
   "cell_type": "code",
   "execution_count": null,
   "metadata": {},
   "outputs": [],
   "source": [
    "plt.hist(total_inferred_strain_coverage.pipe(np.log10), bins=50)\n",
    "None"
   ]
  },
  {
   "cell_type": "code",
   "execution_count": null,
   "metadata": {},
   "outputs": [],
   "source": [
    "max_single_sample_inferred_strain_coverage = (est.metagenotypes.sum('allele').mean('position') * est.communities.data).max('sample')\n",
    "plt.hist(max_single_sample_inferred_strain_coverage.pipe(np.log10), bins=50)\n",
    "None"
   ]
  },
  {
   "cell_type": "code",
   "execution_count": null,
   "metadata": {},
   "outputs": [],
   "source": [
    "plt.scatter(max_single_sample_inferred_strain_coverage, total_inferred_strain_coverage, s=5)\n",
    "plt.plot([0, 1e3], [0, 1e3])\n",
    "plt.yscale('log')\n",
    "plt.xscale('log')"
   ]
  },
  {
   "cell_type": "code",
   "execution_count": null,
   "metadata": {},
   "outputs": [],
   "source": [
    "sns.clustermap(est.missingness.to_pandas().T, vmin=0, vmax=1)"
   ]
  },
  {
   "cell_type": "code",
   "execution_count": null,
   "metadata": {},
   "outputs": [],
   "source": [
    "sns.clustermap(est.communities.to_pandas(), vmin=0, vmax=1, norm=mpl.colors.PowerNorm(1/2))"
   ]
  },
  {
   "cell_type": "code",
   "execution_count": null,
   "metadata": {},
   "outputs": [],
   "source": [
    "plt.hist(est.communities.max('sample'), bins=np.linspace(0, 1, num=51))\n",
    "None"
   ]
  },
  {
   "cell_type": "code",
   "execution_count": null,
   "metadata": {},
   "outputs": [],
   "source": [
    "plt.hist(est.genotypes.values.flatten(), bins=np.linspace(0, 1, num=51))\n",
    "None"
   ]
  },
  {
   "cell_type": "code",
   "execution_count": null,
   "metadata": {},
   "outputs": [],
   "source": [
    "plt.hist(est.missingness.values.flatten(), bins=np.linspace(0, 1, num=51))\n",
    "None"
   ]
  },
  {
   "cell_type": "markdown",
   "metadata": {},
   "source": [
    "### What sorts of wonky things does this big-data show?"
   ]
  },
  {
   "cell_type": "code",
   "execution_count": null,
   "metadata": {},
   "outputs": [],
   "source": [
    "sns.jointplot(est.data.mu.pipe(np.log), est.communities.max(\"strain\"), kind='hex', norm=mpl.colors.PowerNorm(1/2))\n",
    "sns.regplot(est.data.mu.pipe(np.log), est.communities.max(\"strain\"), lowess=True, scatter=False)"
   ]
  },
  {
   "cell_type": "code",
   "execution_count": null,
   "metadata": {},
   "outputs": [],
   "source": [
    "sns.jointplot(est.data.mu.pipe(np.log), est.metagenotypes.sum(\"allele\").mean(\"position\").pipe(np.log), kind='hex', norm=mpl.colors.PowerNorm(1/2))"
   ]
  },
  {
   "cell_type": "code",
   "execution_count": null,
   "metadata": {},
   "outputs": [],
   "source": [
    "sns.jointplot(est.data['mu'].pipe(np.log), est.data['alpha'].pipe(np.log), kind='hex', norm=mpl.colors.PowerNorm(1/2))\n",
    "sns.regplot(est.data['mu'].pipe(np.log), est.data['alpha'].pipe(np.log), lowess=True, scatter=False)"
   ]
  },
  {
   "cell_type": "code",
   "execution_count": null,
   "metadata": {},
   "outputs": [],
   "source": [
    "sns.jointplot(est.communities.max(\"strain\"), est.data['alpha'].pipe(np.log), kind='hex', norm=mpl.colors.PowerNorm(1/2))\n",
    "sns.regplot(est.communities.max(\"strain\"), est.data['alpha'].pipe(np.log), lowess=True, scatter=False)"
   ]
  },
  {
   "cell_type": "code",
   "execution_count": null,
   "metadata": {},
   "outputs": [],
   "source": [
    "sns.jointplot(est.communities.max(\"strain\"), est.metagenotypes.entropy('sample').pipe(np.sqrt), kind='hex', norm=mpl.colors.PowerNorm(1/2))\n",
    "sns.regplot(est.communities.max(\"strain\"), est.metagenotypes.entropy('sample').pipe(np.sqrt), lowess=True, scatter=False)"
   ]
  },
  {
   "cell_type": "markdown",
   "metadata": {},
   "source": [
    "### Biogeography"
   ]
  },
  {
   "cell_type": "code",
   "execution_count": null,
   "metadata": {},
   "outputs": [],
   "source": [
    "sample_meta = pd.read_table('raw/shi2019s13.tsv').set_index('NCBI Accession Number')\n",
    "sample_meta.groupby(['Study', 'Continent']).apply(len)"
   ]
  },
  {
   "cell_type": "code",
   "execution_count": null,
   "metadata": {},
   "outputs": [],
   "source": [
    "select_studies = ['CM_madagascar', 'Bengtsson-PalmeJ_2015', 'FengQ_2015', 'LiJ_2017', 'LomanNJ_2013']"
   ]
  },
  {
   "cell_type": "code",
   "execution_count": null,
   "metadata": {},
   "outputs": [],
   "source": [
    "# Construct composition matrix for samples with biogeography data\n",
    "\n",
    "composition = est.communities.to_pandas()\n",
    "meta = sample_meta.reindex(composition.index).dropna(subset=['Sample ID'])\n",
    "composition_bg = composition.reindex(meta.index)"
   ]
  },
  {
   "cell_type": "code",
   "execution_count": null,
   "metadata": {},
   "outputs": [],
   "source": [
    "from sfacts.pandas_util import idxwhere\n",
    "\n",
    "d = composition_bg[meta['Study'].isin(['VatanenT_2016'])]\n",
    "strains = idxwhere((composition_bg[meta['Study'].isin(['VatanenT_2016'])] > 0.5).sum() > 1)\n",
    "\n",
    "# sf.plot.plot_community(\n",
    "#     d.loc[:, strains],\n",
    "#     yticklabels=1,\n",
    "#     norm=mpl.colors.PowerNorm(1/3),\n",
    "# )"
   ]
  },
  {
   "cell_type": "code",
   "execution_count": null,
   "metadata": {},
   "outputs": [],
   "source": [
    "# TODO: This is a giant contingency table,\n",
    "# and the p-value on a chisq test shows clearly that strains clump\n",
    "# into countries.\n",
    "\n",
    "contingency = (\n",
    "    composition_bg\n",
    "    .groupby(meta['Country'])\n",
    "    .apply(lambda d: d.idxmax(1).value_counts())\n",
    "    .unstack(fill_value=0)\n",
    ")\n",
    "\n",
    "null_contingency = (\n",
    "    composition_bg\n",
    "    .set_index(composition_bg.sample(frac=1.0).index)\n",
    "    .groupby(meta['Country'])\n",
    "    .apply(lambda d: d.idxmax(1).value_counts())\n",
    "    .unstack(fill_value=0)\n",
    ")\n",
    "assert sp.stats.chi2_contingency(null_contingency)[1] > 0.01\n",
    "\n",
    "print(sp.stats.chi2_contingency(contingency))"
   ]
  },
  {
   "cell_type": "code",
   "execution_count": null,
   "metadata": {},
   "outputs": [],
   "source": [
    "# Same analysis, but carefully selecting studies that I don't believe have\n",
    "# multiple metagenomes from same/related individuals.\n",
    "\n",
    "contingency2 = (\n",
    "    composition_bg\n",
    "    [meta['Study'].isin(select_studies)]\n",
    "    .groupby(meta['Country'])\n",
    "    .apply(lambda d: d.idxmax(1).value_counts())\n",
    "    .unstack(fill_value=0)\n",
    ")\n",
    "\n",
    "null_contingency2 = (\n",
    "    composition_bg\n",
    "    [meta['Study'].isin(select_studies)]\n",
    "    .set_index(composition_bg[meta['Study'].isin(select_studies)].sample(frac=1.0).index)\n",
    "    .groupby(meta['Country'])\n",
    "    .apply(lambda d: d.idxmax(1).value_counts())\n",
    "    .unstack(fill_value=0)\n",
    ")\n",
    "assert sp.stats.chi2_contingency(null_contingency2)[1] > 0.01\n",
    "\n",
    "print(sp.stats.chi2_contingency(contingency2))"
   ]
  },
  {
   "cell_type": "code",
   "execution_count": null,
   "metadata": {},
   "outputs": [],
   "source": [
    "# Same analysis, but carefully selecting studies that I don't believe have\n",
    "# multiple metagenomes from same/related individuals.\n",
    "# And clustering by study rather than country.\n",
    "\n",
    "contingency3 = (\n",
    "    composition_bg\n",
    "    [meta['Study'].isin(select_studies)]\n",
    "    .groupby(meta['Study'])\n",
    "    .apply(lambda d: d.idxmax(1).value_counts())\n",
    "    .unstack(fill_value=0)\n",
    ")\n",
    "\n",
    "null_contingency3 = (\n",
    "    composition_bg\n",
    "    [meta['Study'].isin(select_studies)]\n",
    "    .set_index(composition_bg[meta['Study'].isin(select_studies)].sample(frac=1.0).index)\n",
    "    .groupby(meta['Study'])\n",
    "    .apply(lambda d: d.idxmax(1).value_counts())\n",
    "    .unstack(fill_value=0)\n",
    ")\n",
    "assert sp.stats.chi2_contingency(null_contingency3)[1] > 0.01\n",
    "\n",
    "print(sp.stats.chi2_contingency(contingency3))"
   ]
  },
  {
   "cell_type": "code",
   "execution_count": null,
   "metadata": {},
   "outputs": [],
   "source": [
    "meta[meta['Study'].isin(select_studies)].groupby('Study').apply(len)"
   ]
  },
  {
   "cell_type": "code",
   "execution_count": null,
   "metadata": {},
   "outputs": [],
   "source": [
    "count_individuals = meta[meta['Study'].isin(select_studies)].groupby('Country').apply(len)\n",
    "\n",
    "top_20_strains = contingency2.apply(lambda x: x / x.sum(), axis=1).mean().sort_values(ascending=False).head(20).index\n",
    "\n",
    "ax = (\n",
    "    contingency2\n",
    "    .apply(lambda x: x / x.sum(), axis=1)\n",
    "    .loc[['CHN', 'MDG', 'AUT', 'DEU', 'SWE'], top_20_strains]\n",
    "    .plot\n",
    "    .bar(stacked=True, color=mpl.cm.tab20(np.linspace(0, 1, num=20)))\n",
    ")\n",
    "#ax.legend_.set_visible(False)\n",
    "ax.legend(bbox_to_anchor=(1, 1), title='Top 20 Strains')\n",
    "\n",
    "ax.set_ylabel('Fraction samples where dominant')"
   ]
  },
  {
   "cell_type": "code",
   "execution_count": null,
   "metadata": {},
   "outputs": [],
   "source": [
    "meta.groupby(['Study', 'Country']).apply(len).unstack(fill_value=0).loc[select_studies].T"
   ]
  },
  {
   "cell_type": "code",
   "execution_count": null,
   "metadata": {},
   "outputs": [],
   "source": [
    "count_individuals = meta[meta['Study'].isin(select_studies)].groupby('Country').apply(len)\n",
    "\n",
    "top_20_strains = contingency3.apply(lambda x: x / x.sum(), axis=1).mean().sort_values(ascending=False).head(20).index\n",
    "\n",
    "ax = (\n",
    "    contingency3\n",
    "    .apply(lambda x: x / x.sum(), axis=1)\n",
    "    .loc[:, top_20_strains]\n",
    "    .plot\n",
    "    .bar(stacked=True, color=mpl.cm.tab20(np.linspace(0, 1, num=20)))\n",
    ")\n",
    "#ax.legend_.set_visible(False)\n",
    "ax.legend(bbox_to_anchor=(1, 1), title='Top 20 Strains')\n",
    "\n",
    "ax.set_ylabel('Fraction samples where dominant')"
   ]
  },
  {
   "cell_type": "code",
   "execution_count": null,
   "metadata": {},
   "outputs": [],
   "source": [
    "from lib.plot import rotate_xticklabels\n",
    "\n",
    "count_individuals = meta.groupby([meta['Continent'], meta['Country'], meta['Study']]).apply(len)\n",
    "\n",
    "d = (\n",
    "    composition_bg\n",
    "    .groupby([meta['Continent'], meta['Country'], meta['Study']])\n",
    "    .apply(lambda d: d.idxmax(1).value_counts())\n",
    "    .unstack(fill_value=0)\n",
    "    .sort_index()\n",
    "    .apply(lambda x: x / x.sum(), axis=1)\n",
    ")\n",
    "top_strains = d.mean().sort_values(ascending=False).head(15).index\n",
    "\n",
    "d = d.loc[:, top_strains].assign(other=1 - d.loc[:, top_strains].sum(1)).drop(idxwhere(count_individuals < 10))\n",
    "\n",
    "ax = (\n",
    "    d\n",
    "    .plot\n",
    "    .bar(\n",
    "        stacked=True,\n",
    "        color=mpl.cm.tab20(np.linspace(0, 1, num=20)),\n",
    "        figsize=(10, 5)\n",
    "    )\n",
    ")\n",
    "#ax.legend_.set_visible(False)\n",
    "ax.legend(bbox_to_anchor=(1, 1), title='Top Strains')\n",
    "\n",
    "ax.set_ylabel('Fraction samples where dominant')\n",
    "rotate_xticklabels()"
   ]
  },
  {
   "cell_type": "code",
   "execution_count": null,
   "metadata": {},
   "outputs": [],
   "source": [
    "continent_dominance_total = est.communities.data.to_pandas().groupby(meta['Continent']).apply(lambda d: (d > 0.5).sum())\n",
    "continent_dominance_frequency = est.communities.data.to_pandas().groupby(meta['Continent']).apply(lambda d: (d > 0.5).mean())\n",
    "continent_detect_frequency = est.communities.data.to_pandas().groupby(meta['Continent']).apply(lambda d: (d > 0.1).mean())\n"
   ]
  },
  {
   "cell_type": "code",
   "execution_count": null,
   "metadata": {},
   "outputs": [],
   "source": [
    "continent_dominance_frequency.loc[:, lambda x: x.sum() != 0].idxmax().value_counts()"
   ]
  },
  {
   "cell_type": "code",
   "execution_count": null,
   "metadata": {},
   "outputs": [],
   "source": [
    "continent_colormap = dict(\n",
    "    AF='green',\n",
    "    EU='blue',\n",
    "    AS='purple',\n",
    "    OC='pink',\n",
    "    SA='orange',\n",
    ")\n",
    "thresh = 0\n",
    "\n",
    "genotype_colors = pd.DataFrame(dict(\n",
    "    AF=(continent_dominance_total.loc['AF'] > thresh).map({False: 'white', True: continent_colormap['AF']}),\n",
    "    EU=(continent_dominance_total.loc['EU'] > thresh).map({False: 'white', True: continent_colormap['EU']}),\n",
    "    AS=(continent_dominance_total.loc['AS'] > thresh).map({False: 'white', True: continent_colormap['AS']}),\n",
    "    OC=(continent_dominance_total.loc['OC'] > thresh).map({False: 'white', True: continent_colormap['OC']}),\n",
    "    SA=(continent_dominance_total.loc['SA'] > thresh).map({False: 'white', True: continent_colormap['SA']}),\n",
    "    highest_detect_frequency=continent_detect_frequency.idxmax().map(continent_colormap).where(continent_detect_frequency.sum() != 0, 'white'),\n",
    "))\n",
    "\n",
    "\n",
    "cgrid = sns.clustermap(\n",
    "    est.genotypes.to_pandas().T,\n",
    "    vmin=0, vmax=1, center=0.5, cmap='coolwarm',\n",
    "    col_linkage=est.genotypes.linkage(quiet=False, method='average', optimal_ordering=False),\n",
    "    col_colors=genotype_colors,\n",
    "    figsize=(35, 15),\n",
    "    dendrogram_ratio=(0.01, 0.75),\n",
    "    xticklabels=0, yticklabels=0,\n",
    "    tree_kws=dict(lw=1.5),\n",
    ")\n",
    "cgrid.ax_cbar.set_visible(False)"
   ]
  },
  {
   "cell_type": "code",
   "execution_count": null,
   "metadata": {},
   "outputs": [],
   "source": [
    "estimates = {}\n",
    "\n",
    "species_names = {\n",
    "    102506: 'E. coli',\n",
    "    100022: 'F. prausnitzii',\n",
    "    102492: 'A. rectalis',\n",
    "    100113: 'S. salivarius'\n",
    "    \n",
    "}\n",
    "\n",
    "for spid in species_names:\n",
    "    estimates[spid] = sf.data.World.load(\n",
    "        f'data/core.sp-{spid}.gtpro-pileup.sfacts.nc',\n",
    "        validate=False\n",
    "    )"
   ]
  },
  {
   "cell_type": "code",
   "execution_count": null,
   "metadata": {},
   "outputs": [],
   "source": [
    "def rarifaction(world, thresh=0.5, shuffle=False):\n",
    "    d = world.communities.to_pandas() > thresh\n",
    "    d = d[d.any(1)]\n",
    "    if shuffle:\n",
    "        d = d.sample(frac=1., replace=False)\n",
    "    d = d.cumsum()\n",
    "    return (d > 0).sum(1)\n",
    "\n",
    "for spid, world in estimates.items():\n",
    "    plt.plot(rarifaction(world, shuffle=True).values, label=species_names[spid])\n",
    "    \n",
    "plt.plot([1, 600], [1, 600], lw=1, linestyle='--', color='k')\n",
    "plt.legend()\n",
    "# plt.yscale('log')\n",
    "# plt.xscale('log')\n",
    "plt.xlim(1)\n",
    "plt.ylim(1)"
   ]
  },
  {
   "cell_type": "markdown",
   "metadata": {},
   "source": [
    "### LD"
   ]
  },
  {
   "cell_type": "code",
   "execution_count": null,
   "metadata": {},
   "outputs": [],
   "source": [
    "all_species_position_meta_ = pd.read_table(\n",
    "    '/pollard/data/gt-pro-db/variants_main.covered.hq.snp_dict.tsv',\n",
    "    names=['species_id', 'position', 'contig', 'contig_position', 'ref', 'alt']\n",
    ").set_index('position')\n",
    "all_species_position_meta_ = all_species_position_meta_[all_species_position_meta_.species_id.isin([100022, 102506])]"
   ]
  },
  {
   "cell_type": "code",
   "execution_count": null,
   "metadata": {},
   "outputs": [],
   "source": [
    "all_species_position_meta_.info()"
   ]
  },
  {
   "cell_type": "code",
   "execution_count": null,
   "metadata": {},
   "outputs": [],
   "source": [
    "genotypes = xr.open_dataarray('data/core.sp-102506.gtpro-pileup.sfacts-genotypes.nc')"
   ]
  },
  {
   "cell_type": "code",
   "execution_count": null,
   "metadata": {},
   "outputs": [],
   "source": [
    "missingness = xr.open_dataarray('data/core.sp-102506.gtpro-pileup.sfacts-missingness.nc')"
   ]
  },
  {
   "cell_type": "code",
   "execution_count": null,
   "metadata": {},
   "outputs": [],
   "source": [
    "position_meta = all_species_position_meta_[lambda x: x.species_id == 102506]"
   ]
  },
  {
   "cell_type": "code",
   "execution_count": null,
   "metadata": {},
   "outputs": [],
   "source": [
    "position_meta.loc[genotypes.position]"
   ]
  },
  {
   "cell_type": "code",
   "execution_count": null,
   "metadata": {},
   "outputs": [],
   "source": [
    "from scipy.spatial.distance import squareform, pdist\n",
    "\n",
    "def pos_psim(genotypes):\n",
    "    return (1 - squareform(pdist((genotypes.T), metric='correlation')))**2\n",
    "\n",
    "def linear_distance(linear_index):\n",
    "    linear_index = linear_index.to_frame()\n",
    "    return pd.DataFrame(\n",
    "        squareform(\n",
    "            pdist(\n",
    "                linear_index,\n",
    "                metric='cityblock'\n",
    "            )\n",
    "        ),\n",
    "        index=linear_index.index,\n",
    "        columns=linear_index.index,\n",
    "    )\n",
    "\n",
    "position_sim = pd.DataFrame(pos_psim(genotypes), index=genotypes.position, columns=genotypes.position)"
   ]
  },
  {
   "cell_type": "code",
   "execution_count": null,
   "metadata": {},
   "outputs": [],
   "source": [
    "(1 - squareform(1 - position_sim)).mean()"
   ]
  },
  {
   "cell_type": "code",
   "execution_count": null,
   "metadata": {},
   "outputs": [],
   "source": [
    "snp_info = (\n",
    "    position_meta\n",
    "    .groupby('contig')\n",
    "    .apply(len)\n",
    "    .to_frame(name='total_count')\n",
    "    .assign(\n",
    "        fit_count=position_meta.loc[genotypes.position]\n",
    "        .groupby('contig')\n",
    "        .apply(len)\n",
    "    ).fillna(0)\n",
    ").sort_values('fit_count', ascending=False)\n",
    "\n",
    "snp_info.head(10)"
   ]
  },
  {
   "cell_type": "code",
   "execution_count": null,
   "metadata": {},
   "outputs": [],
   "source": [
    "position_ldist_ = linear_distance(\n",
    "    position_meta.loc[genotypes.position]['contig_position']\n",
    ").sort_index().sort_index(1)"
   ]
  },
  {
   "cell_type": "code",
   "execution_count": null,
   "metadata": {},
   "outputs": [],
   "source": [
    "import patsy\n",
    "\n",
    "same_contig = pd.DataFrame(\n",
    "    1 - squareform(\n",
    "        pdist(\n",
    "            patsy.dmatrix(\n",
    "                'contig - 1', data=position_meta.loc[genotypes.position]['contig'].to_frame(), return_type='dataframe'\n",
    "            ),\n",
    "            'jaccard'),\n",
    "    ),\n",
    "    index=genotypes.position, columns=genotypes.position,\n",
    "\n",
    ")\n",
    "#sns.heatmap(same_contig.sort_index().sort_index(1))"
   ]
  },
  {
   "cell_type": "code",
   "execution_count": null,
   "metadata": {},
   "outputs": [],
   "source": [
    "ld_data = pd.DataFrame(dict(\n",
    "    linear_distance=squareform(position_ldist_.values),\n",
    "    same_contig=(squareform(1 - same_contig.values) == 0),\n",
    "    ld=1 - squareform(1 - position_sim),\n",
    "))\n",
    "ld_data = ld_data[ld_data.same_contig]\n",
    "ld_data"
   ]
  },
  {
   "cell_type": "code",
   "execution_count": null,
   "metadata": {},
   "outputs": [],
   "source": [
    "d = ld_data[\n",
    "        lambda x: x.same_contig & (150 < x.linear_distance) & (x.linear_distance < 2000)\n",
    "]\n",
    "\n",
    "plt.scatter(\n",
    "    x='linear_distance',\n",
    "    y='ld',\n",
    "    data=d,\n",
    "    s=1,\n",
    "    alpha=0.1,\n",
    ")\n"
   ]
  },
  {
   "cell_type": "code",
   "execution_count": null,
   "metadata": {},
   "outputs": [],
   "source": [
    "sns.jointplot(\n",
    "    x='linear_distance',\n",
    "    y='ld',\n",
    "    data=ld_data[\n",
    "        lambda x: x.same_contig & (0 < x.linear_distance) & (x.linear_distance < 2000)\n",
    "    ],\n",
    "    kind='hex',\n",
    "    norm=mpl.colors.PowerNorm(1/3)\n",
    ")"
   ]
  },
  {
   "cell_type": "code",
   "execution_count": null,
   "metadata": {},
   "outputs": [],
   "source": [
    "ld_data[\n",
    "        lambda x: x.same_contig & (0 < x.linear_distance) & (x.linear_distance < 100)\n",
    "    ].ld.mean()"
   ]
  },
  {
   "cell_type": "code",
   "execution_count": null,
   "metadata": {},
   "outputs": [],
   "source": [
    "ld_data[\n",
    "        lambda x: x.same_contig & (100 < x.linear_distance) & (x.linear_distance < 200)\n",
    "    ].ld.mean()"
   ]
  },
  {
   "cell_type": "code",
   "execution_count": null,
   "metadata": {},
   "outputs": [],
   "source": [
    "stepsize = 5\n",
    "right = 2500\n",
    "\n",
    "d = ld_data[ld_data.linear_distance < right]\n",
    "\n",
    "bins = {}\n",
    "for start in range(0, right, stepsize):\n",
    "    stop = start + stepsize\n",
    "    bins[start] = d[(d.linear_distance >= start) & (d.linear_distance < stop)].ld.mean()\n",
    "    \n",
    "plt.scatter(\n",
    "    x='linear_distance',\n",
    "    y='ld',\n",
    "    data=d,\n",
    "    s=0.1,\n",
    "    alpha=0.05,\n",
    "    color='black',\n",
    "    label='__nolegend__',\n",
    ")\n",
    "plt.scatter([], [], s=10, color='black', label='Locus Pair')\n",
    "plt.plot(pd.Series(bins), color='red', label=f'Mean LD ({stepsize} bp Bin)')\n",
    "plt.axhline(0, lw=1, color='red', linestyle='--')\n",
    "plt.ylabel(r\"LD\")\n",
    "plt.xlabel(\"Distance\")\n",
    "plt.legend(bbox_to_anchor=(0.85, 1.15), ncol=2)\n",
    "\n",
    "print(sp.stats.spearmanr(d['linear_distance'], d['ld']))"
   ]
  },
  {
   "cell_type": "code",
   "execution_count": null,
   "metadata": {},
   "outputs": [],
   "source": [
    "stepsize = 5\n",
    "right = 200\n",
    "\n",
    "d = ld_data[ld_data.linear_distance < right]\n",
    "\n",
    "bins = {}\n",
    "for start in range(0, right, stepsize):\n",
    "    stop = start + stepsize\n",
    "    bins[start] = d[(d.linear_distance >= start) & (d.linear_distance < stop)].ld.mean()\n",
    "    \n",
    "plt.scatter(\n",
    "    x='linear_distance',\n",
    "    y='ld',\n",
    "    data=d,\n",
    "    s=0.5,\n",
    "    alpha=0.05,\n",
    "    color='black',\n",
    "    label='__nolegend__',\n",
    ")\n",
    "plt.scatter([], [], s=10, color='black', label='Locus Pair')\n",
    "plt.plot(pd.Series(bins), color='red', label=f'Mean LD ({stepsize} bp Bin)')\n",
    "plt.axhline(0, lw=1, color='red', linestyle='--')\n",
    "plt.ylabel(r\"LD\")\n",
    "plt.xlabel(\"Distance\")\n",
    "plt.legend(bbox_to_anchor=(0.85, 1.15), ncol=2)\n",
    "\n",
    "print(sp.stats.spearmanr(d['linear_distance'], d['ld']))"
   ]
  },
  {
   "cell_type": "code",
   "execution_count": null,
   "metadata": {},
   "outputs": [],
   "source": [
    "all_species_position_meta_ = pd.read_table(\n",
    "    '/pollard/data/gt-pro-db/variants_main.covered.hq.snp_dict.tsv',\n",
    "    names=['species_id', 'position', 'contig', 'contig_position', 'ref', 'alt']\n",
    ").set_index('position')\n",
    "all_species_position_meta_ = all_species_position_meta_[all_species_position_meta_.species_id.isin([100022, 102506])]"
   ]
  },
  {
   "cell_type": "code",
   "execution_count": null,
   "metadata": {},
   "outputs": [],
   "source": [
    "all_species_position_meta_.info()"
   ]
  },
  {
   "cell_type": "code",
   "execution_count": null,
   "metadata": {},
   "outputs": [],
   "source": []
  }
 ],
 "metadata": {
  "kernelspec": {
   "display_name": "Python 3",
   "language": "python",
   "name": "python3"
  },
  "language_info": {
   "codemirror_mode": {
    "name": "ipython",
    "version": 3
   },
   "file_extension": ".py",
   "mimetype": "text/x-python",
   "name": "python",
   "nbconvert_exporter": "python",
   "pygments_lexer": "ipython3",
   "version": "3.8.5"
  },
  "toc": {
   "base_numbering": 1,
   "nav_menu": {
    "height": "82px",
    "width": "168px"
   },
   "number_sections": true,
   "sideBar": true,
   "skip_h1_title": false,
   "title_cell": "Table of Contents",
   "title_sidebar": "Contents",
   "toc_cell": false,
   "toc_position": {
    "height": "calc(100% - 180px)",
    "left": "10px",
    "top": "150px",
    "width": "216px"
   },
   "toc_section_display": true,
   "toc_window_display": true
  },
  "toc-autonumbering": false,
  "toc-showcode": false,
  "toc-showmarkdowntxt": false,
  "toc-showtags": false
 },
 "nbformat": 4,
 "nbformat_minor": 5
}
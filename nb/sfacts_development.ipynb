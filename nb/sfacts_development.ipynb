{
 "cells": [
  {
   "cell_type": "markdown",
   "metadata": {},
   "source": [
    "## Imports"
   ]
  },
  {
   "cell_type": "code",
   "execution_count": null,
   "metadata": {},
   "outputs": [],
   "source": [
    "%load_ext autoreload\n",
    "%autoreload 2"
   ]
  },
  {
   "cell_type": "raw",
   "metadata": {},
   "source": [
    "from sfacts.logging_util import *\n",
    "from sfacts.pyro_util import *\n",
    "from sfacts.model import *\n",
    "from sfacts.genotype import *\n",
    "from sfacts.plot import *\n",
    "from sfacts.estimation import *\n",
    "from sfacts.evaluation import *\n",
    "from sfacts.workflow import *\n",
    "from sfacts.data import *\n",
    "from sfacts.pandas_util import *"
   ]
  },
  {
   "cell_type": "code",
   "execution_count": null,
   "metadata": {},
   "outputs": [],
   "source": [
    "import sfacts as sf"
   ]
  },
  {
   "cell_type": "code",
   "execution_count": null,
   "metadata": {},
   "outputs": [],
   "source": [
    "import pandas as pd\n",
    "import matplotlib as mpl\n",
    "import matplotlib.pyplot as plt\n",
    "import seaborn as sns\n",
    "import numpy as np\n",
    "import scipy as sp\n",
    "import pyro\n",
    "import pyro.distributions as dist\n",
    "import torch\n",
    "from functools import partial\n",
    "from tqdm import tqdm\n",
    "import xarray as xr\n",
    "import warnings\n",
    "from torch.jit import TracerWarning"
   ]
  },
  {
   "cell_type": "code",
   "execution_count": null,
   "metadata": {},
   "outputs": [],
   "source": [
    "warnings.filterwarnings(\n",
    "    \"ignore\",\n",
    "    message=\"torch.tensor results are registered as constants in the trace. You can safely ignore this warning if you use this function to create tensors out of constant variables that would be the same every time you call this function. In any other case, this might cause the trace to be incorrect.\",\n",
    "    category=torch.jit.TracerWarning,\n",
    "#     module=\"trace_elbo\",  # FIXME: What is the correct regex for module?\n",
    "#     lineno=5,\n",
    ")"
   ]
  },
  {
   "cell_type": "markdown",
   "metadata": {},
   "source": [
    "## Library"
   ]
  },
  {
   "cell_type": "code",
   "execution_count": null,
   "metadata": {},
   "outputs": [],
   "source": [
    "!tree sfacts -I __pycache__"
   ]
  },
  {
   "cell_type": "markdown",
   "metadata": {},
   "source": [
    "### `__init__.py`"
   ]
  },
  {
   "cell_type": "markdown",
   "metadata": {},
   "source": [
    "### pyro_util.py"
   ]
  },
  {
   "cell_type": "markdown",
   "metadata": {},
   "source": [
    "### data.py"
   ]
  },
  {
   "cell_type": "markdown",
   "metadata": {},
   "source": [
    "### plot.py"
   ]
  },
  {
   "cell_type": "markdown",
   "metadata": {},
   "source": [
    "### model.py"
   ]
  },
  {
   "cell_type": "markdown",
   "metadata": {},
   "source": [
    "### model_zoo.py"
   ]
  },
  {
   "cell_type": "markdown",
   "metadata": {},
   "source": [
    "### estimation.py"
   ]
  },
  {
   "cell_type": "markdown",
   "metadata": {},
   "source": [
    "### evaluation.py"
   ]
  },
  {
   "cell_type": "markdown",
   "metadata": {},
   "source": [
    "### workflow.py"
   ]
  },
  {
   "cell_type": "markdown",
   "metadata": {},
   "source": [
    "## Prototype"
   ]
  },
  {
   "cell_type": "code",
   "execution_count": null,
   "metadata": {},
   "outputs": [],
   "source": [
    "# Sanity check on sfacts/data.py\n",
    "np.random.seed(1)\n",
    "\n",
    "obs_all = (\n",
    "    sf.data.Metagenotypes.load('data/ucfmt.sp-100022.gtpro-pileup.nc')\n",
    "    .select_variable_positions(incid_thresh=0.2)\n",
    "    .select_samples_with_coverage(0.1)\n",
    "    .to_world()\n",
    ")\n",
    "\n",
    "obs = obs_all.random_sample(1500, 'position')\n",
    "\n",
    "# Test .validate_constraints()\n",
    "obs.metagenotypes.to_estimated_genotypes().validate_constraints()\n",
    "\n",
    "sf.plot.plot_metagenotype(\n",
    "    obs\n",
    ")"
   ]
  },
  {
   "cell_type": "code",
   "execution_count": null,
   "metadata": {},
   "outputs": [],
   "source": [
    "s = 50"
   ]
  },
  {
   "cell_type": "code",
   "execution_count": null,
   "metadata": {},
   "outputs": [],
   "source": [
    "approx = sf.estimation.nmf_approximation(obs, s, random_state=1, alpha=0., solver='cd', init='random', tol=1e-4)"
   ]
  },
  {
   "cell_type": "code",
   "execution_count": null,
   "metadata": {},
   "outputs": [],
   "source": [
    "sf.plot.plot_genotype(approx)\n",
    "sf.plot.plot_community(approx)"
   ]
  },
  {
   "cell_type": "code",
   "execution_count": null,
   "metadata": {},
   "outputs": [],
   "source": [
    "d = obs\n",
    "\n",
    "model_fit = sf.model.ParameterizedModel(\n",
    "    sf.model_zoo.full_metagenotype_model_structure,\n",
    "    coords=dict(\n",
    "        sample=d.sample.values,\n",
    "        position=d.position.values,\n",
    "        allele=d.allele.values,\n",
    "        strain=range(s),\n",
    "    ),\n",
    "    hyperparameters=dict(\n",
    "        gamma_hyper=0.1,\n",
    "        delta_hyper_r=0.8,\n",
    "        delta_hyper_temp=0.1,\n",
    "        rho_hyper=0.01,\n",
    "        pi_hyper=0.5,\n",
    "        alpha_hyper_hyper_mean=1000.0,\n",
    "        alpha_hyper_hyper_scale=0.5,\n",
    "        alpha_hyper_scale=1.0,\n",
    "        epsilon_hyper_alpha=1.5,\n",
    "        epsilon_hyper_beta=1.5 / 0.001,\n",
    "    ),\n",
    "#     data=dict(alpha=np.ones(d.sizes['sample']) * 1e5),\n",
    ")\n",
    "\n",
    "est, history = sf.workflow.simple_fit(\n",
    "    model_fit.condition(\n",
    "        **d.metagenotypes.to_counts_and_totals()\n",
    "    ),\n",
    "#     stage2_hyperparameters=dict(gamma_hyper=1.0),\n",
    "#     thresh=0.02,\n",
    "    initialize_params=dict(\n",
    "        gamma=approx.genotypes.fuzzed(eps=1e-1).values,\n",
    "        pi=approx.communities.fuzzed(eps=1e-2).values,\n",
    "    ),\n",
    "    lagA=10,\n",
    "    lagB=100,\n",
    "    opt=pyro.optim.Adamax({\"lr\": 1e-0}, {\"clip_norm\": 100}),\n",
    "    seed=1,\n",
    ")\n",
    "\n",
    "sf.plot.plot_loss_history(history)"
   ]
  },
  {
   "cell_type": "code",
   "execution_count": null,
   "metadata": {},
   "outputs": [],
   "source": [
    "sf.plot.plot_community(\n",
    "    est,\n",
    "    col_colors_func=lambda w: xr.Dataset(dict(\n",
    "        mgen_entropy=w.metagenotypes.entropy(),\n",
    "        expect_entropy=w.data['p'].pipe(sf.math.binary_entropy).mean(\"position\"),\n",
    "        mean_cvrg=w.metagenotypes.sum(\"allele\").mean(\"position\"),\n",
    "        m_hyper_r=w.data['m_hyper_r'],\n",
    "        alpha=w.data['alpha'].pipe(np.log),\n",
    "        flag=(w.data.alpha < 10) & (w.metagenotypes.sum(\"allele\").mean(\"position\") > 20),\n",
    "    )),\n",
    "    row_colors_func=lambda w: xr.Dataset(dict(\n",
    "        entropy=w.genotypes.entropy(),\n",
    "        mean_cvrg=(w.communities.data * w.metagenotypes.sum(\"allele\").mean(\"position\")).sum(\"sample\").pipe(np.log),\n",
    "    )),\n",
    "    row_linkage_func=lambda w: w.genotypes.cosine_linkage(),\n",
    "    col_linkage_func=lambda w: w.metagenotypes.linkage('sample'),\n",
    "#     norm=mpl.colors.SymLogNorm(linthresh=1e-2),\n",
    "#     norm=mpl.colors.PowerNorm(1),\n",
    ")"
   ]
  },
  {
   "cell_type": "code",
   "execution_count": null,
   "metadata": {},
   "outputs": [],
   "source": [
    "sf.plot.plot_genotype(\n",
    "    est,\n",
    "    row_colors_func=lambda w: xr.Dataset(dict(\n",
    "        entropy=w.genotypes.entropy(),\n",
    "        mean_cvrg=(w.communities.data * w.metagenotypes.sum(\"allele\").mean(\"position\")).sum(\"sample\").pipe(np.log),\n",
    "    )),\n",
    "    row_linkage_func=lambda w: w.genotypes.cosine_linkage(),\n",
    "    col_linkage_func=lambda w: w.metagenotypes.linkage(dim='position'),\n",
    ")"
   ]
  },
  {
   "cell_type": "code",
   "execution_count": null,
   "metadata": {},
   "outputs": [],
   "source": [
    "sf.plot.plot_missing(\n",
    "    est,\n",
    "    row_colors_func=lambda w: xr.Dataset(dict(\n",
    "        entropy=w.genotypes.entropy(),\n",
    "        mean_cvrg=(w.communities.data * w.metagenotypes.sum(\"allele\").mean(\"position\")).sum(\"sample\").pipe(np.log),\n",
    "    )),\n",
    "    row_linkage_func=lambda w: w.genotypes.cosine_linkage(),\n",
    "    col_linkage_func=lambda w: w.metagenotypes.linkage(dim='position'),\n",
    ")"
   ]
  },
  {
   "cell_type": "code",
   "execution_count": null,
   "metadata": {},
   "outputs": [],
   "source": [
    "sf.plot.plot_metagenotype(\n",
    "    est,\n",
    "#     row_colors_func=lambda w: xr.Dataset(dict(\n",
    "#         entropy=w.genotypes.entropy(),\n",
    "#         mean_cvrg=(w.communities.data * w.metagenotypes.sum(\"allele\").mean(\"position\")).sum(\"sample\").pipe(np.log),\n",
    "#     )),\n",
    "#     row_linkage_func=lambda w: w.genotypes.cosine_linkage(),\n",
    "    row_linkage_func=lambda w: w.metagenotypes.linkage(dim='position'),\n",
    ")"
   ]
  },
  {
   "cell_type": "raw",
   "metadata": {},
   "source": [
    "d = est\n",
    "\n",
    "sf.plot.plot_genotype(sf.data.World.concat({\n",
    "    'est0': est0,\n",
    "    'est1': est,\n",
    "}, dim='strain'),\n",
    "    row_colors_func=lambda w: xr.Dataset(dict(\n",
    "        entropy=w.genotypes.entropy(),\n",
    "        missingness=1 - w.missingness.mean('position'),\n",
    "        mean_cvrg=(w.communities.data * w.metagenotypes.sum(\"allele\").mean(\"position\")).sum(\"sample\").pipe(np.log),\n",
    "    )),\n",
    ")"
   ]
  },
  {
   "cell_type": "raw",
   "metadata": {},
   "source": [
    "sf.plot.plot_missing(est)"
   ]
  },
  {
   "cell_type": "raw",
   "metadata": {},
   "source": [
    "sf.plot.plot_missing(est0)"
   ]
  },
  {
   "cell_type": "code",
   "execution_count": null,
   "metadata": {},
   "outputs": [],
   "source": [
    "# sample_list = ['DS0097_001', 'DS0097_014', 'DS0097_027', 'DS0097_005', 'SS01057']\n",
    "sample_list = [\n",
    "#     'DS0097_032',\n",
    "#     'DS0044_007',\n",
    "#     'SS01068',\n",
    "#     'SS01147',\n",
    "#     'SS01057',\n",
    "#     'SS01134',\n",
    "#     'SS01163',\n",
    "    'SS01075',\n",
    "    'SS01078',\n",
    "]\n",
    "\n",
    "sf.plot.plot_metagenotype_frequency_spectrum(est, sample_list=sample_list, show_dominant=True)"
   ]
  },
  {
   "cell_type": "code",
   "execution_count": null,
   "metadata": {},
   "outputs": [],
   "source": [
    "d = est\n",
    "\n",
    "model_sim = (\n",
    "    sf.model.ParameterizedModel(\n",
    "        sf.model_zoo.full_metagenotype_model_structure,\n",
    "        coords=dict(\n",
    "            sample=d.sample.values,\n",
    "            position=d.position.values,\n",
    "            allele=d.allele.values,\n",
    "            strain=d.strain.values,\n",
    "        ),\n",
    "    )\n",
    ")\n",
    "\n",
    "resim = model_sim.condition(\n",
    "    pi=d.communities.values,\n",
    "    gamma=d.genotypes.discretized().fuzzed().values,\n",
    "#     gamma=d.genotypes.values\n",
    "    m=d.data['m'].values,\n",
    "#     epsilon=d.data['epsilon'].values,\n",
    "#     alpha=d.data['alpha'].values,\n",
    "    epsilon=np.ones_like(d.data['epsilon'].values) * 1e-5,\n",
    "    alpha=np.ones_like(d.data['alpha'].values) * 1e5,\n",
    ").simulate_world()"
   ]
  },
  {
   "cell_type": "code",
   "execution_count": null,
   "metadata": {},
   "outputs": [],
   "source": [
    "# sample_list = ['SS01038', 'SS01054','SS01052', 'SS01063', 'DS0485_002', 'DS0097_001', 'DS0097_027']\n",
    "sample_list = [\n",
    "    'SS01075',\n",
    "    'SS01078',\n",
    "]\n",
    "\n",
    "fig, axs = plt.subplots(3, 3, figsize=(11, 9), sharey=True)\n",
    "\n",
    "for sample, ax in zip(sample_list, axs.flatten()):\n",
    "    sf.plot.plot_metagenotype_frequency_spectrum_comparison(dict(obs=obs, resim=resim), sample=sample, ax=ax)\n",
    "    ax.set_yscale('log')\n",
    "    ax.set_ylim(1, 1e4)\n",
    "plt.legend()"
   ]
  },
  {
   "cell_type": "code",
   "execution_count": null,
   "metadata": {},
   "outputs": [],
   "source": [
    "w = est\n",
    "_data = xr.Dataset(dict(\n",
    "        mgen_entropy=w.metagenotypes.entropy(),\n",
    "        expect_entropy=w.data['p'].pipe(sf.math.binary_entropy).mean(\"position\"),\n",
    "        mean_cvrg=w.metagenotypes.sum(\"allele\").mean(\"position\"),\n",
    "        alpha=w.data['alpha'].pipe(np.log),\n",
    "    )).to_dataframe()\n",
    "\n",
    "plt.scatter(x='expect_entropy', y='mgen_entropy', data=_data, s='mean_cvrg', c='alpha')"
   ]
  },
  {
   "cell_type": "code",
   "execution_count": null,
   "metadata": {},
   "outputs": [],
   "source": [
    "flagged_sample = sf.pandas_util.idxwhere(((est.data.alpha < 10) & (est.data.m.mean(\"position\") > 20)).to_series())"
   ]
  },
  {
   "cell_type": "code",
   "execution_count": null,
   "metadata": {},
   "outputs": [],
   "source": [
    "sample_list = flagged_sample\n",
    "\n",
    "fig, axs = plt.subplots(3, 3, figsize=(11, 9), sharey=True)\n",
    "\n",
    "for sample, ax in zip(sample_list, axs.flatten()):\n",
    "    sf.plot.plot_metagenotype_frequency_spectrum_comparison(dict(obs=obs, resim=resim), sample=sample, ax=ax)\n",
    "    ax.set_yscale('log')\n",
    "    ax.set_ylim(1, 1e4)\n",
    "plt.legend()"
   ]
  },
  {
   "cell_type": "code",
   "execution_count": null,
   "metadata": {},
   "outputs": [],
   "source": [
    "sf.plot.plot_metagenotype(\n",
    "    est,\n",
    "    col_linkage_func=lambda w: w.metagenotypes.linkage(\"sample\"),\n",
    ")"
   ]
  },
  {
   "cell_type": "code",
   "execution_count": null,
   "metadata": {},
   "outputs": [],
   "source": [
    "sf.plot.plot_expected_fractions(\n",
    "    est,\n",
    "    col_linkage_func=lambda w: w.metagenotypes.linkage(\"sample\"),\n",
    ")"
   ]
  },
  {
   "cell_type": "code",
   "execution_count": null,
   "metadata": {},
   "outputs": [],
   "source": [
    "sf.plot.plot_prediction_error(\n",
    "    est,\n",
    "#     col_colors_func=lambda w: xr.Dataset(dict(\n",
    "#         alpha=w.data.alpha.pipe(np.log),\n",
    "#     )),\n",
    ")\n"
   ]
  },
  {
   "cell_type": "raw",
   "metadata": {},
   "source": [
    "_data = est0.genotypes.mlift('sel', strain=[7, 11]).to_pandas()\n",
    "sns.jointplot(x=7, y=11, data=_data.T, kind='hex', norm=mpl.colors.PowerNorm(1/2))"
   ]
  },
  {
   "cell_type": "raw",
   "metadata": {},
   "source": [
    "metrics = dict(\n",
    "    euclidean='euclidean',\n",
    "    cosine='cosine',\n",
    "    correlation='correlation',\n",
    "    genotype=sf.data.Genotypes._genotype_sign_representation_dissimilarity,\n",
    "    scratch=sf.data.Genotypes._genotype_sign_representation_dissimilarity,\n",
    ")\n",
    "\n",
    "res = {}\n",
    "for name in metrics:\n",
    "    res[name] = sp.spatial.distance.pdist(\n",
    "        est0.genotypes.pipe(sf.data.Genotypes._convert_to_sign_representation\n",
    "                           ),\n",
    "        metric=metrics[name]\n",
    "    )\n",
    "res = pd.DataFrame(res)\n",
    "\n",
    "sns.pairplot(res)"
   ]
  },
  {
   "cell_type": "raw",
   "metadata": {},
   "source": [
    "bins = np.linspace(0, 2, num=51)\n",
    "plt.hist(res['cosine'] / 2, bins=bins, alpha=0.5)\n",
    "plt.hist(res['genotype'], bins=bins, alpha=0.5)"
   ]
  },
  {
   "cell_type": "raw",
   "metadata": {},
   "source": [
    "sf.plot.plot_genotype(est0, row_linkage_func=None, col_linkage_func=None)\n",
    "sf.plot.plot_genotype(est0, row_linkage_func=lambda w: w.genotypes.cosine_linkage(), col_linkage_func=None)\n",
    "sf.plot.plot_genotype(est0, row_linkage_func=lambda w: w.genotypes.linkage(), col_linkage_func=None)"
   ]
  },
  {
   "cell_type": "raw",
   "metadata": {},
   "source": [
    "sf.plot.plot_genotype(est, row_linkage_func=None, col_linkage_func=None)\n",
    "sf.plot.plot_genotype(est, row_linkage_func=lambda w: w.genotypes.cosine_linkage(), col_linkage_func=None)\n",
    "sf.plot.plot_genotype(est, row_linkage_func=lambda w: w.genotypes.linkage(), col_linkage_func=None)"
   ]
  },
  {
   "cell_type": "code",
   "execution_count": null,
   "metadata": {},
   "outputs": [],
   "source": []
  }
 ],
 "metadata": {
  "kernelspec": {
   "display_name": "Python 3",
   "language": "python",
   "name": "python3"
  },
  "language_info": {
   "codemirror_mode": {
    "name": "ipython",
    "version": 3
   },
   "file_extension": ".py",
   "mimetype": "text/x-python",
   "name": "python",
   "nbconvert_exporter": "python",
   "pygments_lexer": "ipython3",
   "version": "3.8.6"
  },
  "toc": {
   "base_numbering": 1,
   "nav_menu": {
    "height": "82px",
    "width": "168px"
   },
   "number_sections": true,
   "sideBar": true,
   "skip_h1_title": false,
   "title_cell": "Table of Contents",
   "title_sidebar": "Contents",
   "toc_cell": false,
   "toc_position": {
    "height": "calc(100% - 180px)",
    "left": "10px",
    "top": "150px",
    "width": "216px"
   },
   "toc_section_display": true,
   "toc_window_display": true
  },
  "toc-autonumbering": false,
  "toc-showcode": false,
  "toc-showmarkdowntxt": false,
  "toc-showtags": false
 },
 "nbformat": 4,
 "nbformat_minor": 5
}